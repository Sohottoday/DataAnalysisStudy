{
 "cells": [
  {
   "cell_type": "code",
   "execution_count": 4,
   "metadata": {},
   "outputs": [
    {
     "output_type": "execute_result",
     "data": {
      "text/plain": "                 매매기준율  현찰 - 사실 때  현찰 - 파실 때  송금 - 보내실 때  송금 - 받으실 때  미화환산율\n통화명                                                                        \n미국 USD         1122.50    1142.14    1102.86     1133.50     1111.50  1.000\n유럽연합 EUR       1304.23    1330.18    1278.28     1317.27     1291.19  1.162\n일본 JPY (100엔)  1007.22    1024.84     989.60     1017.09      997.35  0.897\n중국 CNY          163.96     172.15     155.77      165.59      162.33  0.146\n홍콩 HKD          143.02     145.83     140.21      144.45      141.59  0.127",
      "text/html": "<div>\n<style scoped>\n    .dataframe tbody tr th:only-of-type {\n        vertical-align: middle;\n    }\n\n    .dataframe tbody tr th {\n        vertical-align: top;\n    }\n\n    .dataframe thead th {\n        text-align: right;\n    }\n</style>\n<table border=\"1\" class=\"dataframe\">\n  <thead>\n    <tr style=\"text-align: right;\">\n      <th></th>\n      <th>매매기준율</th>\n      <th>현찰 - 사실 때</th>\n      <th>현찰 - 파실 때</th>\n      <th>송금 - 보내실 때</th>\n      <th>송금 - 받으실 때</th>\n      <th>미화환산율</th>\n    </tr>\n    <tr>\n      <th>통화명</th>\n      <th></th>\n      <th></th>\n      <th></th>\n      <th></th>\n      <th></th>\n      <th></th>\n    </tr>\n  </thead>\n  <tbody>\n    <tr>\n      <th>미국 USD</th>\n      <td>1122.50</td>\n      <td>1142.14</td>\n      <td>1102.86</td>\n      <td>1133.50</td>\n      <td>1111.50</td>\n      <td>1.000</td>\n    </tr>\n    <tr>\n      <th>유럽연합 EUR</th>\n      <td>1304.23</td>\n      <td>1330.18</td>\n      <td>1278.28</td>\n      <td>1317.27</td>\n      <td>1291.19</td>\n      <td>1.162</td>\n    </tr>\n    <tr>\n      <th>일본 JPY (100엔)</th>\n      <td>1007.22</td>\n      <td>1024.84</td>\n      <td>989.60</td>\n      <td>1017.09</td>\n      <td>997.35</td>\n      <td>0.897</td>\n    </tr>\n    <tr>\n      <th>중국 CNY</th>\n      <td>163.96</td>\n      <td>172.15</td>\n      <td>155.77</td>\n      <td>165.59</td>\n      <td>162.33</td>\n      <td>0.146</td>\n    </tr>\n    <tr>\n      <th>홍콩 HKD</th>\n      <td>143.02</td>\n      <td>145.83</td>\n      <td>140.21</td>\n      <td>144.45</td>\n      <td>141.59</td>\n      <td>0.127</td>\n    </tr>\n  </tbody>\n</table>\n</div>"
     },
     "metadata": {},
     "execution_count": 4
    }
   ],
   "source": [
    "import pandas as pd\n",
    "\n",
    "df = pd.read_excel('data/환율-20180914.xls', index_col='통화명')\n",
    "df.head()"
   ]
  },
  {
   "cell_type": "code",
   "execution_count": null,
   "metadata": {},
   "outputs": [],
   "source": [
    "# 한글 폰트 설정\n",
    "%matplotlib inline\n",
    "from matplotlib import rc\n",
    "from matplotlib import pyplot as plt\n",
    "plt.rcParams['axes.unicode_minus'] = False\n",
    "rc('font', family= 'Malgun Gothic')  #window일 경우\n",
    "#rc('font',family='AppleGothic') Mac일 경우\n",
    "\n",
    "df2 = df.sort_values('송금 - 보내실 때', ascending = True)    # 지정 빌드 오름차순 정렬\n",
    "\n",
    "# 지정 2개 컬럼에 대한 가로형 막대그래프를 10인치 * 10인치 크기로 그린다.\n",
    "df2[['송금 - 보내실 때', '송금 - 받으실 때']].plot(kind='barh', figsize = (10, 10))"
   ]
  },
  {
   "cell_type": "code",
   "execution_count": null,
   "metadata": {},
   "outputs": [],
   "source": [
    "2 ** 100"
   ]
  },
  {
   "cell_type": "code",
   "execution_count": null,
   "metadata": {},
   "outputs": [],
   "source": []
  }
 ],
 "metadata": {
  "language_info": {
   "codemirror_mode": {
    "name": "ipython",
    "version": 3
   },
   "file_extension": ".py",
   "mimetype": "text/x-python",
   "name": "python",
   "nbconvert_exporter": "python",
   "pygments_lexer": "ipython3",
   "version": "3.7.6-final"
  },
  "orig_nbformat": 2,
  "kernelspec": {
   "name": "python3",
   "display_name": "Python 3"
  }
 },
 "nbformat": 4,
 "nbformat_minor": 2
}