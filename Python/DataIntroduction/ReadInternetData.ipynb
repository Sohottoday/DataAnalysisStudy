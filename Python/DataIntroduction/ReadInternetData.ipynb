{
 "cells": [
  {
   "cell_type": "code",
   "execution_count": null,
   "metadata": {},
   "outputs": [],
   "source": [
    "# 인터넷 상의 데이터 읽기\n",
    "# URL상의 CSV 읽기 -> Pandas.read_(url)\n",
    "# 직접 크롤링을 통한 읽기\n",
    "\n",
    "# request/Selenium 라이브러리를 통한 처리\n",
    "# pandas.read_html(url) -> 내부적으로 requests 라이브러리 활용\n",
    "\n",
    "# pandas-datareader 라이브러리 (버전 0.7.0 기준)\n",
    "# 내부적으로 requests 라이브러리 활용\n",
    "# 지원 데이터 소스 : FRED, Nasdaq, Yahoo Finance, Google Finace 등 정식 API가 아닌 크롤링을 사용하는 것이기에 버전에 따라 오류 발생 가능\n",
    "\n",
    "# seaborn 라이브러리\n",
    "# 예제용 저장소 : https://github.com/mwaskom/seaborn-data\n"
   ]
  },
  {
   "cell_type": "code",
   "execution_count": null,
   "metadata": {},
   "outputs": [],
   "source": [
    "import pandas as pd"
   ]
  },
  {
   "cell_type": "code",
   "execution_count": null,
   "metadata": {},
   "outputs": [],
   "source": [
    "# pandas.read_csv 예제\n",
    "## 예제 : Kosdaq 종목코드 CSV URL : https://goo.gl/3p3bSG\n",
    "## 예제 : Kospi 종목코드 CSV URL : https://goo.gl/aUHznC\n",
    "\n",
    "df = pd.read_csv('url', index_col='종목명')     # 보려는 컬럼 강조\n",
    "print(df.shape)     # df의 형태 표시\n",
    "df.head()       # 상위 몇개의 항목만 표시\n",
    "df.loc['삼성전자']      # 보려는 항목의 상세정보 표시"
   ]
  },
  {
   "cell_type": "code",
   "execution_count": null,
   "metadata": {},
   "outputs": [],
   "source": [
    "# pandas.read_html\n",
    "## 웹페이지 크롤링을 쉽게 도와주는 라이브러리 -> 만능X\n",
    "## 웹페이지 상의 HTML table을 한 번에 로딩하기 위한 목적\n",
    "## 페이지가 DDOS를 막는 방화벽이 있다면 작동이 느림\n",
    "## HTML table에 데이터 외에 다른 문자열이 있을 경우 곤란 -> 직접 크롤링 하는 것이 간편\n",
    "\n",
    "df_list = pd.read_html('https://astro.kasi.re.kr:444/life/pageView/5', encoding='cp949')    # 연결하려는 주소 입력 , # 사이트에 맞게 인코딩 해줘야 함.\n",
    "print(len(df_list))\n",
    "df1 = df_list[0]\n",
    "print(df1.shape)\n",
    "df1.head()\n"
   ]
  },
  {
   "cell_type": "code",
   "execution_count": null,
   "metadata": {},
   "outputs": [],
   "source": [
    "# Pandas-datareader\n",
    "## 최신 버전 업그레이드 필수\n",
    "## pip install --upgrade pandas-datareader\n",
    "import pandas_datareader as pdr\n",
    "pdr.get_data_yahoo('035420.KS', '2018-01-01')       #2018년 코스닥 번호 035420인 종목 값 출력, 야후 사이트 참조"
   ]
  }
 ],
 "metadata": {
  "language_info": {
   "codemirror_mode": {
    "name": "ipython",
    "version": 3
   },
   "file_extension": ".py",
   "mimetype": "text/x-python",
   "name": "python",
   "nbconvert_exporter": "python",
   "pygments_lexer": "ipython3",
   "version": 3
  },
  "orig_nbformat": 2
 },
 "nbformat": 4,
 "nbformat_minor": 2
}