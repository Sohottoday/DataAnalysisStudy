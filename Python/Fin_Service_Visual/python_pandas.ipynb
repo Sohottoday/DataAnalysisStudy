{
 "cells": [
  {
   "cell_type": "code",
   "execution_count": 93,
   "metadata": {
    "id": "cRlZpEGPqfxJ"
   },
   "outputs": [],
   "source": [
    "# 관용적으로 아래와 같은 형식으로 import\n",
    "\n",
    "import pandas as pd\n",
    "import numpy as np\n",
    "import matplotlib.pyplot as plt"
   ]
  },
  {
   "cell_type": "markdown",
   "metadata": {
    "id": "Nzr9FTkjwum9"
   },
   "source": [
    "### 1. Pandas Series, DataFrame 생성하기"
   ]
  },
  {
   "cell_type": "code",
   "execution_count": 94,
   "metadata": {
    "colab": {
     "base_uri": "https://localhost:8080/",
     "height": 145
    },
    "id": "k3mfPc7fqkOE",
    "outputId": "cc4b0940-f916-486e-904a-353ebf289c5e"
   },
   "outputs": [
    {
     "name": "stdout",
     "output_type": "stream",
     "text": [
      "0    1.0\n",
      "1    3.0\n",
      "2    5.0\n",
      "3    NaN\n",
      "4    6.0\n",
      "5    8.0\n",
      "dtype: float64\n"
     ]
    }
   ],
   "source": [
    "s = pd.Series([1, 3, 5, np.nan, 6, 8])\n",
    "print(s)"
   ]
  },
  {
   "cell_type": "code",
   "execution_count": 95,
   "metadata": {
    "colab": {
     "base_uri": "https://localhost:8080/",
     "height": 72
    },
    "id": "hgDsc77Tv-0c",
    "outputId": "0b836cd9-ae7c-4b86-deae-69f6103efdcf"
   },
   "outputs": [
    {
     "name": "stdout",
     "output_type": "stream",
     "text": [
      "DatetimeIndex(['2013-01-01', '2013-01-02', '2013-01-03', '2013-01-04',\n",
      "               '2013-01-05', '2013-01-06'],\n",
      "              dtype='datetime64[ns]', freq='D')\n"
     ]
    }
   ],
   "source": [
    "dates = pd.date_range('20130101', periods=6)             # data_range : 날짜형 데이터를 다루는 함수, 13년 1월 1일부터 6일짜리 데이터를 만들으라는 의미\n",
    "print(dates)"
   ]
  },
  {
   "cell_type": "code",
   "execution_count": 96,
   "metadata": {
    "colab": {
     "base_uri": "https://localhost:8080/",
     "height": 145
    },
    "id": "EnmtitNgwA7X",
    "outputId": "163a47e0-bb6d-4bcb-ac55-45435bc191ce"
   },
   "outputs": [
    {
     "name": "stdout",
     "output_type": "stream",
     "text": [
      "                   A         B         C         D\n",
      "2013-01-01 -1.357541  0.477817  1.983660 -0.025874\n",
      "2013-01-02 -0.195263 -0.497347 -0.716584 -0.088287\n",
      "2013-01-03 -1.229426  0.620198 -1.110588  1.214980\n",
      "2013-01-04 -0.850019 -1.326143  0.247689  2.730618\n",
      "2013-01-05  0.673678 -1.165957 -1.021746  1.355295\n",
      "2013-01-06  0.282271  1.138726 -0.689579  0.828245\n"
     ]
    }
   ],
   "source": [
    "df = pd.DataFrame(np.random.randn(6,4), index=dates, columns=list('ABCD'))\n",
    "print(df)"
   ]
  },
  {
   "cell_type": "code",
   "execution_count": 97,
   "metadata": {
    "colab": {
     "base_uri": "https://localhost:8080/",
     "height": 108
    },
    "id": "fozVVFZywC68",
    "outputId": "ba37da3e-01d0-4d6c-da47-678985f737b1"
   },
   "outputs": [
    {
     "name": "stdout",
     "output_type": "stream",
     "text": [
      "     A          B    C  D      E\n",
      "0  1.0 2013-01-02  1.0  3  Pizza\n",
      "1  1.0 2013-01-02  1.0  3  Pizza\n",
      "2  1.0 2013-01-02  1.0  3  Pizza\n",
      "3  1.0 2013-01-02  1.0  3  Pizza\n"
     ]
    }
   ],
   "source": [
    "df2 = pd.DataFrame({'A': 1.,\n",
    "                    'B': pd.Timestamp('20130102'),\n",
    "                    'C': pd.Series(1, index=list(range(4)), dtype='float32'),\n",
    "                    'D': np.array([3]*4, dtype='int32'),\n",
    "                    'E': 'Pizza'})\n",
    "print(df2)"
   ]
  },
  {
   "cell_type": "markdown",
   "metadata": {
    "id": "oh6cxE75w3Hc"
   },
   "source": [
    "### 2. Data 조회하기"
   ]
  },
  {
   "cell_type": "code",
   "execution_count": 98,
   "metadata": {
    "colab": {
     "base_uri": "https://localhost:8080/",
     "height": 126
    },
    "id": "agCfQB60wK9X",
    "outputId": "026e2a1e-2cdc-47d8-9022-7c1def2f3e6e"
   },
   "outputs": [
    {
     "data": {
      "text/plain": [
       "A           float64\n",
       "B    datetime64[ns]\n",
       "C           float32\n",
       "D             int32\n",
       "E            object\n",
       "dtype: object"
      ]
     },
     "execution_count": 98,
     "metadata": {
      "tags": []
     },
     "output_type": "execute_result"
    }
   ],
   "source": [
    "df2.dtypes"
   ]
  },
  {
   "cell_type": "code",
   "execution_count": 99,
   "metadata": {
    "colab": {
     "base_uri": "https://localhost:8080/",
     "height": 198
    },
    "id": "-mMP5YPUwMu6",
    "outputId": "f5de6e4b-525a-4cc2-bb1f-f698438f6648"
   },
   "outputs": [
    {
     "data": {
      "text/html": [
       "<div>\n",
       "<style scoped>\n",
       "    .dataframe tbody tr th:only-of-type {\n",
       "        vertical-align: middle;\n",
       "    }\n",
       "\n",
       "    .dataframe tbody tr th {\n",
       "        vertical-align: top;\n",
       "    }\n",
       "\n",
       "    .dataframe thead th {\n",
       "        text-align: right;\n",
       "    }\n",
       "</style>\n",
       "<table border=\"1\" class=\"dataframe\">\n",
       "  <thead>\n",
       "    <tr style=\"text-align: right;\">\n",
       "      <th></th>\n",
       "      <th>A</th>\n",
       "      <th>B</th>\n",
       "      <th>C</th>\n",
       "      <th>D</th>\n",
       "    </tr>\n",
       "  </thead>\n",
       "  <tbody>\n",
       "    <tr>\n",
       "      <th>2013-01-01</th>\n",
       "      <td>-1.357541</td>\n",
       "      <td>0.477817</td>\n",
       "      <td>1.983660</td>\n",
       "      <td>-0.025874</td>\n",
       "    </tr>\n",
       "    <tr>\n",
       "      <th>2013-01-02</th>\n",
       "      <td>-0.195263</td>\n",
       "      <td>-0.497347</td>\n",
       "      <td>-0.716584</td>\n",
       "      <td>-0.088287</td>\n",
       "    </tr>\n",
       "    <tr>\n",
       "      <th>2013-01-03</th>\n",
       "      <td>-1.229426</td>\n",
       "      <td>0.620198</td>\n",
       "      <td>-1.110588</td>\n",
       "      <td>1.214980</td>\n",
       "    </tr>\n",
       "    <tr>\n",
       "      <th>2013-01-04</th>\n",
       "      <td>-0.850019</td>\n",
       "      <td>-1.326143</td>\n",
       "      <td>0.247689</td>\n",
       "      <td>2.730618</td>\n",
       "    </tr>\n",
       "    <tr>\n",
       "      <th>2013-01-05</th>\n",
       "      <td>0.673678</td>\n",
       "      <td>-1.165957</td>\n",
       "      <td>-1.021746</td>\n",
       "      <td>1.355295</td>\n",
       "    </tr>\n",
       "  </tbody>\n",
       "</table>\n",
       "</div>"
      ],
      "text/plain": [
       "                   A         B         C         D\n",
       "2013-01-01 -1.357541  0.477817  1.983660 -0.025874\n",
       "2013-01-02 -0.195263 -0.497347 -0.716584 -0.088287\n",
       "2013-01-03 -1.229426  0.620198 -1.110588  1.214980\n",
       "2013-01-04 -0.850019 -1.326143  0.247689  2.730618\n",
       "2013-01-05  0.673678 -1.165957 -1.021746  1.355295"
      ]
     },
     "execution_count": 99,
     "metadata": {
      "tags": []
     },
     "output_type": "execute_result"
    }
   ],
   "source": [
    "df.head()"
   ]
  },
  {
   "cell_type": "code",
   "execution_count": 100,
   "metadata": {
    "colab": {
     "base_uri": "https://localhost:8080/",
     "height": 138
    },
    "id": "v2nPQisnweC-",
    "outputId": "0dc4ab0b-b152-4d56-d129-4a72b28f6207"
   },
   "outputs": [
    {
     "data": {
      "text/html": [
       "<div>\n",
       "<style scoped>\n",
       "    .dataframe tbody tr th:only-of-type {\n",
       "        vertical-align: middle;\n",
       "    }\n",
       "\n",
       "    .dataframe tbody tr th {\n",
       "        vertical-align: top;\n",
       "    }\n",
       "\n",
       "    .dataframe thead th {\n",
       "        text-align: right;\n",
       "    }\n",
       "</style>\n",
       "<table border=\"1\" class=\"dataframe\">\n",
       "  <thead>\n",
       "    <tr style=\"text-align: right;\">\n",
       "      <th></th>\n",
       "      <th>A</th>\n",
       "      <th>B</th>\n",
       "      <th>C</th>\n",
       "      <th>D</th>\n",
       "    </tr>\n",
       "  </thead>\n",
       "  <tbody>\n",
       "    <tr>\n",
       "      <th>2013-01-04</th>\n",
       "      <td>-0.850019</td>\n",
       "      <td>-1.326143</td>\n",
       "      <td>0.247689</td>\n",
       "      <td>2.730618</td>\n",
       "    </tr>\n",
       "    <tr>\n",
       "      <th>2013-01-05</th>\n",
       "      <td>0.673678</td>\n",
       "      <td>-1.165957</td>\n",
       "      <td>-1.021746</td>\n",
       "      <td>1.355295</td>\n",
       "    </tr>\n",
       "    <tr>\n",
       "      <th>2013-01-06</th>\n",
       "      <td>0.282271</td>\n",
       "      <td>1.138726</td>\n",
       "      <td>-0.689579</td>\n",
       "      <td>0.828245</td>\n",
       "    </tr>\n",
       "  </tbody>\n",
       "</table>\n",
       "</div>"
      ],
      "text/plain": [
       "                   A         B         C         D\n",
       "2013-01-04 -0.850019 -1.326143  0.247689  2.730618\n",
       "2013-01-05  0.673678 -1.165957 -1.021746  1.355295\n",
       "2013-01-06  0.282271  1.138726 -0.689579  0.828245"
      ]
     },
     "execution_count": 100,
     "metadata": {
      "tags": []
     },
     "output_type": "execute_result"
    }
   ],
   "source": [
    "df.tail(3)"
   ]
  },
  {
   "cell_type": "code",
   "execution_count": 101,
   "metadata": {
    "colab": {
     "base_uri": "https://localhost:8080/",
     "height": 72
    },
    "id": "g5TpY4lAwe9n",
    "outputId": "4ff1467d-1d06-4b4f-b9aa-820f455d2d19"
   },
   "outputs": [
    {
     "data": {
      "text/plain": [
       "DatetimeIndex(['2013-01-01', '2013-01-02', '2013-01-03', '2013-01-04',\n",
       "               '2013-01-05', '2013-01-06'],\n",
       "              dtype='datetime64[ns]', freq='D')"
      ]
     },
     "execution_count": 101,
     "metadata": {
      "tags": []
     },
     "output_type": "execute_result"
    }
   ],
   "source": [
    "df.index"
   ]
  },
  {
   "cell_type": "code",
   "execution_count": 102,
   "metadata": {
    "colab": {
     "base_uri": "https://localhost:8080/",
     "height": 35
    },
    "id": "zTiqfbPnwhXa",
    "outputId": "b43afbe1-8302-463e-b52f-ae72ae717417"
   },
   "outputs": [
    {
     "data": {
      "text/plain": [
       "Index(['A', 'B', 'C', 'D'], dtype='object')"
      ]
     },
     "execution_count": 102,
     "metadata": {
      "tags": []
     },
     "output_type": "execute_result"
    }
   ],
   "source": [
    "df.columns"
   ]
  },
  {
   "cell_type": "code",
   "execution_count": 103,
   "metadata": {
    "colab": {
     "base_uri": "https://localhost:8080/",
     "height": 126
    },
    "id": "sRUC_0j8wiH4",
    "outputId": "a5ecd7cf-eac4-470c-be63-1904ab60c351"
   },
   "outputs": [
    {
     "data": {
      "text/plain": [
       "array([[-1.35754144,  0.47781715,  1.9836598 , -0.02587398],\n",
       "       [-0.19526282, -0.4973474 , -0.71658406, -0.08828678],\n",
       "       [-1.22942556,  0.62019777, -1.11058829,  1.21497977],\n",
       "       [-0.85001866, -1.32614283,  0.24768926,  2.73061811],\n",
       "       [ 0.67367826, -1.16595723, -1.02174642,  1.35529452],\n",
       "       [ 0.28227132,  1.13872558, -0.68957934,  0.82824465]])"
      ]
     },
     "execution_count": 103,
     "metadata": {
      "tags": []
     },
     "output_type": "execute_result"
    }
   ],
   "source": [
    "df.values"
   ]
  },
  {
   "cell_type": "code",
   "execution_count": 104,
   "metadata": {
    "colab": {
     "base_uri": "https://localhost:8080/",
     "height": 288
    },
    "id": "Jr-BsC_BwjQF",
    "outputId": "2851ad77-84e2-41f2-bfa0-ce573030042b"
   },
   "outputs": [
    {
     "data": {
      "text/html": [
       "<div>\n",
       "<style scoped>\n",
       "    .dataframe tbody tr th:only-of-type {\n",
       "        vertical-align: middle;\n",
       "    }\n",
       "\n",
       "    .dataframe tbody tr th {\n",
       "        vertical-align: top;\n",
       "    }\n",
       "\n",
       "    .dataframe thead th {\n",
       "        text-align: right;\n",
       "    }\n",
       "</style>\n",
       "<table border=\"1\" class=\"dataframe\">\n",
       "  <thead>\n",
       "    <tr style=\"text-align: right;\">\n",
       "      <th></th>\n",
       "      <th>A</th>\n",
       "      <th>B</th>\n",
       "      <th>C</th>\n",
       "      <th>D</th>\n",
       "    </tr>\n",
       "  </thead>\n",
       "  <tbody>\n",
       "    <tr>\n",
       "      <th>count</th>\n",
       "      <td>6.000000</td>\n",
       "      <td>6.000000</td>\n",
       "      <td>6.000000</td>\n",
       "      <td>6.000000</td>\n",
       "    </tr>\n",
       "    <tr>\n",
       "      <th>mean</th>\n",
       "      <td>-0.446050</td>\n",
       "      <td>-0.125451</td>\n",
       "      <td>-0.217858</td>\n",
       "      <td>1.002496</td>\n",
       "    </tr>\n",
       "    <tr>\n",
       "      <th>std</th>\n",
       "      <td>0.831243</td>\n",
       "      <td>1.017908</td>\n",
       "      <td>1.181344</td>\n",
       "      <td>1.042472</td>\n",
       "    </tr>\n",
       "    <tr>\n",
       "      <th>min</th>\n",
       "      <td>-1.357541</td>\n",
       "      <td>-1.326143</td>\n",
       "      <td>-1.110588</td>\n",
       "      <td>-0.088287</td>\n",
       "    </tr>\n",
       "    <tr>\n",
       "      <th>25%</th>\n",
       "      <td>-1.134574</td>\n",
       "      <td>-0.998805</td>\n",
       "      <td>-0.945456</td>\n",
       "      <td>0.187656</td>\n",
       "    </tr>\n",
       "    <tr>\n",
       "      <th>50%</th>\n",
       "      <td>-0.522641</td>\n",
       "      <td>-0.009765</td>\n",
       "      <td>-0.703082</td>\n",
       "      <td>1.021612</td>\n",
       "    </tr>\n",
       "    <tr>\n",
       "      <th>75%</th>\n",
       "      <td>0.162888</td>\n",
       "      <td>0.584603</td>\n",
       "      <td>0.013372</td>\n",
       "      <td>1.320216</td>\n",
       "    </tr>\n",
       "    <tr>\n",
       "      <th>max</th>\n",
       "      <td>0.673678</td>\n",
       "      <td>1.138726</td>\n",
       "      <td>1.983660</td>\n",
       "      <td>2.730618</td>\n",
       "    </tr>\n",
       "  </tbody>\n",
       "</table>\n",
       "</div>"
      ],
      "text/plain": [
       "              A         B         C         D\n",
       "count  6.000000  6.000000  6.000000  6.000000\n",
       "mean  -0.446050 -0.125451 -0.217858  1.002496\n",
       "std    0.831243  1.017908  1.181344  1.042472\n",
       "min   -1.357541 -1.326143 -1.110588 -0.088287\n",
       "25%   -1.134574 -0.998805 -0.945456  0.187656\n",
       "50%   -0.522641 -0.009765 -0.703082  1.021612\n",
       "75%    0.162888  0.584603  0.013372  1.320216\n",
       "max    0.673678  1.138726  1.983660  2.730618"
      ]
     },
     "execution_count": 104,
     "metadata": {
      "tags": []
     },
     "output_type": "execute_result"
    }
   ],
   "source": [
    "df.describe()        # 간단한 분석을 출력해준다."
   ]
  },
  {
   "cell_type": "code",
   "execution_count": 105,
   "metadata": {
    "colab": {
     "base_uri": "https://localhost:8080/",
     "height": 228
    },
    "id": "NxhvFNMywl1l",
    "outputId": "4bcdd623-e8ff-4353-b5d2-eb80eaced24d"
   },
   "outputs": [
    {
     "data": {
      "text/html": [
       "<div>\n",
       "<style scoped>\n",
       "    .dataframe tbody tr th:only-of-type {\n",
       "        vertical-align: middle;\n",
       "    }\n",
       "\n",
       "    .dataframe tbody tr th {\n",
       "        vertical-align: top;\n",
       "    }\n",
       "\n",
       "    .dataframe thead th {\n",
       "        text-align: right;\n",
       "    }\n",
       "</style>\n",
       "<table border=\"1\" class=\"dataframe\">\n",
       "  <thead>\n",
       "    <tr style=\"text-align: right;\">\n",
       "      <th></th>\n",
       "      <th>D</th>\n",
       "      <th>C</th>\n",
       "      <th>B</th>\n",
       "      <th>A</th>\n",
       "    </tr>\n",
       "  </thead>\n",
       "  <tbody>\n",
       "    <tr>\n",
       "      <th>2013-01-01</th>\n",
       "      <td>-0.025874</td>\n",
       "      <td>1.983660</td>\n",
       "      <td>0.477817</td>\n",
       "      <td>-1.357541</td>\n",
       "    </tr>\n",
       "    <tr>\n",
       "      <th>2013-01-02</th>\n",
       "      <td>-0.088287</td>\n",
       "      <td>-0.716584</td>\n",
       "      <td>-0.497347</td>\n",
       "      <td>-0.195263</td>\n",
       "    </tr>\n",
       "    <tr>\n",
       "      <th>2013-01-03</th>\n",
       "      <td>1.214980</td>\n",
       "      <td>-1.110588</td>\n",
       "      <td>0.620198</td>\n",
       "      <td>-1.229426</td>\n",
       "    </tr>\n",
       "    <tr>\n",
       "      <th>2013-01-04</th>\n",
       "      <td>2.730618</td>\n",
       "      <td>0.247689</td>\n",
       "      <td>-1.326143</td>\n",
       "      <td>-0.850019</td>\n",
       "    </tr>\n",
       "    <tr>\n",
       "      <th>2013-01-05</th>\n",
       "      <td>1.355295</td>\n",
       "      <td>-1.021746</td>\n",
       "      <td>-1.165957</td>\n",
       "      <td>0.673678</td>\n",
       "    </tr>\n",
       "    <tr>\n",
       "      <th>2013-01-06</th>\n",
       "      <td>0.828245</td>\n",
       "      <td>-0.689579</td>\n",
       "      <td>1.138726</td>\n",
       "      <td>0.282271</td>\n",
       "    </tr>\n",
       "  </tbody>\n",
       "</table>\n",
       "</div>"
      ],
      "text/plain": [
       "                   D         C         B         A\n",
       "2013-01-01 -0.025874  1.983660  0.477817 -1.357541\n",
       "2013-01-02 -0.088287 -0.716584 -0.497347 -0.195263\n",
       "2013-01-03  1.214980 -1.110588  0.620198 -1.229426\n",
       "2013-01-04  2.730618  0.247689 -1.326143 -0.850019\n",
       "2013-01-05  1.355295 -1.021746 -1.165957  0.673678\n",
       "2013-01-06  0.828245 -0.689579  1.138726  0.282271"
      ]
     },
     "execution_count": 105,
     "metadata": {
      "tags": []
     },
     "output_type": "execute_result"
    }
   ],
   "source": [
    "df.sort_index(axis=1, ascending=False)"
   ]
  },
  {
   "cell_type": "code",
   "execution_count": 106,
   "metadata": {
    "colab": {
     "base_uri": "https://localhost:8080/",
     "height": 228
    },
    "id": "CERC-gARwoJI",
    "outputId": "f63c349d-cb67-47a7-b469-72ca64ffed2d"
   },
   "outputs": [
    {
     "data": {
      "text/html": [
       "<div>\n",
       "<style scoped>\n",
       "    .dataframe tbody tr th:only-of-type {\n",
       "        vertical-align: middle;\n",
       "    }\n",
       "\n",
       "    .dataframe tbody tr th {\n",
       "        vertical-align: top;\n",
       "    }\n",
       "\n",
       "    .dataframe thead th {\n",
       "        text-align: right;\n",
       "    }\n",
       "</style>\n",
       "<table border=\"1\" class=\"dataframe\">\n",
       "  <thead>\n",
       "    <tr style=\"text-align: right;\">\n",
       "      <th></th>\n",
       "      <th>A</th>\n",
       "      <th>B</th>\n",
       "      <th>C</th>\n",
       "      <th>D</th>\n",
       "    </tr>\n",
       "  </thead>\n",
       "  <tbody>\n",
       "    <tr>\n",
       "      <th>2013-01-03</th>\n",
       "      <td>-1.229426</td>\n",
       "      <td>0.620198</td>\n",
       "      <td>-1.110588</td>\n",
       "      <td>1.214980</td>\n",
       "    </tr>\n",
       "    <tr>\n",
       "      <th>2013-01-05</th>\n",
       "      <td>0.673678</td>\n",
       "      <td>-1.165957</td>\n",
       "      <td>-1.021746</td>\n",
       "      <td>1.355295</td>\n",
       "    </tr>\n",
       "    <tr>\n",
       "      <th>2013-01-02</th>\n",
       "      <td>-0.195263</td>\n",
       "      <td>-0.497347</td>\n",
       "      <td>-0.716584</td>\n",
       "      <td>-0.088287</td>\n",
       "    </tr>\n",
       "    <tr>\n",
       "      <th>2013-01-06</th>\n",
       "      <td>0.282271</td>\n",
       "      <td>1.138726</td>\n",
       "      <td>-0.689579</td>\n",
       "      <td>0.828245</td>\n",
       "    </tr>\n",
       "    <tr>\n",
       "      <th>2013-01-04</th>\n",
       "      <td>-0.850019</td>\n",
       "      <td>-1.326143</td>\n",
       "      <td>0.247689</td>\n",
       "      <td>2.730618</td>\n",
       "    </tr>\n",
       "    <tr>\n",
       "      <th>2013-01-01</th>\n",
       "      <td>-1.357541</td>\n",
       "      <td>0.477817</td>\n",
       "      <td>1.983660</td>\n",
       "      <td>-0.025874</td>\n",
       "    </tr>\n",
       "  </tbody>\n",
       "</table>\n",
       "</div>"
      ],
      "text/plain": [
       "                   A         B         C         D\n",
       "2013-01-03 -1.229426  0.620198 -1.110588  1.214980\n",
       "2013-01-05  0.673678 -1.165957 -1.021746  1.355295\n",
       "2013-01-02 -0.195263 -0.497347 -0.716584 -0.088287\n",
       "2013-01-06  0.282271  1.138726 -0.689579  0.828245\n",
       "2013-01-04 -0.850019 -1.326143  0.247689  2.730618\n",
       "2013-01-01 -1.357541  0.477817  1.983660 -0.025874"
      ]
     },
     "execution_count": 106,
     "metadata": {
      "tags": []
     },
     "output_type": "execute_result"
    }
   ],
   "source": [
    "df.sort_values(by='C')"
   ]
  },
  {
   "cell_type": "markdown",
   "metadata": {
    "id": "pBGmGkPYw-uF"
   },
   "source": [
    "### 3. Data 선택하기"
   ]
  },
  {
   "cell_type": "code",
   "execution_count": 107,
   "metadata": {
    "colab": {
     "base_uri": "https://localhost:8080/",
     "height": 145
    },
    "id": "7Fuj-z9bwqTY",
    "outputId": "cf861216-e23d-469f-a507-5e5b75ecd570"
   },
   "outputs": [
    {
     "data": {
      "text/plain": [
       "2013-01-01   -1.357541\n",
       "2013-01-02   -0.195263\n",
       "2013-01-03   -1.229426\n",
       "2013-01-04   -0.850019\n",
       "2013-01-05    0.673678\n",
       "2013-01-06    0.282271\n",
       "Freq: D, Name: A, dtype: float64"
      ]
     },
     "execution_count": 107,
     "metadata": {
      "tags": []
     },
     "output_type": "execute_result"
    }
   ],
   "source": [
    "df['A']"
   ]
  },
  {
   "cell_type": "code",
   "execution_count": 108,
   "metadata": {
    "colab": {
     "base_uri": "https://localhost:8080/",
     "height": 35
    },
    "id": "FrIKxIX4xBdE",
    "outputId": "468ccd5e-6bad-4748-a30d-63deb2e9d0f1"
   },
   "outputs": [
    {
     "data": {
      "text/plain": [
       "pandas.core.series.Series"
      ]
     },
     "execution_count": 108,
     "metadata": {
      "tags": []
     },
     "output_type": "execute_result"
    }
   ],
   "source": [
    "type(df['A'])"
   ]
  },
  {
   "cell_type": "code",
   "execution_count": 109,
   "metadata": {
    "colab": {
     "base_uri": "https://localhost:8080/",
     "height": 138
    },
    "id": "5GYxleMMxDmX",
    "outputId": "15251402-ca95-462d-c4f7-b264e4f4a290"
   },
   "outputs": [
    {
     "data": {
      "text/html": [
       "<div>\n",
       "<style scoped>\n",
       "    .dataframe tbody tr th:only-of-type {\n",
       "        vertical-align: middle;\n",
       "    }\n",
       "\n",
       "    .dataframe tbody tr th {\n",
       "        vertical-align: top;\n",
       "    }\n",
       "\n",
       "    .dataframe thead th {\n",
       "        text-align: right;\n",
       "    }\n",
       "</style>\n",
       "<table border=\"1\" class=\"dataframe\">\n",
       "  <thead>\n",
       "    <tr style=\"text-align: right;\">\n",
       "      <th></th>\n",
       "      <th>A</th>\n",
       "      <th>B</th>\n",
       "      <th>C</th>\n",
       "      <th>D</th>\n",
       "    </tr>\n",
       "  </thead>\n",
       "  <tbody>\n",
       "    <tr>\n",
       "      <th>2013-01-01</th>\n",
       "      <td>-1.357541</td>\n",
       "      <td>0.477817</td>\n",
       "      <td>1.983660</td>\n",
       "      <td>-0.025874</td>\n",
       "    </tr>\n",
       "    <tr>\n",
       "      <th>2013-01-02</th>\n",
       "      <td>-0.195263</td>\n",
       "      <td>-0.497347</td>\n",
       "      <td>-0.716584</td>\n",
       "      <td>-0.088287</td>\n",
       "    </tr>\n",
       "    <tr>\n",
       "      <th>2013-01-03</th>\n",
       "      <td>-1.229426</td>\n",
       "      <td>0.620198</td>\n",
       "      <td>-1.110588</td>\n",
       "      <td>1.214980</td>\n",
       "    </tr>\n",
       "  </tbody>\n",
       "</table>\n",
       "</div>"
      ],
      "text/plain": [
       "                   A         B         C         D\n",
       "2013-01-01 -1.357541  0.477817  1.983660 -0.025874\n",
       "2013-01-02 -0.195263 -0.497347 -0.716584 -0.088287\n",
       "2013-01-03 -1.229426  0.620198 -1.110588  1.214980"
      ]
     },
     "execution_count": 109,
     "metadata": {
      "tags": []
     },
     "output_type": "execute_result"
    }
   ],
   "source": [
    "df[0:3]"
   ]
  },
  {
   "cell_type": "code",
   "execution_count": 110,
   "metadata": {
    "colab": {
     "base_uri": "https://localhost:8080/",
     "height": 138
    },
    "id": "TNk6ZW7gxHEr",
    "outputId": "44426889-70e1-4bf7-d4f9-05c8344c7bc6"
   },
   "outputs": [
    {
     "data": {
      "text/html": [
       "<div>\n",
       "<style scoped>\n",
       "    .dataframe tbody tr th:only-of-type {\n",
       "        vertical-align: middle;\n",
       "    }\n",
       "\n",
       "    .dataframe tbody tr th {\n",
       "        vertical-align: top;\n",
       "    }\n",
       "\n",
       "    .dataframe thead th {\n",
       "        text-align: right;\n",
       "    }\n",
       "</style>\n",
       "<table border=\"1\" class=\"dataframe\">\n",
       "  <thead>\n",
       "    <tr style=\"text-align: right;\">\n",
       "      <th></th>\n",
       "      <th>A</th>\n",
       "      <th>B</th>\n",
       "      <th>C</th>\n",
       "      <th>D</th>\n",
       "    </tr>\n",
       "  </thead>\n",
       "  <tbody>\n",
       "    <tr>\n",
       "      <th>2013-01-02</th>\n",
       "      <td>-0.195263</td>\n",
       "      <td>-0.497347</td>\n",
       "      <td>-0.716584</td>\n",
       "      <td>-0.088287</td>\n",
       "    </tr>\n",
       "    <tr>\n",
       "      <th>2013-01-03</th>\n",
       "      <td>-1.229426</td>\n",
       "      <td>0.620198</td>\n",
       "      <td>-1.110588</td>\n",
       "      <td>1.214980</td>\n",
       "    </tr>\n",
       "    <tr>\n",
       "      <th>2013-01-04</th>\n",
       "      <td>-0.850019</td>\n",
       "      <td>-1.326143</td>\n",
       "      <td>0.247689</td>\n",
       "      <td>2.730618</td>\n",
       "    </tr>\n",
       "  </tbody>\n",
       "</table>\n",
       "</div>"
      ],
      "text/plain": [
       "                   A         B         C         D\n",
       "2013-01-02 -0.195263 -0.497347 -0.716584 -0.088287\n",
       "2013-01-03 -1.229426  0.620198 -1.110588  1.214980\n",
       "2013-01-04 -0.850019 -1.326143  0.247689  2.730618"
      ]
     },
     "execution_count": 110,
     "metadata": {
      "tags": []
     },
     "output_type": "execute_result"
    }
   ],
   "source": [
    "df['20130102':'20130104']"
   ]
  },
  {
   "cell_type": "markdown",
   "metadata": {
    "id": "HJiT_usfxK-5"
   },
   "source": [
    "#### 이름으로 특정 위치의 데이터 선택하기 (.loc)"
   ]
  },
  {
   "cell_type": "code",
   "execution_count": 111,
   "metadata": {
    "colab": {
     "base_uri": "https://localhost:8080/",
     "height": 228
    },
    "id": "GgQtMDHVxlzv",
    "outputId": "a3142e20-a6cf-45a8-e8a5-a26fc5e5dbd9"
   },
   "outputs": [
    {
     "data": {
      "text/html": [
       "<div>\n",
       "<style scoped>\n",
       "    .dataframe tbody tr th:only-of-type {\n",
       "        vertical-align: middle;\n",
       "    }\n",
       "\n",
       "    .dataframe tbody tr th {\n",
       "        vertical-align: top;\n",
       "    }\n",
       "\n",
       "    .dataframe thead th {\n",
       "        text-align: right;\n",
       "    }\n",
       "</style>\n",
       "<table border=\"1\" class=\"dataframe\">\n",
       "  <thead>\n",
       "    <tr style=\"text-align: right;\">\n",
       "      <th></th>\n",
       "      <th>A</th>\n",
       "      <th>B</th>\n",
       "      <th>C</th>\n",
       "      <th>D</th>\n",
       "    </tr>\n",
       "  </thead>\n",
       "  <tbody>\n",
       "    <tr>\n",
       "      <th>2013-01-01</th>\n",
       "      <td>-1.357541</td>\n",
       "      <td>0.477817</td>\n",
       "      <td>1.983660</td>\n",
       "      <td>-0.025874</td>\n",
       "    </tr>\n",
       "    <tr>\n",
       "      <th>2013-01-02</th>\n",
       "      <td>-0.195263</td>\n",
       "      <td>-0.497347</td>\n",
       "      <td>-0.716584</td>\n",
       "      <td>-0.088287</td>\n",
       "    </tr>\n",
       "    <tr>\n",
       "      <th>2013-01-03</th>\n",
       "      <td>-1.229426</td>\n",
       "      <td>0.620198</td>\n",
       "      <td>-1.110588</td>\n",
       "      <td>1.214980</td>\n",
       "    </tr>\n",
       "    <tr>\n",
       "      <th>2013-01-04</th>\n",
       "      <td>-0.850019</td>\n",
       "      <td>-1.326143</td>\n",
       "      <td>0.247689</td>\n",
       "      <td>2.730618</td>\n",
       "    </tr>\n",
       "    <tr>\n",
       "      <th>2013-01-05</th>\n",
       "      <td>0.673678</td>\n",
       "      <td>-1.165957</td>\n",
       "      <td>-1.021746</td>\n",
       "      <td>1.355295</td>\n",
       "    </tr>\n",
       "    <tr>\n",
       "      <th>2013-01-06</th>\n",
       "      <td>0.282271</td>\n",
       "      <td>1.138726</td>\n",
       "      <td>-0.689579</td>\n",
       "      <td>0.828245</td>\n",
       "    </tr>\n",
       "  </tbody>\n",
       "</table>\n",
       "</div>"
      ],
      "text/plain": [
       "                   A         B         C         D\n",
       "2013-01-01 -1.357541  0.477817  1.983660 -0.025874\n",
       "2013-01-02 -0.195263 -0.497347 -0.716584 -0.088287\n",
       "2013-01-03 -1.229426  0.620198 -1.110588  1.214980\n",
       "2013-01-04 -0.850019 -1.326143  0.247689  2.730618\n",
       "2013-01-05  0.673678 -1.165957 -1.021746  1.355295\n",
       "2013-01-06  0.282271  1.138726 -0.689579  0.828245"
      ]
     },
     "execution_count": 111,
     "metadata": {
      "tags": []
     },
     "output_type": "execute_result"
    }
   ],
   "source": [
    "df"
   ]
  },
  {
   "cell_type": "code",
   "execution_count": 112,
   "metadata": {
    "colab": {
     "base_uri": "https://localhost:8080/",
     "height": 108
    },
    "id": "l3zvvPQ2xHSX",
    "outputId": "5355c0e6-45d0-4a4b-de37-4df27a68cc50"
   },
   "outputs": [
    {
     "data": {
      "text/plain": [
       "A   -1.229426\n",
       "B    0.620198\n",
       "C   -1.110588\n",
       "D    1.214980\n",
       "Name: 2013-01-03 00:00:00, dtype: float64"
      ]
     },
     "execution_count": 112,
     "metadata": {
      "tags": []
     },
     "output_type": "execute_result"
    }
   ],
   "source": [
    "#df.loc[dates[0]]\n",
    "df.loc['2013-01-03']"
   ]
  },
  {
   "cell_type": "code",
   "execution_count": 113,
   "metadata": {
    "colab": {
     "base_uri": "https://localhost:8080/",
     "height": 228
    },
    "id": "dnALxV4DxHJH",
    "outputId": "7f8064aa-b1f3-43ac-8214-f70d64185aeb"
   },
   "outputs": [
    {
     "data": {
      "text/html": [
       "<div>\n",
       "<style scoped>\n",
       "    .dataframe tbody tr th:only-of-type {\n",
       "        vertical-align: middle;\n",
       "    }\n",
       "\n",
       "    .dataframe tbody tr th {\n",
       "        vertical-align: top;\n",
       "    }\n",
       "\n",
       "    .dataframe thead th {\n",
       "        text-align: right;\n",
       "    }\n",
       "</style>\n",
       "<table border=\"1\" class=\"dataframe\">\n",
       "  <thead>\n",
       "    <tr style=\"text-align: right;\">\n",
       "      <th></th>\n",
       "      <th>A</th>\n",
       "      <th>B</th>\n",
       "    </tr>\n",
       "  </thead>\n",
       "  <tbody>\n",
       "    <tr>\n",
       "      <th>2013-01-01</th>\n",
       "      <td>-1.357541</td>\n",
       "      <td>0.477817</td>\n",
       "    </tr>\n",
       "    <tr>\n",
       "      <th>2013-01-02</th>\n",
       "      <td>-0.195263</td>\n",
       "      <td>-0.497347</td>\n",
       "    </tr>\n",
       "    <tr>\n",
       "      <th>2013-01-03</th>\n",
       "      <td>-1.229426</td>\n",
       "      <td>0.620198</td>\n",
       "    </tr>\n",
       "    <tr>\n",
       "      <th>2013-01-04</th>\n",
       "      <td>-0.850019</td>\n",
       "      <td>-1.326143</td>\n",
       "    </tr>\n",
       "    <tr>\n",
       "      <th>2013-01-05</th>\n",
       "      <td>0.673678</td>\n",
       "      <td>-1.165957</td>\n",
       "    </tr>\n",
       "    <tr>\n",
       "      <th>2013-01-06</th>\n",
       "      <td>0.282271</td>\n",
       "      <td>1.138726</td>\n",
       "    </tr>\n",
       "  </tbody>\n",
       "</table>\n",
       "</div>"
      ],
      "text/plain": [
       "                   A         B\n",
       "2013-01-01 -1.357541  0.477817\n",
       "2013-01-02 -0.195263 -0.497347\n",
       "2013-01-03 -1.229426  0.620198\n",
       "2013-01-04 -0.850019 -1.326143\n",
       "2013-01-05  0.673678 -1.165957\n",
       "2013-01-06  0.282271  1.138726"
      ]
     },
     "execution_count": 113,
     "metadata": {
      "tags": []
     },
     "output_type": "execute_result"
    }
   ],
   "source": [
    "df.loc[:,['A','B']]"
   ]
  },
  {
   "cell_type": "code",
   "execution_count": 114,
   "metadata": {
    "colab": {
     "base_uri": "https://localhost:8080/",
     "height": 138
    },
    "id": "FxjeIieexHGt",
    "outputId": "7ea52e57-18ae-4310-b39f-0b47457dc4ce"
   },
   "outputs": [
    {
     "data": {
      "text/html": [
       "<div>\n",
       "<style scoped>\n",
       "    .dataframe tbody tr th:only-of-type {\n",
       "        vertical-align: middle;\n",
       "    }\n",
       "\n",
       "    .dataframe tbody tr th {\n",
       "        vertical-align: top;\n",
       "    }\n",
       "\n",
       "    .dataframe thead th {\n",
       "        text-align: right;\n",
       "    }\n",
       "</style>\n",
       "<table border=\"1\" class=\"dataframe\">\n",
       "  <thead>\n",
       "    <tr style=\"text-align: right;\">\n",
       "      <th></th>\n",
       "      <th>A</th>\n",
       "      <th>B</th>\n",
       "    </tr>\n",
       "  </thead>\n",
       "  <tbody>\n",
       "    <tr>\n",
       "      <th>2013-01-02</th>\n",
       "      <td>-0.195263</td>\n",
       "      <td>-0.497347</td>\n",
       "    </tr>\n",
       "    <tr>\n",
       "      <th>2013-01-03</th>\n",
       "      <td>-1.229426</td>\n",
       "      <td>0.620198</td>\n",
       "    </tr>\n",
       "    <tr>\n",
       "      <th>2013-01-04</th>\n",
       "      <td>-0.850019</td>\n",
       "      <td>-1.326143</td>\n",
       "    </tr>\n",
       "  </tbody>\n",
       "</table>\n",
       "</div>"
      ],
      "text/plain": [
       "                   A         B\n",
       "2013-01-02 -0.195263 -0.497347\n",
       "2013-01-03 -1.229426  0.620198\n",
       "2013-01-04 -0.850019 -1.326143"
      ]
     },
     "execution_count": 114,
     "metadata": {
      "tags": []
     },
     "output_type": "execute_result"
    }
   ],
   "source": [
    "df.loc['20130102':'20130104',['A','B']]"
   ]
  },
  {
   "cell_type": "code",
   "execution_count": 115,
   "metadata": {
    "colab": {
     "base_uri": "https://localhost:8080/",
     "height": 72
    },
    "id": "4h5O_bhAxGSR",
    "outputId": "4aef1c98-b548-49d8-bd29-59003c96aff5"
   },
   "outputs": [
    {
     "data": {
      "text/plain": [
       "A   -1.357541\n",
       "B    0.477817\n",
       "Name: 2013-01-01 00:00:00, dtype: float64"
      ]
     },
     "execution_count": 115,
     "metadata": {
      "tags": []
     },
     "output_type": "execute_result"
    }
   ],
   "source": [
    "df.loc[dates[0], ['A','B']]"
   ]
  },
  {
   "cell_type": "code",
   "execution_count": 116,
   "metadata": {
    "colab": {
     "base_uri": "https://localhost:8080/",
     "height": 35
    },
    "id": "GW_Lt3VAxGOB",
    "outputId": "6670a809-baaf-4ae6-9d5b-710c644ab135"
   },
   "outputs": [
    {
     "data": {
      "text/plain": [
       "-1.3575414433642503"
      ]
     },
     "execution_count": 116,
     "metadata": {
      "tags": []
     },
     "output_type": "execute_result"
    }
   ],
   "source": [
    "df.loc[dates[0],'A']"
   ]
  },
  {
   "cell_type": "code",
   "execution_count": 117,
   "metadata": {
    "colab": {
     "base_uri": "https://localhost:8080/",
     "height": 35
    },
    "id": "HFi057Erxtp6",
    "outputId": "b87cf3b9-7fb2-4a4d-f830-6f724396d636"
   },
   "outputs": [
    {
     "data": {
      "text/plain": [
       "-1.3575414433642503"
      ]
     },
     "execution_count": 117,
     "metadata": {
      "tags": []
     },
     "output_type": "execute_result"
    }
   ],
   "source": [
    "df.at[dates[0], 'A']"
   ]
  },
  {
   "cell_type": "markdown",
   "metadata": {
    "id": "waVIhQ7ixvdV"
   },
   "source": [
    "#### 정수 인덱스를 이용해 선택하기 (.iloc)"
   ]
  },
  {
   "cell_type": "code",
   "execution_count": 118,
   "metadata": {
    "colab": {
     "base_uri": "https://localhost:8080/",
     "height": 228
    },
    "id": "IXtAs-odyC9E",
    "outputId": "b27191a3-2dd0-410b-a59e-92c3592e3e44"
   },
   "outputs": [
    {
     "data": {
      "text/html": [
       "<div>\n",
       "<style scoped>\n",
       "    .dataframe tbody tr th:only-of-type {\n",
       "        vertical-align: middle;\n",
       "    }\n",
       "\n",
       "    .dataframe tbody tr th {\n",
       "        vertical-align: top;\n",
       "    }\n",
       "\n",
       "    .dataframe thead th {\n",
       "        text-align: right;\n",
       "    }\n",
       "</style>\n",
       "<table border=\"1\" class=\"dataframe\">\n",
       "  <thead>\n",
       "    <tr style=\"text-align: right;\">\n",
       "      <th></th>\n",
       "      <th>A</th>\n",
       "      <th>B</th>\n",
       "      <th>C</th>\n",
       "      <th>D</th>\n",
       "    </tr>\n",
       "  </thead>\n",
       "  <tbody>\n",
       "    <tr>\n",
       "      <th>2013-01-01</th>\n",
       "      <td>-1.357541</td>\n",
       "      <td>0.477817</td>\n",
       "      <td>1.983660</td>\n",
       "      <td>-0.025874</td>\n",
       "    </tr>\n",
       "    <tr>\n",
       "      <th>2013-01-02</th>\n",
       "      <td>-0.195263</td>\n",
       "      <td>-0.497347</td>\n",
       "      <td>-0.716584</td>\n",
       "      <td>-0.088287</td>\n",
       "    </tr>\n",
       "    <tr>\n",
       "      <th>2013-01-03</th>\n",
       "      <td>-1.229426</td>\n",
       "      <td>0.620198</td>\n",
       "      <td>-1.110588</td>\n",
       "      <td>1.214980</td>\n",
       "    </tr>\n",
       "    <tr>\n",
       "      <th>2013-01-04</th>\n",
       "      <td>-0.850019</td>\n",
       "      <td>-1.326143</td>\n",
       "      <td>0.247689</td>\n",
       "      <td>2.730618</td>\n",
       "    </tr>\n",
       "    <tr>\n",
       "      <th>2013-01-05</th>\n",
       "      <td>0.673678</td>\n",
       "      <td>-1.165957</td>\n",
       "      <td>-1.021746</td>\n",
       "      <td>1.355295</td>\n",
       "    </tr>\n",
       "    <tr>\n",
       "      <th>2013-01-06</th>\n",
       "      <td>0.282271</td>\n",
       "      <td>1.138726</td>\n",
       "      <td>-0.689579</td>\n",
       "      <td>0.828245</td>\n",
       "    </tr>\n",
       "  </tbody>\n",
       "</table>\n",
       "</div>"
      ],
      "text/plain": [
       "                   A         B         C         D\n",
       "2013-01-01 -1.357541  0.477817  1.983660 -0.025874\n",
       "2013-01-02 -0.195263 -0.497347 -0.716584 -0.088287\n",
       "2013-01-03 -1.229426  0.620198 -1.110588  1.214980\n",
       "2013-01-04 -0.850019 -1.326143  0.247689  2.730618\n",
       "2013-01-05  0.673678 -1.165957 -1.021746  1.355295\n",
       "2013-01-06  0.282271  1.138726 -0.689579  0.828245"
      ]
     },
     "execution_count": 118,
     "metadata": {
      "tags": []
     },
     "output_type": "execute_result"
    }
   ],
   "source": [
    "df"
   ]
  },
  {
   "cell_type": "code",
   "execution_count": 119,
   "metadata": {
    "colab": {
     "base_uri": "https://localhost:8080/",
     "height": 108
    },
    "id": "rWAv6mHDxub0",
    "outputId": "0b8a772b-40c7-4449-c8b5-563ceb739dde"
   },
   "outputs": [
    {
     "data": {
      "text/plain": [
       "A   -0.850019\n",
       "B   -1.326143\n",
       "C    0.247689\n",
       "D    2.730618\n",
       "Name: 2013-01-04 00:00:00, dtype: float64"
      ]
     },
     "execution_count": 119,
     "metadata": {
      "tags": []
     },
     "output_type": "execute_result"
    }
   ],
   "source": [
    "df.iloc[3]"
   ]
  },
  {
   "cell_type": "code",
   "execution_count": 120,
   "metadata": {
    "colab": {
     "base_uri": "https://localhost:8080/",
     "height": 108
    },
    "id": "N8Wzio55x0qm",
    "outputId": "6f64a857-d01b-436b-efca-33aa87a2c286"
   },
   "outputs": [
    {
     "data": {
      "text/html": [
       "<div>\n",
       "<style scoped>\n",
       "    .dataframe tbody tr th:only-of-type {\n",
       "        vertical-align: middle;\n",
       "    }\n",
       "\n",
       "    .dataframe tbody tr th {\n",
       "        vertical-align: top;\n",
       "    }\n",
       "\n",
       "    .dataframe thead th {\n",
       "        text-align: right;\n",
       "    }\n",
       "</style>\n",
       "<table border=\"1\" class=\"dataframe\">\n",
       "  <thead>\n",
       "    <tr style=\"text-align: right;\">\n",
       "      <th></th>\n",
       "      <th>A</th>\n",
       "      <th>B</th>\n",
       "    </tr>\n",
       "  </thead>\n",
       "  <tbody>\n",
       "    <tr>\n",
       "      <th>2013-01-04</th>\n",
       "      <td>-0.850019</td>\n",
       "      <td>-1.326143</td>\n",
       "    </tr>\n",
       "    <tr>\n",
       "      <th>2013-01-05</th>\n",
       "      <td>0.673678</td>\n",
       "      <td>-1.165957</td>\n",
       "    </tr>\n",
       "  </tbody>\n",
       "</table>\n",
       "</div>"
      ],
      "text/plain": [
       "                   A         B\n",
       "2013-01-04 -0.850019 -1.326143\n",
       "2013-01-05  0.673678 -1.165957"
      ]
     },
     "execution_count": 120,
     "metadata": {
      "tags": []
     },
     "output_type": "execute_result"
    }
   ],
   "source": [
    "df.iloc[3:5,0:2]"
   ]
  },
  {
   "cell_type": "code",
   "execution_count": 121,
   "metadata": {
    "colab": {
     "base_uri": "https://localhost:8080/",
     "height": 138
    },
    "id": "IxK4UX5_x1rb",
    "outputId": "61977d5a-ff5f-4eb2-c5af-371a809632b2"
   },
   "outputs": [
    {
     "data": {
      "text/html": [
       "<div>\n",
       "<style scoped>\n",
       "    .dataframe tbody tr th:only-of-type {\n",
       "        vertical-align: middle;\n",
       "    }\n",
       "\n",
       "    .dataframe tbody tr th {\n",
       "        vertical-align: top;\n",
       "    }\n",
       "\n",
       "    .dataframe thead th {\n",
       "        text-align: right;\n",
       "    }\n",
       "</style>\n",
       "<table border=\"1\" class=\"dataframe\">\n",
       "  <thead>\n",
       "    <tr style=\"text-align: right;\">\n",
       "      <th></th>\n",
       "      <th>A</th>\n",
       "      <th>C</th>\n",
       "    </tr>\n",
       "  </thead>\n",
       "  <tbody>\n",
       "    <tr>\n",
       "      <th>2013-01-02</th>\n",
       "      <td>-0.195263</td>\n",
       "      <td>-0.716584</td>\n",
       "    </tr>\n",
       "    <tr>\n",
       "      <th>2013-01-03</th>\n",
       "      <td>-1.229426</td>\n",
       "      <td>-1.110588</td>\n",
       "    </tr>\n",
       "    <tr>\n",
       "      <th>2013-01-05</th>\n",
       "      <td>0.673678</td>\n",
       "      <td>-1.021746</td>\n",
       "    </tr>\n",
       "  </tbody>\n",
       "</table>\n",
       "</div>"
      ],
      "text/plain": [
       "                   A         C\n",
       "2013-01-02 -0.195263 -0.716584\n",
       "2013-01-03 -1.229426 -1.110588\n",
       "2013-01-05  0.673678 -1.021746"
      ]
     },
     "execution_count": 121,
     "metadata": {
      "tags": []
     },
     "output_type": "execute_result"
    }
   ],
   "source": [
    "df.iloc[[1,2,4],[0,2]]"
   ]
  },
  {
   "cell_type": "code",
   "execution_count": 122,
   "metadata": {
    "colab": {
     "base_uri": "https://localhost:8080/",
     "height": 108
    },
    "id": "gi2kxTn5x2j3",
    "outputId": "94358219-3f3a-4930-e047-8ca16a824e70"
   },
   "outputs": [
    {
     "data": {
      "text/html": [
       "<div>\n",
       "<style scoped>\n",
       "    .dataframe tbody tr th:only-of-type {\n",
       "        vertical-align: middle;\n",
       "    }\n",
       "\n",
       "    .dataframe tbody tr th {\n",
       "        vertical-align: top;\n",
       "    }\n",
       "\n",
       "    .dataframe thead th {\n",
       "        text-align: right;\n",
       "    }\n",
       "</style>\n",
       "<table border=\"1\" class=\"dataframe\">\n",
       "  <thead>\n",
       "    <tr style=\"text-align: right;\">\n",
       "      <th></th>\n",
       "      <th>A</th>\n",
       "      <th>B</th>\n",
       "      <th>C</th>\n",
       "      <th>D</th>\n",
       "    </tr>\n",
       "  </thead>\n",
       "  <tbody>\n",
       "    <tr>\n",
       "      <th>2013-01-02</th>\n",
       "      <td>-0.195263</td>\n",
       "      <td>-0.497347</td>\n",
       "      <td>-0.716584</td>\n",
       "      <td>-0.088287</td>\n",
       "    </tr>\n",
       "    <tr>\n",
       "      <th>2013-01-03</th>\n",
       "      <td>-1.229426</td>\n",
       "      <td>0.620198</td>\n",
       "      <td>-1.110588</td>\n",
       "      <td>1.214980</td>\n",
       "    </tr>\n",
       "  </tbody>\n",
       "</table>\n",
       "</div>"
      ],
      "text/plain": [
       "                   A         B         C         D\n",
       "2013-01-02 -0.195263 -0.497347 -0.716584 -0.088287\n",
       "2013-01-03 -1.229426  0.620198 -1.110588  1.214980"
      ]
     },
     "execution_count": 122,
     "metadata": {
      "tags": []
     },
     "output_type": "execute_result"
    }
   ],
   "source": [
    "df.iloc[1:3,:]"
   ]
  },
  {
   "cell_type": "code",
   "execution_count": 123,
   "metadata": {
    "colab": {
     "base_uri": "https://localhost:8080/",
     "height": 228
    },
    "id": "SRlSXtv6x3lu",
    "outputId": "370f792c-d926-4856-dc2d-7d8ca6e5f8f3"
   },
   "outputs": [
    {
     "data": {
      "text/html": [
       "<div>\n",
       "<style scoped>\n",
       "    .dataframe tbody tr th:only-of-type {\n",
       "        vertical-align: middle;\n",
       "    }\n",
       "\n",
       "    .dataframe tbody tr th {\n",
       "        vertical-align: top;\n",
       "    }\n",
       "\n",
       "    .dataframe thead th {\n",
       "        text-align: right;\n",
       "    }\n",
       "</style>\n",
       "<table border=\"1\" class=\"dataframe\">\n",
       "  <thead>\n",
       "    <tr style=\"text-align: right;\">\n",
       "      <th></th>\n",
       "      <th>B</th>\n",
       "      <th>C</th>\n",
       "    </tr>\n",
       "  </thead>\n",
       "  <tbody>\n",
       "    <tr>\n",
       "      <th>2013-01-01</th>\n",
       "      <td>0.477817</td>\n",
       "      <td>1.983660</td>\n",
       "    </tr>\n",
       "    <tr>\n",
       "      <th>2013-01-02</th>\n",
       "      <td>-0.497347</td>\n",
       "      <td>-0.716584</td>\n",
       "    </tr>\n",
       "    <tr>\n",
       "      <th>2013-01-03</th>\n",
       "      <td>0.620198</td>\n",
       "      <td>-1.110588</td>\n",
       "    </tr>\n",
       "    <tr>\n",
       "      <th>2013-01-04</th>\n",
       "      <td>-1.326143</td>\n",
       "      <td>0.247689</td>\n",
       "    </tr>\n",
       "    <tr>\n",
       "      <th>2013-01-05</th>\n",
       "      <td>-1.165957</td>\n",
       "      <td>-1.021746</td>\n",
       "    </tr>\n",
       "    <tr>\n",
       "      <th>2013-01-06</th>\n",
       "      <td>1.138726</td>\n",
       "      <td>-0.689579</td>\n",
       "    </tr>\n",
       "  </tbody>\n",
       "</table>\n",
       "</div>"
      ],
      "text/plain": [
       "                   B         C\n",
       "2013-01-01  0.477817  1.983660\n",
       "2013-01-02 -0.497347 -0.716584\n",
       "2013-01-03  0.620198 -1.110588\n",
       "2013-01-04 -1.326143  0.247689\n",
       "2013-01-05 -1.165957 -1.021746\n",
       "2013-01-06  1.138726 -0.689579"
      ]
     },
     "execution_count": 123,
     "metadata": {
      "tags": []
     },
     "output_type": "execute_result"
    }
   ],
   "source": [
    "df.iloc[:,1:3]"
   ]
  },
  {
   "cell_type": "code",
   "execution_count": 124,
   "metadata": {
    "colab": {
     "base_uri": "https://localhost:8080/",
     "height": 35
    },
    "id": "S0leg1mTx4aQ",
    "outputId": "6be245f8-c471-4ba6-9519-48b804a49782"
   },
   "outputs": [
    {
     "data": {
      "text/plain": [
       "-0.49734740044041337"
      ]
     },
     "execution_count": 124,
     "metadata": {
      "tags": []
     },
     "output_type": "execute_result"
    }
   ],
   "source": [
    "df.iloc[1,1]"
   ]
  },
  {
   "cell_type": "code",
   "execution_count": 125,
   "metadata": {
    "colab": {
     "base_uri": "https://localhost:8080/",
     "height": 35
    },
    "id": "E1lQbo57x_TH",
    "outputId": "a82da24f-4bcf-481e-a524-26f2656d8e6d"
   },
   "outputs": [
    {
     "data": {
      "text/plain": [
       "-0.49734740044041337"
      ]
     },
     "execution_count": 125,
     "metadata": {
      "tags": []
     },
     "output_type": "execute_result"
    }
   ],
   "source": [
    "df.iat[1,1]"
   ]
  },
  {
   "cell_type": "markdown",
   "metadata": {
    "id": "hVwr9NCzyGtt"
   },
   "source": [
    "#### 특정 조건을 이용하여 선택하기"
   ]
  },
  {
   "cell_type": "code",
   "execution_count": 126,
   "metadata": {
    "colab": {
     "base_uri": "https://localhost:8080/",
     "height": 108
    },
    "id": "Ia3veh4fyA6G",
    "outputId": "7963b16f-bf3c-4ebb-fa97-ec13290620fb"
   },
   "outputs": [
    {
     "data": {
      "text/html": [
       "<div>\n",
       "<style scoped>\n",
       "    .dataframe tbody tr th:only-of-type {\n",
       "        vertical-align: middle;\n",
       "    }\n",
       "\n",
       "    .dataframe tbody tr th {\n",
       "        vertical-align: top;\n",
       "    }\n",
       "\n",
       "    .dataframe thead th {\n",
       "        text-align: right;\n",
       "    }\n",
       "</style>\n",
       "<table border=\"1\" class=\"dataframe\">\n",
       "  <thead>\n",
       "    <tr style=\"text-align: right;\">\n",
       "      <th></th>\n",
       "      <th>A</th>\n",
       "      <th>B</th>\n",
       "      <th>C</th>\n",
       "      <th>D</th>\n",
       "    </tr>\n",
       "  </thead>\n",
       "  <tbody>\n",
       "    <tr>\n",
       "      <th>2013-01-05</th>\n",
       "      <td>0.673678</td>\n",
       "      <td>-1.165957</td>\n",
       "      <td>-1.021746</td>\n",
       "      <td>1.355295</td>\n",
       "    </tr>\n",
       "    <tr>\n",
       "      <th>2013-01-06</th>\n",
       "      <td>0.282271</td>\n",
       "      <td>1.138726</td>\n",
       "      <td>-0.689579</td>\n",
       "      <td>0.828245</td>\n",
       "    </tr>\n",
       "  </tbody>\n",
       "</table>\n",
       "</div>"
      ],
      "text/plain": [
       "                   A         B         C         D\n",
       "2013-01-05  0.673678 -1.165957 -1.021746  1.355295\n",
       "2013-01-06  0.282271  1.138726 -0.689579  0.828245"
      ]
     },
     "execution_count": 126,
     "metadata": {
      "tags": []
     },
     "output_type": "execute_result"
    }
   ],
   "source": [
    "df[df.A > 0]"
   ]
  },
  {
   "cell_type": "code",
   "execution_count": 127,
   "metadata": {
    "colab": {
     "base_uri": "https://localhost:8080/",
     "height": 228
    },
    "id": "3YiH7AjkyK8H",
    "outputId": "e1891a77-c44f-4b09-c1b2-f5f8fb243319"
   },
   "outputs": [
    {
     "data": {
      "text/html": [
       "<div>\n",
       "<style scoped>\n",
       "    .dataframe tbody tr th:only-of-type {\n",
       "        vertical-align: middle;\n",
       "    }\n",
       "\n",
       "    .dataframe tbody tr th {\n",
       "        vertical-align: top;\n",
       "    }\n",
       "\n",
       "    .dataframe thead th {\n",
       "        text-align: right;\n",
       "    }\n",
       "</style>\n",
       "<table border=\"1\" class=\"dataframe\">\n",
       "  <thead>\n",
       "    <tr style=\"text-align: right;\">\n",
       "      <th></th>\n",
       "      <th>A</th>\n",
       "      <th>B</th>\n",
       "      <th>C</th>\n",
       "      <th>D</th>\n",
       "    </tr>\n",
       "  </thead>\n",
       "  <tbody>\n",
       "    <tr>\n",
       "      <th>2013-01-01</th>\n",
       "      <td>NaN</td>\n",
       "      <td>0.477817</td>\n",
       "      <td>1.983660</td>\n",
       "      <td>NaN</td>\n",
       "    </tr>\n",
       "    <tr>\n",
       "      <th>2013-01-02</th>\n",
       "      <td>NaN</td>\n",
       "      <td>NaN</td>\n",
       "      <td>NaN</td>\n",
       "      <td>NaN</td>\n",
       "    </tr>\n",
       "    <tr>\n",
       "      <th>2013-01-03</th>\n",
       "      <td>NaN</td>\n",
       "      <td>0.620198</td>\n",
       "      <td>NaN</td>\n",
       "      <td>1.214980</td>\n",
       "    </tr>\n",
       "    <tr>\n",
       "      <th>2013-01-04</th>\n",
       "      <td>NaN</td>\n",
       "      <td>NaN</td>\n",
       "      <td>0.247689</td>\n",
       "      <td>2.730618</td>\n",
       "    </tr>\n",
       "    <tr>\n",
       "      <th>2013-01-05</th>\n",
       "      <td>0.673678</td>\n",
       "      <td>NaN</td>\n",
       "      <td>NaN</td>\n",
       "      <td>1.355295</td>\n",
       "    </tr>\n",
       "    <tr>\n",
       "      <th>2013-01-06</th>\n",
       "      <td>0.282271</td>\n",
       "      <td>1.138726</td>\n",
       "      <td>NaN</td>\n",
       "      <td>0.828245</td>\n",
       "    </tr>\n",
       "  </tbody>\n",
       "</table>\n",
       "</div>"
      ],
      "text/plain": [
       "                   A         B         C         D\n",
       "2013-01-01       NaN  0.477817  1.983660       NaN\n",
       "2013-01-02       NaN       NaN       NaN       NaN\n",
       "2013-01-03       NaN  0.620198       NaN  1.214980\n",
       "2013-01-04       NaN       NaN  0.247689  2.730618\n",
       "2013-01-05  0.673678       NaN       NaN  1.355295\n",
       "2013-01-06  0.282271  1.138726       NaN  0.828245"
      ]
     },
     "execution_count": 127,
     "metadata": {
      "tags": []
     },
     "output_type": "execute_result"
    }
   ],
   "source": [
    "df[df > 0]"
   ]
  },
  {
   "cell_type": "code",
   "execution_count": 128,
   "metadata": {
    "colab": {
     "base_uri": "https://localhost:8080/",
     "height": 228
    },
    "id": "6aBN3bOgyMFG",
    "outputId": "a1f43243-85d4-4cf5-c049-9863812ac328"
   },
   "outputs": [
    {
     "data": {
      "text/html": [
       "<div>\n",
       "<style scoped>\n",
       "    .dataframe tbody tr th:only-of-type {\n",
       "        vertical-align: middle;\n",
       "    }\n",
       "\n",
       "    .dataframe tbody tr th {\n",
       "        vertical-align: top;\n",
       "    }\n",
       "\n",
       "    .dataframe thead th {\n",
       "        text-align: right;\n",
       "    }\n",
       "</style>\n",
       "<table border=\"1\" class=\"dataframe\">\n",
       "  <thead>\n",
       "    <tr style=\"text-align: right;\">\n",
       "      <th></th>\n",
       "      <th>A</th>\n",
       "      <th>B</th>\n",
       "      <th>C</th>\n",
       "      <th>D</th>\n",
       "      <th>E</th>\n",
       "    </tr>\n",
       "  </thead>\n",
       "  <tbody>\n",
       "    <tr>\n",
       "      <th>2013-01-01</th>\n",
       "      <td>-1.357541</td>\n",
       "      <td>0.477817</td>\n",
       "      <td>1.983660</td>\n",
       "      <td>-0.025874</td>\n",
       "      <td>one</td>\n",
       "    </tr>\n",
       "    <tr>\n",
       "      <th>2013-01-02</th>\n",
       "      <td>-0.195263</td>\n",
       "      <td>-0.497347</td>\n",
       "      <td>-0.716584</td>\n",
       "      <td>-0.088287</td>\n",
       "      <td>one</td>\n",
       "    </tr>\n",
       "    <tr>\n",
       "      <th>2013-01-03</th>\n",
       "      <td>-1.229426</td>\n",
       "      <td>0.620198</td>\n",
       "      <td>-1.110588</td>\n",
       "      <td>1.214980</td>\n",
       "      <td>two</td>\n",
       "    </tr>\n",
       "    <tr>\n",
       "      <th>2013-01-04</th>\n",
       "      <td>-0.850019</td>\n",
       "      <td>-1.326143</td>\n",
       "      <td>0.247689</td>\n",
       "      <td>2.730618</td>\n",
       "      <td>three</td>\n",
       "    </tr>\n",
       "    <tr>\n",
       "      <th>2013-01-05</th>\n",
       "      <td>0.673678</td>\n",
       "      <td>-1.165957</td>\n",
       "      <td>-1.021746</td>\n",
       "      <td>1.355295</td>\n",
       "      <td>four</td>\n",
       "    </tr>\n",
       "    <tr>\n",
       "      <th>2013-01-06</th>\n",
       "      <td>0.282271</td>\n",
       "      <td>1.138726</td>\n",
       "      <td>-0.689579</td>\n",
       "      <td>0.828245</td>\n",
       "      <td>three</td>\n",
       "    </tr>\n",
       "  </tbody>\n",
       "</table>\n",
       "</div>"
      ],
      "text/plain": [
       "                   A         B         C         D      E\n",
       "2013-01-01 -1.357541  0.477817  1.983660 -0.025874    one\n",
       "2013-01-02 -0.195263 -0.497347 -0.716584 -0.088287    one\n",
       "2013-01-03 -1.229426  0.620198 -1.110588  1.214980    two\n",
       "2013-01-04 -0.850019 -1.326143  0.247689  2.730618  three\n",
       "2013-01-05  0.673678 -1.165957 -1.021746  1.355295   four\n",
       "2013-01-06  0.282271  1.138726 -0.689579  0.828245  three"
      ]
     },
     "execution_count": 128,
     "metadata": {
      "tags": []
     },
     "output_type": "execute_result"
    }
   ],
   "source": [
    "df2 = df.copy()\n",
    "df2['E'] = ['one', 'one','two','three','four','three']\n",
    "df2"
   ]
  },
  {
   "cell_type": "code",
   "execution_count": 129,
   "metadata": {
    "colab": {
     "base_uri": "https://localhost:8080/",
     "height": 138
    },
    "id": "U1VJ4mgHyQ-i",
    "outputId": "7ce5ecc6-e12d-452a-d234-789e7e04c936"
   },
   "outputs": [
    {
     "data": {
      "text/html": [
       "<div>\n",
       "<style scoped>\n",
       "    .dataframe tbody tr th:only-of-type {\n",
       "        vertical-align: middle;\n",
       "    }\n",
       "\n",
       "    .dataframe tbody tr th {\n",
       "        vertical-align: top;\n",
       "    }\n",
       "\n",
       "    .dataframe thead th {\n",
       "        text-align: right;\n",
       "    }\n",
       "</style>\n",
       "<table border=\"1\" class=\"dataframe\">\n",
       "  <thead>\n",
       "    <tr style=\"text-align: right;\">\n",
       "      <th></th>\n",
       "      <th>A</th>\n",
       "      <th>B</th>\n",
       "      <th>C</th>\n",
       "      <th>D</th>\n",
       "      <th>E</th>\n",
       "    </tr>\n",
       "  </thead>\n",
       "  <tbody>\n",
       "    <tr>\n",
       "      <th>2013-01-01</th>\n",
       "      <td>-1.357541</td>\n",
       "      <td>0.477817</td>\n",
       "      <td>1.983660</td>\n",
       "      <td>-0.025874</td>\n",
       "      <td>one</td>\n",
       "    </tr>\n",
       "    <tr>\n",
       "      <th>2013-01-02</th>\n",
       "      <td>-0.195263</td>\n",
       "      <td>-0.497347</td>\n",
       "      <td>-0.716584</td>\n",
       "      <td>-0.088287</td>\n",
       "      <td>one</td>\n",
       "    </tr>\n",
       "    <tr>\n",
       "      <th>2013-01-05</th>\n",
       "      <td>0.673678</td>\n",
       "      <td>-1.165957</td>\n",
       "      <td>-1.021746</td>\n",
       "      <td>1.355295</td>\n",
       "      <td>four</td>\n",
       "    </tr>\n",
       "  </tbody>\n",
       "</table>\n",
       "</div>"
      ],
      "text/plain": [
       "                   A         B         C         D     E\n",
       "2013-01-01 -1.357541  0.477817  1.983660 -0.025874   one\n",
       "2013-01-02 -0.195263 -0.497347 -0.716584 -0.088287   one\n",
       "2013-01-05  0.673678 -1.165957 -1.021746  1.355295  four"
      ]
     },
     "execution_count": 129,
     "metadata": {
      "tags": []
     },
     "output_type": "execute_result"
    }
   ],
   "source": [
    "df2[df2['E'].isin(['one', 'four'])]"
   ]
  },
  {
   "cell_type": "markdown",
   "metadata": {
    "id": "I0mmzJOvyVhQ"
   },
   "source": [
    "#### 데이터 변경하기"
   ]
  },
  {
   "cell_type": "code",
   "execution_count": 130,
   "metadata": {
    "id": "VlgXvnq6ySjF"
   },
   "outputs": [],
   "source": [
    "s1 = pd.Series([1, 2, 3, 4, 5, 6], index=pd.date_range('20130102', periods=6))"
   ]
  },
  {
   "cell_type": "code",
   "execution_count": 131,
   "metadata": {
    "colab": {
     "base_uri": "https://localhost:8080/",
     "height": 145
    },
    "id": "WSHg7CvwyYHb",
    "outputId": "1c82b711-2521-40bb-b8a9-bec520a44b02"
   },
   "outputs": [
    {
     "data": {
      "text/plain": [
       "2013-01-02    1\n",
       "2013-01-03    2\n",
       "2013-01-04    3\n",
       "2013-01-05    4\n",
       "2013-01-06    5\n",
       "2013-01-07    6\n",
       "Freq: D, dtype: int64"
      ]
     },
     "execution_count": 131,
     "metadata": {
      "tags": []
     },
     "output_type": "execute_result"
    }
   ],
   "source": [
    "s1"
   ]
  },
  {
   "cell_type": "code",
   "execution_count": 132,
   "metadata": {
    "colab": {
     "base_uri": "https://localhost:8080/",
     "height": 228
    },
    "id": "9IH6TXm9yZOV",
    "outputId": "77354388-6ce5-4dd5-a28d-317d69cd6bbf"
   },
   "outputs": [
    {
     "data": {
      "text/html": [
       "<div>\n",
       "<style scoped>\n",
       "    .dataframe tbody tr th:only-of-type {\n",
       "        vertical-align: middle;\n",
       "    }\n",
       "\n",
       "    .dataframe tbody tr th {\n",
       "        vertical-align: top;\n",
       "    }\n",
       "\n",
       "    .dataframe thead th {\n",
       "        text-align: right;\n",
       "    }\n",
       "</style>\n",
       "<table border=\"1\" class=\"dataframe\">\n",
       "  <thead>\n",
       "    <tr style=\"text-align: right;\">\n",
       "      <th></th>\n",
       "      <th>A</th>\n",
       "      <th>B</th>\n",
       "      <th>C</th>\n",
       "      <th>D</th>\n",
       "      <th>F</th>\n",
       "    </tr>\n",
       "  </thead>\n",
       "  <tbody>\n",
       "    <tr>\n",
       "      <th>2013-01-01</th>\n",
       "      <td>-1.357541</td>\n",
       "      <td>0.477817</td>\n",
       "      <td>1.983660</td>\n",
       "      <td>-0.025874</td>\n",
       "      <td>NaN</td>\n",
       "    </tr>\n",
       "    <tr>\n",
       "      <th>2013-01-02</th>\n",
       "      <td>-0.195263</td>\n",
       "      <td>-0.497347</td>\n",
       "      <td>-0.716584</td>\n",
       "      <td>-0.088287</td>\n",
       "      <td>1.0</td>\n",
       "    </tr>\n",
       "    <tr>\n",
       "      <th>2013-01-03</th>\n",
       "      <td>-1.229426</td>\n",
       "      <td>0.620198</td>\n",
       "      <td>-1.110588</td>\n",
       "      <td>1.214980</td>\n",
       "      <td>2.0</td>\n",
       "    </tr>\n",
       "    <tr>\n",
       "      <th>2013-01-04</th>\n",
       "      <td>-0.850019</td>\n",
       "      <td>-1.326143</td>\n",
       "      <td>0.247689</td>\n",
       "      <td>2.730618</td>\n",
       "      <td>3.0</td>\n",
       "    </tr>\n",
       "    <tr>\n",
       "      <th>2013-01-05</th>\n",
       "      <td>0.673678</td>\n",
       "      <td>-1.165957</td>\n",
       "      <td>-1.021746</td>\n",
       "      <td>1.355295</td>\n",
       "      <td>4.0</td>\n",
       "    </tr>\n",
       "    <tr>\n",
       "      <th>2013-01-06</th>\n",
       "      <td>0.282271</td>\n",
       "      <td>1.138726</td>\n",
       "      <td>-0.689579</td>\n",
       "      <td>0.828245</td>\n",
       "      <td>5.0</td>\n",
       "    </tr>\n",
       "  </tbody>\n",
       "</table>\n",
       "</div>"
      ],
      "text/plain": [
       "                   A         B         C         D    F\n",
       "2013-01-01 -1.357541  0.477817  1.983660 -0.025874  NaN\n",
       "2013-01-02 -0.195263 -0.497347 -0.716584 -0.088287  1.0\n",
       "2013-01-03 -1.229426  0.620198 -1.110588  1.214980  2.0\n",
       "2013-01-04 -0.850019 -1.326143  0.247689  2.730618  3.0\n",
       "2013-01-05  0.673678 -1.165957 -1.021746  1.355295  4.0\n",
       "2013-01-06  0.282271  1.138726 -0.689579  0.828245  5.0"
      ]
     },
     "execution_count": 132,
     "metadata": {
      "tags": []
     },
     "output_type": "execute_result"
    }
   ],
   "source": [
    "df['F'] = s1\n",
    "df"
   ]
  },
  {
   "cell_type": "code",
   "execution_count": 133,
   "metadata": {
    "id": "29O25NijychR"
   },
   "outputs": [],
   "source": [
    "df.at[dates[0], 'A'] = 0"
   ]
  },
  {
   "cell_type": "code",
   "execution_count": 134,
   "metadata": {
    "id": "HsdgYSJvygII"
   },
   "outputs": [],
   "source": [
    "df.iat[0,1] = 0"
   ]
  },
  {
   "cell_type": "code",
   "execution_count": 135,
   "metadata": {
    "id": "6LjAGsjWyg_g"
   },
   "outputs": [],
   "source": [
    "df.loc[:,'D'] = np.array([5] * len(df)) # 길이를 맞춰야 함"
   ]
  },
  {
   "cell_type": "code",
   "execution_count": 136,
   "metadata": {
    "colab": {
     "base_uri": "https://localhost:8080/",
     "height": 228
    },
    "id": "KYuDtp25yiLR",
    "outputId": "9585e137-8d6a-4ea6-a287-c64b92861d57"
   },
   "outputs": [
    {
     "data": {
      "text/html": [
       "<div>\n",
       "<style scoped>\n",
       "    .dataframe tbody tr th:only-of-type {\n",
       "        vertical-align: middle;\n",
       "    }\n",
       "\n",
       "    .dataframe tbody tr th {\n",
       "        vertical-align: top;\n",
       "    }\n",
       "\n",
       "    .dataframe thead th {\n",
       "        text-align: right;\n",
       "    }\n",
       "</style>\n",
       "<table border=\"1\" class=\"dataframe\">\n",
       "  <thead>\n",
       "    <tr style=\"text-align: right;\">\n",
       "      <th></th>\n",
       "      <th>A</th>\n",
       "      <th>B</th>\n",
       "      <th>C</th>\n",
       "      <th>D</th>\n",
       "      <th>F</th>\n",
       "    </tr>\n",
       "  </thead>\n",
       "  <tbody>\n",
       "    <tr>\n",
       "      <th>2013-01-01</th>\n",
       "      <td>0.000000</td>\n",
       "      <td>0.000000</td>\n",
       "      <td>1.983660</td>\n",
       "      <td>5</td>\n",
       "      <td>NaN</td>\n",
       "    </tr>\n",
       "    <tr>\n",
       "      <th>2013-01-02</th>\n",
       "      <td>-0.195263</td>\n",
       "      <td>-0.497347</td>\n",
       "      <td>-0.716584</td>\n",
       "      <td>5</td>\n",
       "      <td>1.0</td>\n",
       "    </tr>\n",
       "    <tr>\n",
       "      <th>2013-01-03</th>\n",
       "      <td>-1.229426</td>\n",
       "      <td>0.620198</td>\n",
       "      <td>-1.110588</td>\n",
       "      <td>5</td>\n",
       "      <td>2.0</td>\n",
       "    </tr>\n",
       "    <tr>\n",
       "      <th>2013-01-04</th>\n",
       "      <td>-0.850019</td>\n",
       "      <td>-1.326143</td>\n",
       "      <td>0.247689</td>\n",
       "      <td>5</td>\n",
       "      <td>3.0</td>\n",
       "    </tr>\n",
       "    <tr>\n",
       "      <th>2013-01-05</th>\n",
       "      <td>0.673678</td>\n",
       "      <td>-1.165957</td>\n",
       "      <td>-1.021746</td>\n",
       "      <td>5</td>\n",
       "      <td>4.0</td>\n",
       "    </tr>\n",
       "    <tr>\n",
       "      <th>2013-01-06</th>\n",
       "      <td>0.282271</td>\n",
       "      <td>1.138726</td>\n",
       "      <td>-0.689579</td>\n",
       "      <td>5</td>\n",
       "      <td>5.0</td>\n",
       "    </tr>\n",
       "  </tbody>\n",
       "</table>\n",
       "</div>"
      ],
      "text/plain": [
       "                   A         B         C  D    F\n",
       "2013-01-01  0.000000  0.000000  1.983660  5  NaN\n",
       "2013-01-02 -0.195263 -0.497347 -0.716584  5  1.0\n",
       "2013-01-03 -1.229426  0.620198 -1.110588  5  2.0\n",
       "2013-01-04 -0.850019 -1.326143  0.247689  5  3.0\n",
       "2013-01-05  0.673678 -1.165957 -1.021746  5  4.0\n",
       "2013-01-06  0.282271  1.138726 -0.689579  5  5.0"
      ]
     },
     "execution_count": 136,
     "metadata": {
      "tags": []
     },
     "output_type": "execute_result"
    }
   ],
   "source": [
    "df"
   ]
  },
  {
   "cell_type": "code",
   "execution_count": 137,
   "metadata": {
    "colab": {
     "base_uri": "https://localhost:8080/",
     "height": 228
    },
    "id": "wZGq1UJ-ylOV",
    "outputId": "c07a3bbf-6c35-4520-e972-8277bf7439cc"
   },
   "outputs": [
    {
     "data": {
      "text/html": [
       "<div>\n",
       "<style scoped>\n",
       "    .dataframe tbody tr th:only-of-type {\n",
       "        vertical-align: middle;\n",
       "    }\n",
       "\n",
       "    .dataframe tbody tr th {\n",
       "        vertical-align: top;\n",
       "    }\n",
       "\n",
       "    .dataframe thead th {\n",
       "        text-align: right;\n",
       "    }\n",
       "</style>\n",
       "<table border=\"1\" class=\"dataframe\">\n",
       "  <thead>\n",
       "    <tr style=\"text-align: right;\">\n",
       "      <th></th>\n",
       "      <th>A</th>\n",
       "      <th>B</th>\n",
       "      <th>C</th>\n",
       "      <th>D</th>\n",
       "      <th>F</th>\n",
       "    </tr>\n",
       "  </thead>\n",
       "  <tbody>\n",
       "    <tr>\n",
       "      <th>2013-01-01</th>\n",
       "      <td>0.000000</td>\n",
       "      <td>0.000000</td>\n",
       "      <td>-1.983660</td>\n",
       "      <td>-5</td>\n",
       "      <td>NaN</td>\n",
       "    </tr>\n",
       "    <tr>\n",
       "      <th>2013-01-02</th>\n",
       "      <td>-0.195263</td>\n",
       "      <td>-0.497347</td>\n",
       "      <td>-0.716584</td>\n",
       "      <td>-5</td>\n",
       "      <td>-1.0</td>\n",
       "    </tr>\n",
       "    <tr>\n",
       "      <th>2013-01-03</th>\n",
       "      <td>-1.229426</td>\n",
       "      <td>-0.620198</td>\n",
       "      <td>-1.110588</td>\n",
       "      <td>-5</td>\n",
       "      <td>-2.0</td>\n",
       "    </tr>\n",
       "    <tr>\n",
       "      <th>2013-01-04</th>\n",
       "      <td>-0.850019</td>\n",
       "      <td>-1.326143</td>\n",
       "      <td>-0.247689</td>\n",
       "      <td>-5</td>\n",
       "      <td>-3.0</td>\n",
       "    </tr>\n",
       "    <tr>\n",
       "      <th>2013-01-05</th>\n",
       "      <td>-0.673678</td>\n",
       "      <td>-1.165957</td>\n",
       "      <td>-1.021746</td>\n",
       "      <td>-5</td>\n",
       "      <td>-4.0</td>\n",
       "    </tr>\n",
       "    <tr>\n",
       "      <th>2013-01-06</th>\n",
       "      <td>-0.282271</td>\n",
       "      <td>-1.138726</td>\n",
       "      <td>-0.689579</td>\n",
       "      <td>-5</td>\n",
       "      <td>-5.0</td>\n",
       "    </tr>\n",
       "  </tbody>\n",
       "</table>\n",
       "</div>"
      ],
      "text/plain": [
       "                   A         B         C  D    F\n",
       "2013-01-01  0.000000  0.000000 -1.983660 -5  NaN\n",
       "2013-01-02 -0.195263 -0.497347 -0.716584 -5 -1.0\n",
       "2013-01-03 -1.229426 -0.620198 -1.110588 -5 -2.0\n",
       "2013-01-04 -0.850019 -1.326143 -0.247689 -5 -3.0\n",
       "2013-01-05 -0.673678 -1.165957 -1.021746 -5 -4.0\n",
       "2013-01-06 -0.282271 -1.138726 -0.689579 -5 -5.0"
      ]
     },
     "execution_count": 137,
     "metadata": {
      "tags": []
     },
     "output_type": "execute_result"
    }
   ],
   "source": [
    "df2 = df.copy()\n",
    "df2[df2 > 0] = -df2\n",
    "\n",
    "df2"
   ]
  },
  {
   "cell_type": "markdown",
   "metadata": {
    "id": "k9b4Qp8-y5no"
   },
   "source": [
    "### 4. 결측치 다루기"
   ]
  },
  {
   "cell_type": "code",
   "execution_count": 138,
   "metadata": {
    "id": "Ht8HCHhvyofu"
   },
   "outputs": [],
   "source": [
    "df1 = df.reindex(index=dates[0:4], columns=list(df.columns) + ['E'])\n",
    "df1.loc[dates[0]:dates[1], 'E'] = 1"
   ]
  },
  {
   "cell_type": "code",
   "execution_count": 139,
   "metadata": {
    "colab": {
     "base_uri": "https://localhost:8080/",
     "height": 168
    },
    "id": "iAAmmATGy9Eq",
    "outputId": "1607b53e-337d-4b96-97bd-ee483b2a09df"
   },
   "outputs": [
    {
     "data": {
      "text/html": [
       "<div>\n",
       "<style scoped>\n",
       "    .dataframe tbody tr th:only-of-type {\n",
       "        vertical-align: middle;\n",
       "    }\n",
       "\n",
       "    .dataframe tbody tr th {\n",
       "        vertical-align: top;\n",
       "    }\n",
       "\n",
       "    .dataframe thead th {\n",
       "        text-align: right;\n",
       "    }\n",
       "</style>\n",
       "<table border=\"1\" class=\"dataframe\">\n",
       "  <thead>\n",
       "    <tr style=\"text-align: right;\">\n",
       "      <th></th>\n",
       "      <th>A</th>\n",
       "      <th>B</th>\n",
       "      <th>C</th>\n",
       "      <th>D</th>\n",
       "      <th>F</th>\n",
       "      <th>E</th>\n",
       "    </tr>\n",
       "  </thead>\n",
       "  <tbody>\n",
       "    <tr>\n",
       "      <th>2013-01-01</th>\n",
       "      <td>0.000000</td>\n",
       "      <td>0.000000</td>\n",
       "      <td>1.983660</td>\n",
       "      <td>5</td>\n",
       "      <td>NaN</td>\n",
       "      <td>1.0</td>\n",
       "    </tr>\n",
       "    <tr>\n",
       "      <th>2013-01-02</th>\n",
       "      <td>-0.195263</td>\n",
       "      <td>-0.497347</td>\n",
       "      <td>-0.716584</td>\n",
       "      <td>5</td>\n",
       "      <td>1.0</td>\n",
       "      <td>1.0</td>\n",
       "    </tr>\n",
       "    <tr>\n",
       "      <th>2013-01-03</th>\n",
       "      <td>-1.229426</td>\n",
       "      <td>0.620198</td>\n",
       "      <td>-1.110588</td>\n",
       "      <td>5</td>\n",
       "      <td>2.0</td>\n",
       "      <td>NaN</td>\n",
       "    </tr>\n",
       "    <tr>\n",
       "      <th>2013-01-04</th>\n",
       "      <td>-0.850019</td>\n",
       "      <td>-1.326143</td>\n",
       "      <td>0.247689</td>\n",
       "      <td>5</td>\n",
       "      <td>3.0</td>\n",
       "      <td>NaN</td>\n",
       "    </tr>\n",
       "  </tbody>\n",
       "</table>\n",
       "</div>"
      ],
      "text/plain": [
       "                   A         B         C  D    F    E\n",
       "2013-01-01  0.000000  0.000000  1.983660  5  NaN  1.0\n",
       "2013-01-02 -0.195263 -0.497347 -0.716584  5  1.0  1.0\n",
       "2013-01-03 -1.229426  0.620198 -1.110588  5  2.0  NaN\n",
       "2013-01-04 -0.850019 -1.326143  0.247689  5  3.0  NaN"
      ]
     },
     "execution_count": 139,
     "metadata": {
      "tags": []
     },
     "output_type": "execute_result"
    }
   ],
   "source": [
    "df1"
   ]
  },
  {
   "cell_type": "code",
   "execution_count": 140,
   "metadata": {
    "colab": {
     "base_uri": "https://localhost:8080/",
     "height": 78
    },
    "id": "eADpYqH8y_ts",
    "outputId": "04656ea6-95d0-4388-f9b7-beb785378246"
   },
   "outputs": [
    {
     "data": {
      "text/html": [
       "<div>\n",
       "<style scoped>\n",
       "    .dataframe tbody tr th:only-of-type {\n",
       "        vertical-align: middle;\n",
       "    }\n",
       "\n",
       "    .dataframe tbody tr th {\n",
       "        vertical-align: top;\n",
       "    }\n",
       "\n",
       "    .dataframe thead th {\n",
       "        text-align: right;\n",
       "    }\n",
       "</style>\n",
       "<table border=\"1\" class=\"dataframe\">\n",
       "  <thead>\n",
       "    <tr style=\"text-align: right;\">\n",
       "      <th></th>\n",
       "      <th>A</th>\n",
       "      <th>B</th>\n",
       "      <th>C</th>\n",
       "      <th>D</th>\n",
       "      <th>F</th>\n",
       "      <th>E</th>\n",
       "    </tr>\n",
       "  </thead>\n",
       "  <tbody>\n",
       "    <tr>\n",
       "      <th>2013-01-02</th>\n",
       "      <td>-0.195263</td>\n",
       "      <td>-0.497347</td>\n",
       "      <td>-0.716584</td>\n",
       "      <td>5</td>\n",
       "      <td>1.0</td>\n",
       "      <td>1.0</td>\n",
       "    </tr>\n",
       "  </tbody>\n",
       "</table>\n",
       "</div>"
      ],
      "text/plain": [
       "                   A         B         C  D    F    E\n",
       "2013-01-02 -0.195263 -0.497347 -0.716584  5  1.0  1.0"
      ]
     },
     "execution_count": 140,
     "metadata": {
      "tags": []
     },
     "output_type": "execute_result"
    }
   ],
   "source": [
    "df1.dropna(how='any')"
   ]
  },
  {
   "cell_type": "code",
   "execution_count": 141,
   "metadata": {
    "colab": {
     "base_uri": "https://localhost:8080/",
     "height": 168
    },
    "id": "6BmjAR6TzCZG",
    "outputId": "30addcbd-51cc-4780-b975-5d00c2b331ff"
   },
   "outputs": [
    {
     "data": {
      "text/html": [
       "<div>\n",
       "<style scoped>\n",
       "    .dataframe tbody tr th:only-of-type {\n",
       "        vertical-align: middle;\n",
       "    }\n",
       "\n",
       "    .dataframe tbody tr th {\n",
       "        vertical-align: top;\n",
       "    }\n",
       "\n",
       "    .dataframe thead th {\n",
       "        text-align: right;\n",
       "    }\n",
       "</style>\n",
       "<table border=\"1\" class=\"dataframe\">\n",
       "  <thead>\n",
       "    <tr style=\"text-align: right;\">\n",
       "      <th></th>\n",
       "      <th>A</th>\n",
       "      <th>B</th>\n",
       "      <th>C</th>\n",
       "      <th>D</th>\n",
       "      <th>F</th>\n",
       "      <th>E</th>\n",
       "    </tr>\n",
       "  </thead>\n",
       "  <tbody>\n",
       "    <tr>\n",
       "      <th>2013-01-01</th>\n",
       "      <td>0.000000</td>\n",
       "      <td>0.000000</td>\n",
       "      <td>1.983660</td>\n",
       "      <td>5</td>\n",
       "      <td>5.0</td>\n",
       "      <td>1.0</td>\n",
       "    </tr>\n",
       "    <tr>\n",
       "      <th>2013-01-02</th>\n",
       "      <td>-0.195263</td>\n",
       "      <td>-0.497347</td>\n",
       "      <td>-0.716584</td>\n",
       "      <td>5</td>\n",
       "      <td>1.0</td>\n",
       "      <td>1.0</td>\n",
       "    </tr>\n",
       "    <tr>\n",
       "      <th>2013-01-03</th>\n",
       "      <td>-1.229426</td>\n",
       "      <td>0.620198</td>\n",
       "      <td>-1.110588</td>\n",
       "      <td>5</td>\n",
       "      <td>2.0</td>\n",
       "      <td>5.0</td>\n",
       "    </tr>\n",
       "    <tr>\n",
       "      <th>2013-01-04</th>\n",
       "      <td>-0.850019</td>\n",
       "      <td>-1.326143</td>\n",
       "      <td>0.247689</td>\n",
       "      <td>5</td>\n",
       "      <td>3.0</td>\n",
       "      <td>5.0</td>\n",
       "    </tr>\n",
       "  </tbody>\n",
       "</table>\n",
       "</div>"
      ],
      "text/plain": [
       "                   A         B         C  D    F    E\n",
       "2013-01-01  0.000000  0.000000  1.983660  5  5.0  1.0\n",
       "2013-01-02 -0.195263 -0.497347 -0.716584  5  1.0  1.0\n",
       "2013-01-03 -1.229426  0.620198 -1.110588  5  2.0  5.0\n",
       "2013-01-04 -0.850019 -1.326143  0.247689  5  3.0  5.0"
      ]
     },
     "execution_count": 141,
     "metadata": {
      "tags": []
     },
     "output_type": "execute_result"
    }
   ],
   "source": [
    "df1.fillna(value=5)"
   ]
  },
  {
   "cell_type": "code",
   "execution_count": 142,
   "metadata": {
    "colab": {
     "base_uri": "https://localhost:8080/",
     "height": 168
    },
    "id": "qYq48tfezDdx",
    "outputId": "5b716d14-8496-432f-ab03-6f9fcfd36ad1"
   },
   "outputs": [
    {
     "data": {
      "text/html": [
       "<div>\n",
       "<style scoped>\n",
       "    .dataframe tbody tr th:only-of-type {\n",
       "        vertical-align: middle;\n",
       "    }\n",
       "\n",
       "    .dataframe tbody tr th {\n",
       "        vertical-align: top;\n",
       "    }\n",
       "\n",
       "    .dataframe thead th {\n",
       "        text-align: right;\n",
       "    }\n",
       "</style>\n",
       "<table border=\"1\" class=\"dataframe\">\n",
       "  <thead>\n",
       "    <tr style=\"text-align: right;\">\n",
       "      <th></th>\n",
       "      <th>A</th>\n",
       "      <th>B</th>\n",
       "      <th>C</th>\n",
       "      <th>D</th>\n",
       "      <th>F</th>\n",
       "      <th>E</th>\n",
       "    </tr>\n",
       "  </thead>\n",
       "  <tbody>\n",
       "    <tr>\n",
       "      <th>2013-01-01</th>\n",
       "      <td>False</td>\n",
       "      <td>False</td>\n",
       "      <td>False</td>\n",
       "      <td>False</td>\n",
       "      <td>True</td>\n",
       "      <td>False</td>\n",
       "    </tr>\n",
       "    <tr>\n",
       "      <th>2013-01-02</th>\n",
       "      <td>False</td>\n",
       "      <td>False</td>\n",
       "      <td>False</td>\n",
       "      <td>False</td>\n",
       "      <td>False</td>\n",
       "      <td>False</td>\n",
       "    </tr>\n",
       "    <tr>\n",
       "      <th>2013-01-03</th>\n",
       "      <td>False</td>\n",
       "      <td>False</td>\n",
       "      <td>False</td>\n",
       "      <td>False</td>\n",
       "      <td>False</td>\n",
       "      <td>True</td>\n",
       "    </tr>\n",
       "    <tr>\n",
       "      <th>2013-01-04</th>\n",
       "      <td>False</td>\n",
       "      <td>False</td>\n",
       "      <td>False</td>\n",
       "      <td>False</td>\n",
       "      <td>False</td>\n",
       "      <td>True</td>\n",
       "    </tr>\n",
       "  </tbody>\n",
       "</table>\n",
       "</div>"
      ],
      "text/plain": [
       "                A      B      C      D      F      E\n",
       "2013-01-01  False  False  False  False   True  False\n",
       "2013-01-02  False  False  False  False  False  False\n",
       "2013-01-03  False  False  False  False  False   True\n",
       "2013-01-04  False  False  False  False  False   True"
      ]
     },
     "execution_count": 142,
     "metadata": {
      "tags": []
     },
     "output_type": "execute_result"
    }
   ],
   "source": [
    "pd.isna(df1)"
   ]
  },
  {
   "cell_type": "markdown",
   "metadata": {
    "id": "HrdJWn4GzNSv"
   },
   "source": [
    "### 5. 연산 (Operations)"
   ]
  },
  {
   "cell_type": "code",
   "execution_count": 143,
   "metadata": {
    "colab": {
     "base_uri": "https://localhost:8080/",
     "height": 228
    },
    "id": "WxLR8pD2zIIC",
    "outputId": "6de9dcff-1853-42a3-b1ac-ba2a909df016"
   },
   "outputs": [
    {
     "data": {
      "text/html": [
       "<div>\n",
       "<style scoped>\n",
       "    .dataframe tbody tr th:only-of-type {\n",
       "        vertical-align: middle;\n",
       "    }\n",
       "\n",
       "    .dataframe tbody tr th {\n",
       "        vertical-align: top;\n",
       "    }\n",
       "\n",
       "    .dataframe thead th {\n",
       "        text-align: right;\n",
       "    }\n",
       "</style>\n",
       "<table border=\"1\" class=\"dataframe\">\n",
       "  <thead>\n",
       "    <tr style=\"text-align: right;\">\n",
       "      <th></th>\n",
       "      <th>A</th>\n",
       "      <th>B</th>\n",
       "      <th>C</th>\n",
       "      <th>D</th>\n",
       "      <th>F</th>\n",
       "    </tr>\n",
       "  </thead>\n",
       "  <tbody>\n",
       "    <tr>\n",
       "      <th>2013-01-01</th>\n",
       "      <td>0.000000</td>\n",
       "      <td>0.000000</td>\n",
       "      <td>1.983660</td>\n",
       "      <td>5</td>\n",
       "      <td>NaN</td>\n",
       "    </tr>\n",
       "    <tr>\n",
       "      <th>2013-01-02</th>\n",
       "      <td>-0.195263</td>\n",
       "      <td>-0.497347</td>\n",
       "      <td>-0.716584</td>\n",
       "      <td>5</td>\n",
       "      <td>1.0</td>\n",
       "    </tr>\n",
       "    <tr>\n",
       "      <th>2013-01-03</th>\n",
       "      <td>-1.229426</td>\n",
       "      <td>0.620198</td>\n",
       "      <td>-1.110588</td>\n",
       "      <td>5</td>\n",
       "      <td>2.0</td>\n",
       "    </tr>\n",
       "    <tr>\n",
       "      <th>2013-01-04</th>\n",
       "      <td>-0.850019</td>\n",
       "      <td>-1.326143</td>\n",
       "      <td>0.247689</td>\n",
       "      <td>5</td>\n",
       "      <td>3.0</td>\n",
       "    </tr>\n",
       "    <tr>\n",
       "      <th>2013-01-05</th>\n",
       "      <td>0.673678</td>\n",
       "      <td>-1.165957</td>\n",
       "      <td>-1.021746</td>\n",
       "      <td>5</td>\n",
       "      <td>4.0</td>\n",
       "    </tr>\n",
       "    <tr>\n",
       "      <th>2013-01-06</th>\n",
       "      <td>0.282271</td>\n",
       "      <td>1.138726</td>\n",
       "      <td>-0.689579</td>\n",
       "      <td>5</td>\n",
       "      <td>5.0</td>\n",
       "    </tr>\n",
       "  </tbody>\n",
       "</table>\n",
       "</div>"
      ],
      "text/plain": [
       "                   A         B         C  D    F\n",
       "2013-01-01  0.000000  0.000000  1.983660  5  NaN\n",
       "2013-01-02 -0.195263 -0.497347 -0.716584  5  1.0\n",
       "2013-01-03 -1.229426  0.620198 -1.110588  5  2.0\n",
       "2013-01-04 -0.850019 -1.326143  0.247689  5  3.0\n",
       "2013-01-05  0.673678 -1.165957 -1.021746  5  4.0\n",
       "2013-01-06  0.282271  1.138726 -0.689579  5  5.0"
      ]
     },
     "execution_count": 143,
     "metadata": {
      "tags": []
     },
     "output_type": "execute_result"
    }
   ],
   "source": [
    "df"
   ]
  },
  {
   "cell_type": "code",
   "execution_count": 144,
   "metadata": {
    "colab": {
     "base_uri": "https://localhost:8080/",
     "height": 126
    },
    "id": "Y_g80qvozTGY",
    "outputId": "b2d83ed9-72e3-46ad-e293-75d2a6db7320"
   },
   "outputs": [
    {
     "data": {
      "text/plain": [
       "A   -0.219793\n",
       "B   -0.205087\n",
       "C   -0.217858\n",
       "D    5.000000\n",
       "F    3.000000\n",
       "dtype: float64"
      ]
     },
     "execution_count": 144,
     "metadata": {
      "tags": []
     },
     "output_type": "execute_result"
    }
   ],
   "source": [
    "df.mean()"
   ]
  },
  {
   "cell_type": "code",
   "execution_count": 145,
   "metadata": {
    "colab": {
     "base_uri": "https://localhost:8080/",
     "height": 145
    },
    "id": "L6ad47_nzUao",
    "outputId": "d3a829fa-e994-4757-8404-aaf7f78c905e"
   },
   "outputs": [
    {
     "data": {
      "text/plain": [
       "2013-01-01    1.745915\n",
       "2013-01-02    0.918161\n",
       "2013-01-03    1.056037\n",
       "2013-01-04    1.214306\n",
       "2013-01-05    1.497195\n",
       "2013-01-06    2.146284\n",
       "Freq: D, dtype: float64"
      ]
     },
     "execution_count": 145,
     "metadata": {
      "tags": []
     },
     "output_type": "execute_result"
    }
   ],
   "source": [
    "df.mean(1) # 인덱스 기준"
   ]
  },
  {
   "cell_type": "code",
   "execution_count": 146,
   "metadata": {
    "colab": {
     "base_uri": "https://localhost:8080/",
     "height": 145
    },
    "id": "bwr4vbKRzWZO",
    "outputId": "ec73e323-2ec3-4d0f-f9fc-dd82730f1f7a"
   },
   "outputs": [
    {
     "data": {
      "text/plain": [
       "2013-01-01    NaN\n",
       "2013-01-02    NaN\n",
       "2013-01-03    1.0\n",
       "2013-01-04    3.0\n",
       "2013-01-05    5.0\n",
       "2013-01-06    NaN\n",
       "Freq: D, dtype: float64"
      ]
     },
     "execution_count": 146,
     "metadata": {
      "tags": []
     },
     "output_type": "execute_result"
    }
   ],
   "source": [
    "s = pd.Series([1, 3, 5, np.nan, 6, 8], index=dates).shift(2)      # shift(2)는 뒤로 2칸 민다는 의미\n",
    "s"
   ]
  },
  {
   "cell_type": "code",
   "execution_count": 147,
   "metadata": {
    "colab": {
     "base_uri": "https://localhost:8080/",
     "height": 228
    },
    "id": "SA8aywKwzbRr",
    "outputId": "4380e718-2d19-4775-e4dd-53b01833d376"
   },
   "outputs": [
    {
     "data": {
      "text/html": [
       "<div>\n",
       "<style scoped>\n",
       "    .dataframe tbody tr th:only-of-type {\n",
       "        vertical-align: middle;\n",
       "    }\n",
       "\n",
       "    .dataframe tbody tr th {\n",
       "        vertical-align: top;\n",
       "    }\n",
       "\n",
       "    .dataframe thead th {\n",
       "        text-align: right;\n",
       "    }\n",
       "</style>\n",
       "<table border=\"1\" class=\"dataframe\">\n",
       "  <thead>\n",
       "    <tr style=\"text-align: right;\">\n",
       "      <th></th>\n",
       "      <th>A</th>\n",
       "      <th>B</th>\n",
       "      <th>C</th>\n",
       "      <th>D</th>\n",
       "      <th>F</th>\n",
       "    </tr>\n",
       "  </thead>\n",
       "  <tbody>\n",
       "    <tr>\n",
       "      <th>2013-01-01</th>\n",
       "      <td>0.000000</td>\n",
       "      <td>0.000000</td>\n",
       "      <td>1.983660</td>\n",
       "      <td>5</td>\n",
       "      <td>NaN</td>\n",
       "    </tr>\n",
       "    <tr>\n",
       "      <th>2013-01-02</th>\n",
       "      <td>-0.195263</td>\n",
       "      <td>-0.497347</td>\n",
       "      <td>-0.716584</td>\n",
       "      <td>5</td>\n",
       "      <td>1.0</td>\n",
       "    </tr>\n",
       "    <tr>\n",
       "      <th>2013-01-03</th>\n",
       "      <td>-1.229426</td>\n",
       "      <td>0.620198</td>\n",
       "      <td>-1.110588</td>\n",
       "      <td>5</td>\n",
       "      <td>2.0</td>\n",
       "    </tr>\n",
       "    <tr>\n",
       "      <th>2013-01-04</th>\n",
       "      <td>-0.850019</td>\n",
       "      <td>-1.326143</td>\n",
       "      <td>0.247689</td>\n",
       "      <td>5</td>\n",
       "      <td>3.0</td>\n",
       "    </tr>\n",
       "    <tr>\n",
       "      <th>2013-01-05</th>\n",
       "      <td>0.673678</td>\n",
       "      <td>-1.165957</td>\n",
       "      <td>-1.021746</td>\n",
       "      <td>5</td>\n",
       "      <td>4.0</td>\n",
       "    </tr>\n",
       "    <tr>\n",
       "      <th>2013-01-06</th>\n",
       "      <td>0.282271</td>\n",
       "      <td>1.138726</td>\n",
       "      <td>-0.689579</td>\n",
       "      <td>5</td>\n",
       "      <td>5.0</td>\n",
       "    </tr>\n",
       "  </tbody>\n",
       "</table>\n",
       "</div>"
      ],
      "text/plain": [
       "                   A         B         C  D    F\n",
       "2013-01-01  0.000000  0.000000  1.983660  5  NaN\n",
       "2013-01-02 -0.195263 -0.497347 -0.716584  5  1.0\n",
       "2013-01-03 -1.229426  0.620198 -1.110588  5  2.0\n",
       "2013-01-04 -0.850019 -1.326143  0.247689  5  3.0\n",
       "2013-01-05  0.673678 -1.165957 -1.021746  5  4.0\n",
       "2013-01-06  0.282271  1.138726 -0.689579  5  5.0"
      ]
     },
     "execution_count": 147,
     "metadata": {
      "tags": []
     },
     "output_type": "execute_result"
    }
   ],
   "source": [
    "df"
   ]
  },
  {
   "cell_type": "code",
   "execution_count": 148,
   "metadata": {
    "colab": {
     "base_uri": "https://localhost:8080/",
     "height": 228
    },
    "id": "PSUUjqoVzfu3",
    "outputId": "a9ec22f4-b748-4f53-ab01-dcb489c38e8f"
   },
   "outputs": [
    {
     "data": {
      "text/html": [
       "<div>\n",
       "<style scoped>\n",
       "    .dataframe tbody tr th:only-of-type {\n",
       "        vertical-align: middle;\n",
       "    }\n",
       "\n",
       "    .dataframe tbody tr th {\n",
       "        vertical-align: top;\n",
       "    }\n",
       "\n",
       "    .dataframe thead th {\n",
       "        text-align: right;\n",
       "    }\n",
       "</style>\n",
       "<table border=\"1\" class=\"dataframe\">\n",
       "  <thead>\n",
       "    <tr style=\"text-align: right;\">\n",
       "      <th></th>\n",
       "      <th>A</th>\n",
       "      <th>B</th>\n",
       "      <th>C</th>\n",
       "      <th>D</th>\n",
       "      <th>F</th>\n",
       "    </tr>\n",
       "  </thead>\n",
       "  <tbody>\n",
       "    <tr>\n",
       "      <th>2013-01-01</th>\n",
       "      <td>NaN</td>\n",
       "      <td>NaN</td>\n",
       "      <td>NaN</td>\n",
       "      <td>NaN</td>\n",
       "      <td>NaN</td>\n",
       "    </tr>\n",
       "    <tr>\n",
       "      <th>2013-01-02</th>\n",
       "      <td>NaN</td>\n",
       "      <td>NaN</td>\n",
       "      <td>NaN</td>\n",
       "      <td>NaN</td>\n",
       "      <td>NaN</td>\n",
       "    </tr>\n",
       "    <tr>\n",
       "      <th>2013-01-03</th>\n",
       "      <td>-2.229426</td>\n",
       "      <td>-0.379802</td>\n",
       "      <td>-2.110588</td>\n",
       "      <td>4.0</td>\n",
       "      <td>1.0</td>\n",
       "    </tr>\n",
       "    <tr>\n",
       "      <th>2013-01-04</th>\n",
       "      <td>-3.850019</td>\n",
       "      <td>-4.326143</td>\n",
       "      <td>-2.752311</td>\n",
       "      <td>2.0</td>\n",
       "      <td>0.0</td>\n",
       "    </tr>\n",
       "    <tr>\n",
       "      <th>2013-01-05</th>\n",
       "      <td>-4.326322</td>\n",
       "      <td>-6.165957</td>\n",
       "      <td>-6.021746</td>\n",
       "      <td>0.0</td>\n",
       "      <td>-1.0</td>\n",
       "    </tr>\n",
       "    <tr>\n",
       "      <th>2013-01-06</th>\n",
       "      <td>NaN</td>\n",
       "      <td>NaN</td>\n",
       "      <td>NaN</td>\n",
       "      <td>NaN</td>\n",
       "      <td>NaN</td>\n",
       "    </tr>\n",
       "  </tbody>\n",
       "</table>\n",
       "</div>"
      ],
      "text/plain": [
       "                   A         B         C    D    F\n",
       "2013-01-01       NaN       NaN       NaN  NaN  NaN\n",
       "2013-01-02       NaN       NaN       NaN  NaN  NaN\n",
       "2013-01-03 -2.229426 -0.379802 -2.110588  4.0  1.0\n",
       "2013-01-04 -3.850019 -4.326143 -2.752311  2.0  0.0\n",
       "2013-01-05 -4.326322 -6.165957 -6.021746  0.0 -1.0\n",
       "2013-01-06       NaN       NaN       NaN  NaN  NaN"
      ]
     },
     "execution_count": 148,
     "metadata": {
      "tags": []
     },
     "output_type": "execute_result"
    }
   ],
   "source": [
    "df.sub(s, axis='index')"
   ]
  },
  {
   "cell_type": "markdown",
   "metadata": {
    "id": "4BjW_w2OzlZ6"
   },
   "source": [
    "#### 함수 적용하기 (Apply)"
   ]
  },
  {
   "cell_type": "code",
   "execution_count": 149,
   "metadata": {
    "colab": {
     "base_uri": "https://localhost:8080/",
     "height": 228
    },
    "id": "LU6e3SfE0NDP",
    "outputId": "6f96752c-7547-45a3-a3bb-3218c21e82f7"
   },
   "outputs": [
    {
     "data": {
      "text/html": [
       "<div>\n",
       "<style scoped>\n",
       "    .dataframe tbody tr th:only-of-type {\n",
       "        vertical-align: middle;\n",
       "    }\n",
       "\n",
       "    .dataframe tbody tr th {\n",
       "        vertical-align: top;\n",
       "    }\n",
       "\n",
       "    .dataframe thead th {\n",
       "        text-align: right;\n",
       "    }\n",
       "</style>\n",
       "<table border=\"1\" class=\"dataframe\">\n",
       "  <thead>\n",
       "    <tr style=\"text-align: right;\">\n",
       "      <th></th>\n",
       "      <th>A</th>\n",
       "      <th>B</th>\n",
       "      <th>C</th>\n",
       "      <th>D</th>\n",
       "      <th>F</th>\n",
       "    </tr>\n",
       "  </thead>\n",
       "  <tbody>\n",
       "    <tr>\n",
       "      <th>2013-01-01</th>\n",
       "      <td>0.000000</td>\n",
       "      <td>0.000000</td>\n",
       "      <td>1.983660</td>\n",
       "      <td>5</td>\n",
       "      <td>NaN</td>\n",
       "    </tr>\n",
       "    <tr>\n",
       "      <th>2013-01-02</th>\n",
       "      <td>-0.195263</td>\n",
       "      <td>-0.497347</td>\n",
       "      <td>-0.716584</td>\n",
       "      <td>5</td>\n",
       "      <td>1.0</td>\n",
       "    </tr>\n",
       "    <tr>\n",
       "      <th>2013-01-03</th>\n",
       "      <td>-1.229426</td>\n",
       "      <td>0.620198</td>\n",
       "      <td>-1.110588</td>\n",
       "      <td>5</td>\n",
       "      <td>2.0</td>\n",
       "    </tr>\n",
       "    <tr>\n",
       "      <th>2013-01-04</th>\n",
       "      <td>-0.850019</td>\n",
       "      <td>-1.326143</td>\n",
       "      <td>0.247689</td>\n",
       "      <td>5</td>\n",
       "      <td>3.0</td>\n",
       "    </tr>\n",
       "    <tr>\n",
       "      <th>2013-01-05</th>\n",
       "      <td>0.673678</td>\n",
       "      <td>-1.165957</td>\n",
       "      <td>-1.021746</td>\n",
       "      <td>5</td>\n",
       "      <td>4.0</td>\n",
       "    </tr>\n",
       "    <tr>\n",
       "      <th>2013-01-06</th>\n",
       "      <td>0.282271</td>\n",
       "      <td>1.138726</td>\n",
       "      <td>-0.689579</td>\n",
       "      <td>5</td>\n",
       "      <td>5.0</td>\n",
       "    </tr>\n",
       "  </tbody>\n",
       "</table>\n",
       "</div>"
      ],
      "text/plain": [
       "                   A         B         C  D    F\n",
       "2013-01-01  0.000000  0.000000  1.983660  5  NaN\n",
       "2013-01-02 -0.195263 -0.497347 -0.716584  5  1.0\n",
       "2013-01-03 -1.229426  0.620198 -1.110588  5  2.0\n",
       "2013-01-04 -0.850019 -1.326143  0.247689  5  3.0\n",
       "2013-01-05  0.673678 -1.165957 -1.021746  5  4.0\n",
       "2013-01-06  0.282271  1.138726 -0.689579  5  5.0"
      ]
     },
     "execution_count": 149,
     "metadata": {
      "tags": []
     },
     "output_type": "execute_result"
    }
   ],
   "source": [
    "df"
   ]
  },
  {
   "cell_type": "code",
   "execution_count": 150,
   "metadata": {
    "colab": {
     "base_uri": "https://localhost:8080/",
     "height": 228
    },
    "id": "8SpMvXX2zf85",
    "outputId": "15b96406-bc66-4e19-d84e-2765e499bc89"
   },
   "outputs": [
    {
     "data": {
      "text/html": [
       "<div>\n",
       "<style scoped>\n",
       "    .dataframe tbody tr th:only-of-type {\n",
       "        vertical-align: middle;\n",
       "    }\n",
       "\n",
       "    .dataframe tbody tr th {\n",
       "        vertical-align: top;\n",
       "    }\n",
       "\n",
       "    .dataframe thead th {\n",
       "        text-align: right;\n",
       "    }\n",
       "</style>\n",
       "<table border=\"1\" class=\"dataframe\">\n",
       "  <thead>\n",
       "    <tr style=\"text-align: right;\">\n",
       "      <th></th>\n",
       "      <th>A</th>\n",
       "      <th>B</th>\n",
       "      <th>C</th>\n",
       "      <th>D</th>\n",
       "      <th>F</th>\n",
       "    </tr>\n",
       "  </thead>\n",
       "  <tbody>\n",
       "    <tr>\n",
       "      <th>2013-01-01</th>\n",
       "      <td>0.000000</td>\n",
       "      <td>0.000000</td>\n",
       "      <td>1.983660</td>\n",
       "      <td>5</td>\n",
       "      <td>NaN</td>\n",
       "    </tr>\n",
       "    <tr>\n",
       "      <th>2013-01-02</th>\n",
       "      <td>-0.195263</td>\n",
       "      <td>-0.497347</td>\n",
       "      <td>1.267076</td>\n",
       "      <td>10</td>\n",
       "      <td>1.0</td>\n",
       "    </tr>\n",
       "    <tr>\n",
       "      <th>2013-01-03</th>\n",
       "      <td>-1.424688</td>\n",
       "      <td>0.122850</td>\n",
       "      <td>0.156487</td>\n",
       "      <td>15</td>\n",
       "      <td>3.0</td>\n",
       "    </tr>\n",
       "    <tr>\n",
       "      <th>2013-01-04</th>\n",
       "      <td>-2.274707</td>\n",
       "      <td>-1.203292</td>\n",
       "      <td>0.404177</td>\n",
       "      <td>20</td>\n",
       "      <td>6.0</td>\n",
       "    </tr>\n",
       "    <tr>\n",
       "      <th>2013-01-05</th>\n",
       "      <td>-1.601029</td>\n",
       "      <td>-2.369250</td>\n",
       "      <td>-0.617570</td>\n",
       "      <td>25</td>\n",
       "      <td>10.0</td>\n",
       "    </tr>\n",
       "    <tr>\n",
       "      <th>2013-01-06</th>\n",
       "      <td>-1.318757</td>\n",
       "      <td>-1.230524</td>\n",
       "      <td>-1.307149</td>\n",
       "      <td>30</td>\n",
       "      <td>15.0</td>\n",
       "    </tr>\n",
       "  </tbody>\n",
       "</table>\n",
       "</div>"
      ],
      "text/plain": [
       "                   A         B         C   D     F\n",
       "2013-01-01  0.000000  0.000000  1.983660   5   NaN\n",
       "2013-01-02 -0.195263 -0.497347  1.267076  10   1.0\n",
       "2013-01-03 -1.424688  0.122850  0.156487  15   3.0\n",
       "2013-01-04 -2.274707 -1.203292  0.404177  20   6.0\n",
       "2013-01-05 -1.601029 -2.369250 -0.617570  25  10.0\n",
       "2013-01-06 -1.318757 -1.230524 -1.307149  30  15.0"
      ]
     },
     "execution_count": 150,
     "metadata": {
      "tags": []
     },
     "output_type": "execute_result"
    }
   ],
   "source": [
    "df.apply(np.cumsum)"
   ]
  },
  {
   "cell_type": "code",
   "execution_count": 151,
   "metadata": {
    "colab": {
     "base_uri": "https://localhost:8080/",
     "height": 126
    },
    "id": "_isC0Z1ozsFi",
    "outputId": "3ffc8741-5fe3-4bb6-80a3-13e1cc4ad697"
   },
   "outputs": [
    {
     "data": {
      "text/plain": [
       "A   -0.219793\n",
       "B   -0.205087\n",
       "C   -0.217858\n",
       "D    5.000000\n",
       "F    3.000000\n",
       "dtype: float64"
      ]
     },
     "execution_count": 151,
     "metadata": {
      "tags": []
     },
     "output_type": "execute_result"
    }
   ],
   "source": [
    "df.apply(lambda x: x.mean())"
   ]
  },
  {
   "cell_type": "markdown",
   "metadata": {
    "id": "lVZ5YdXS0chl"
   },
   "source": [
    "#### Histogramming"
   ]
  },
  {
   "cell_type": "code",
   "execution_count": 152,
   "metadata": {
    "colab": {
     "base_uri": "https://localhost:8080/",
     "height": 217
    },
    "id": "QszduRO30Y-o",
    "outputId": "61c30365-8eda-457a-a554-2bfbf3ca5813"
   },
   "outputs": [
    {
     "data": {
      "text/plain": [
       "0    3\n",
       "1    2\n",
       "2    5\n",
       "3    6\n",
       "4    2\n",
       "5    4\n",
       "6    1\n",
       "7    4\n",
       "8    4\n",
       "9    6\n",
       "dtype: int64"
      ]
     },
     "execution_count": 152,
     "metadata": {
      "tags": []
     },
     "output_type": "execute_result"
    }
   ],
   "source": [
    "s = pd.Series(np.random.randint(0, 7, size=10))\n",
    "s"
   ]
  },
  {
   "cell_type": "code",
   "execution_count": 153,
   "metadata": {
    "colab": {
     "base_uri": "https://localhost:8080/",
     "height": 145
    },
    "id": "BWV22vEZ0huz",
    "outputId": "ccd9bb92-ba48-48b6-e562-b779d7dec97e"
   },
   "outputs": [
    {
     "data": {
      "text/plain": [
       "4    3\n",
       "6    2\n",
       "2    2\n",
       "5    1\n",
       "3    1\n",
       "1    1\n",
       "dtype: int64"
      ]
     },
     "execution_count": 153,
     "metadata": {
      "tags": []
     },
     "output_type": "execute_result"
    }
   ],
   "source": [
    "s.value_counts()"
   ]
  },
  {
   "cell_type": "code",
   "execution_count": 154,
   "metadata": {
    "colab": {
     "base_uri": "https://localhost:8080/",
     "height": 35
    },
    "id": "GrBrOWaF0itG",
    "outputId": "c1ccdfa5-194c-4be8-e27f-7f6d546dc563"
   },
   "outputs": [
    {
     "data": {
      "text/plain": [
       "array([3, 2, 5, 6, 4, 1])"
      ]
     },
     "execution_count": 154,
     "metadata": {
      "tags": []
     },
     "output_type": "execute_result"
    }
   ],
   "source": [
    "s.unique()"
   ]
  },
  {
   "cell_type": "markdown",
   "metadata": {
    "id": "caoG5xaE5Rqb"
   },
   "source": [
    "### 6. Data 합치기 (Merging)"
   ]
  },
  {
   "cell_type": "code",
   "execution_count": 155,
   "metadata": {
    "colab": {
     "base_uri": "https://localhost:8080/",
     "height": 348
    },
    "id": "OrbBeWiQ0kmh",
    "outputId": "35060334-76e7-48a0-b043-99593a25f2a0"
   },
   "outputs": [
    {
     "data": {
      "text/html": [
       "<div>\n",
       "<style scoped>\n",
       "    .dataframe tbody tr th:only-of-type {\n",
       "        vertical-align: middle;\n",
       "    }\n",
       "\n",
       "    .dataframe tbody tr th {\n",
       "        vertical-align: top;\n",
       "    }\n",
       "\n",
       "    .dataframe thead th {\n",
       "        text-align: right;\n",
       "    }\n",
       "</style>\n",
       "<table border=\"1\" class=\"dataframe\">\n",
       "  <thead>\n",
       "    <tr style=\"text-align: right;\">\n",
       "      <th></th>\n",
       "      <th>0</th>\n",
       "      <th>1</th>\n",
       "      <th>2</th>\n",
       "      <th>3</th>\n",
       "    </tr>\n",
       "  </thead>\n",
       "  <tbody>\n",
       "    <tr>\n",
       "      <th>0</th>\n",
       "      <td>-0.548413</td>\n",
       "      <td>0.799476</td>\n",
       "      <td>-0.649068</td>\n",
       "      <td>-0.046207</td>\n",
       "    </tr>\n",
       "    <tr>\n",
       "      <th>1</th>\n",
       "      <td>0.724682</td>\n",
       "      <td>-2.064209</td>\n",
       "      <td>-0.467914</td>\n",
       "      <td>0.222821</td>\n",
       "    </tr>\n",
       "    <tr>\n",
       "      <th>2</th>\n",
       "      <td>0.463625</td>\n",
       "      <td>0.475174</td>\n",
       "      <td>-0.688080</td>\n",
       "      <td>1.311620</td>\n",
       "    </tr>\n",
       "    <tr>\n",
       "      <th>3</th>\n",
       "      <td>-0.109216</td>\n",
       "      <td>0.270409</td>\n",
       "      <td>1.238345</td>\n",
       "      <td>0.147855</td>\n",
       "    </tr>\n",
       "    <tr>\n",
       "      <th>4</th>\n",
       "      <td>0.015014</td>\n",
       "      <td>-1.402430</td>\n",
       "      <td>1.497547</td>\n",
       "      <td>1.101502</td>\n",
       "    </tr>\n",
       "    <tr>\n",
       "      <th>5</th>\n",
       "      <td>0.147045</td>\n",
       "      <td>0.365440</td>\n",
       "      <td>-0.547552</td>\n",
       "      <td>-1.418444</td>\n",
       "    </tr>\n",
       "    <tr>\n",
       "      <th>6</th>\n",
       "      <td>0.657171</td>\n",
       "      <td>0.162651</td>\n",
       "      <td>0.625333</td>\n",
       "      <td>1.683501</td>\n",
       "    </tr>\n",
       "    <tr>\n",
       "      <th>7</th>\n",
       "      <td>-0.523590</td>\n",
       "      <td>0.697741</td>\n",
       "      <td>0.328754</td>\n",
       "      <td>-0.236806</td>\n",
       "    </tr>\n",
       "    <tr>\n",
       "      <th>8</th>\n",
       "      <td>-0.544355</td>\n",
       "      <td>1.256281</td>\n",
       "      <td>0.280709</td>\n",
       "      <td>-0.387826</td>\n",
       "    </tr>\n",
       "    <tr>\n",
       "      <th>9</th>\n",
       "      <td>-0.719002</td>\n",
       "      <td>0.031150</td>\n",
       "      <td>-1.525831</td>\n",
       "      <td>0.297599</td>\n",
       "    </tr>\n",
       "  </tbody>\n",
       "</table>\n",
       "</div>"
      ],
      "text/plain": [
       "          0         1         2         3\n",
       "0 -0.548413  0.799476 -0.649068 -0.046207\n",
       "1  0.724682 -2.064209 -0.467914  0.222821\n",
       "2  0.463625  0.475174 -0.688080  1.311620\n",
       "3 -0.109216  0.270409  1.238345  0.147855\n",
       "4  0.015014 -1.402430  1.497547  1.101502\n",
       "5  0.147045  0.365440 -0.547552 -1.418444\n",
       "6  0.657171  0.162651  0.625333  1.683501\n",
       "7 -0.523590  0.697741  0.328754 -0.236806\n",
       "8 -0.544355  1.256281  0.280709 -0.387826\n",
       "9 -0.719002  0.031150 -1.525831  0.297599"
      ]
     },
     "execution_count": 155,
     "metadata": {
      "tags": []
     },
     "output_type": "execute_result"
    }
   ],
   "source": [
    "df = pd.DataFrame(np.random.randn(10, 4))\n",
    "df"
   ]
  },
  {
   "cell_type": "code",
   "execution_count": 156,
   "metadata": {
    "colab": {
     "base_uri": "https://localhost:8080/",
     "height": 254
    },
    "id": "Vnefx5Co5WwY",
    "outputId": "c8c1f273-0b46-4786-c37a-3fb70a1ad686"
   },
   "outputs": [
    {
     "data": {
      "text/plain": [
       "[          0         1         2         3\n",
       " 0 -0.548413  0.799476 -0.649068 -0.046207\n",
       " 1  0.724682 -2.064209 -0.467914  0.222821\n",
       " 2  0.463625  0.475174 -0.688080  1.311620,\n",
       "           0         1         2         3\n",
       " 3 -0.109216  0.270409  1.238345  0.147855\n",
       " 4  0.015014 -1.402430  1.497547  1.101502\n",
       " 5  0.147045  0.365440 -0.547552 -1.418444\n",
       " 6  0.657171  0.162651  0.625333  1.683501,\n",
       "           0         1         2         3\n",
       " 7 -0.523590  0.697741  0.328754 -0.236806\n",
       " 8 -0.544355  1.256281  0.280709 -0.387826\n",
       " 9 -0.719002  0.031150 -1.525831  0.297599]"
      ]
     },
     "execution_count": 156,
     "metadata": {
      "tags": []
     },
     "output_type": "execute_result"
    }
   ],
   "source": [
    "pieces = [df[:3], df[3:7], df[7:]]\n",
    "type(pieces[0])\n",
    "pieces"
   ]
  },
  {
   "cell_type": "code",
   "execution_count": 157,
   "metadata": {
    "colab": {
     "base_uri": "https://localhost:8080/",
     "height": 348
    },
    "id": "IgNeMz-c5o6H",
    "outputId": "e3498d72-338c-4a89-8f24-d608426d96bd"
   },
   "outputs": [
    {
     "data": {
      "text/html": [
       "<div>\n",
       "<style scoped>\n",
       "    .dataframe tbody tr th:only-of-type {\n",
       "        vertical-align: middle;\n",
       "    }\n",
       "\n",
       "    .dataframe tbody tr th {\n",
       "        vertical-align: top;\n",
       "    }\n",
       "\n",
       "    .dataframe thead th {\n",
       "        text-align: right;\n",
       "    }\n",
       "</style>\n",
       "<table border=\"1\" class=\"dataframe\">\n",
       "  <thead>\n",
       "    <tr style=\"text-align: right;\">\n",
       "      <th></th>\n",
       "      <th>0</th>\n",
       "      <th>1</th>\n",
       "      <th>2</th>\n",
       "      <th>3</th>\n",
       "    </tr>\n",
       "  </thead>\n",
       "  <tbody>\n",
       "    <tr>\n",
       "      <th>0</th>\n",
       "      <td>-0.548413</td>\n",
       "      <td>0.799476</td>\n",
       "      <td>-0.649068</td>\n",
       "      <td>-0.046207</td>\n",
       "    </tr>\n",
       "    <tr>\n",
       "      <th>1</th>\n",
       "      <td>0.724682</td>\n",
       "      <td>-2.064209</td>\n",
       "      <td>-0.467914</td>\n",
       "      <td>0.222821</td>\n",
       "    </tr>\n",
       "    <tr>\n",
       "      <th>2</th>\n",
       "      <td>0.463625</td>\n",
       "      <td>0.475174</td>\n",
       "      <td>-0.688080</td>\n",
       "      <td>1.311620</td>\n",
       "    </tr>\n",
       "    <tr>\n",
       "      <th>3</th>\n",
       "      <td>-0.109216</td>\n",
       "      <td>0.270409</td>\n",
       "      <td>1.238345</td>\n",
       "      <td>0.147855</td>\n",
       "    </tr>\n",
       "    <tr>\n",
       "      <th>4</th>\n",
       "      <td>0.015014</td>\n",
       "      <td>-1.402430</td>\n",
       "      <td>1.497547</td>\n",
       "      <td>1.101502</td>\n",
       "    </tr>\n",
       "    <tr>\n",
       "      <th>5</th>\n",
       "      <td>0.147045</td>\n",
       "      <td>0.365440</td>\n",
       "      <td>-0.547552</td>\n",
       "      <td>-1.418444</td>\n",
       "    </tr>\n",
       "    <tr>\n",
       "      <th>6</th>\n",
       "      <td>0.657171</td>\n",
       "      <td>0.162651</td>\n",
       "      <td>0.625333</td>\n",
       "      <td>1.683501</td>\n",
       "    </tr>\n",
       "    <tr>\n",
       "      <th>7</th>\n",
       "      <td>-0.523590</td>\n",
       "      <td>0.697741</td>\n",
       "      <td>0.328754</td>\n",
       "      <td>-0.236806</td>\n",
       "    </tr>\n",
       "    <tr>\n",
       "      <th>8</th>\n",
       "      <td>-0.544355</td>\n",
       "      <td>1.256281</td>\n",
       "      <td>0.280709</td>\n",
       "      <td>-0.387826</td>\n",
       "    </tr>\n",
       "    <tr>\n",
       "      <th>9</th>\n",
       "      <td>-0.719002</td>\n",
       "      <td>0.031150</td>\n",
       "      <td>-1.525831</td>\n",
       "      <td>0.297599</td>\n",
       "    </tr>\n",
       "  </tbody>\n",
       "</table>\n",
       "</div>"
      ],
      "text/plain": [
       "          0         1         2         3\n",
       "0 -0.548413  0.799476 -0.649068 -0.046207\n",
       "1  0.724682 -2.064209 -0.467914  0.222821\n",
       "2  0.463625  0.475174 -0.688080  1.311620\n",
       "3 -0.109216  0.270409  1.238345  0.147855\n",
       "4  0.015014 -1.402430  1.497547  1.101502\n",
       "5  0.147045  0.365440 -0.547552 -1.418444\n",
       "6  0.657171  0.162651  0.625333  1.683501\n",
       "7 -0.523590  0.697741  0.328754 -0.236806\n",
       "8 -0.544355  1.256281  0.280709 -0.387826\n",
       "9 -0.719002  0.031150 -1.525831  0.297599"
      ]
     },
     "execution_count": 157,
     "metadata": {
      "tags": []
     },
     "output_type": "execute_result"
    }
   ],
   "source": [
    "pd.concat(pieces)"
   ]
  },
  {
   "cell_type": "code",
   "execution_count": 158,
   "metadata": {
    "colab": {
     "base_uri": "https://localhost:8080/",
     "height": 288
    },
    "id": "uyV2TS_H5X5B",
    "outputId": "22dc2330-c253-4523-a12a-1d633f63bf8c"
   },
   "outputs": [
    {
     "data": {
      "text/html": [
       "<div>\n",
       "<style scoped>\n",
       "    .dataframe tbody tr th:only-of-type {\n",
       "        vertical-align: middle;\n",
       "    }\n",
       "\n",
       "    .dataframe tbody tr th {\n",
       "        vertical-align: top;\n",
       "    }\n",
       "\n",
       "    .dataframe thead th {\n",
       "        text-align: right;\n",
       "    }\n",
       "</style>\n",
       "<table border=\"1\" class=\"dataframe\">\n",
       "  <thead>\n",
       "    <tr style=\"text-align: right;\">\n",
       "      <th></th>\n",
       "      <th>A</th>\n",
       "      <th>B</th>\n",
       "      <th>C</th>\n",
       "      <th>D</th>\n",
       "    </tr>\n",
       "  </thead>\n",
       "  <tbody>\n",
       "    <tr>\n",
       "      <th>0</th>\n",
       "      <td>-0.957969</td>\n",
       "      <td>-2.364103</td>\n",
       "      <td>-0.652751</td>\n",
       "      <td>0.442032</td>\n",
       "    </tr>\n",
       "    <tr>\n",
       "      <th>1</th>\n",
       "      <td>0.000543</td>\n",
       "      <td>0.284184</td>\n",
       "      <td>-1.796741</td>\n",
       "      <td>1.075375</td>\n",
       "    </tr>\n",
       "    <tr>\n",
       "      <th>2</th>\n",
       "      <td>-0.778496</td>\n",
       "      <td>-1.837368</td>\n",
       "      <td>-1.732886</td>\n",
       "      <td>-0.525727</td>\n",
       "    </tr>\n",
       "    <tr>\n",
       "      <th>3</th>\n",
       "      <td>-0.198881</td>\n",
       "      <td>0.161987</td>\n",
       "      <td>-0.515595</td>\n",
       "      <td>-0.156061</td>\n",
       "    </tr>\n",
       "    <tr>\n",
       "      <th>4</th>\n",
       "      <td>0.339916</td>\n",
       "      <td>-0.604485</td>\n",
       "      <td>0.869656</td>\n",
       "      <td>-1.570429</td>\n",
       "    </tr>\n",
       "    <tr>\n",
       "      <th>5</th>\n",
       "      <td>0.124004</td>\n",
       "      <td>-0.000969</td>\n",
       "      <td>1.032189</td>\n",
       "      <td>0.126325</td>\n",
       "    </tr>\n",
       "    <tr>\n",
       "      <th>6</th>\n",
       "      <td>-0.628830</td>\n",
       "      <td>-1.623909</td>\n",
       "      <td>1.358231</td>\n",
       "      <td>1.017648</td>\n",
       "    </tr>\n",
       "    <tr>\n",
       "      <th>7</th>\n",
       "      <td>0.303329</td>\n",
       "      <td>1.505686</td>\n",
       "      <td>-2.357687</td>\n",
       "      <td>-0.724955</td>\n",
       "    </tr>\n",
       "  </tbody>\n",
       "</table>\n",
       "</div>"
      ],
      "text/plain": [
       "          A         B         C         D\n",
       "0 -0.957969 -2.364103 -0.652751  0.442032\n",
       "1  0.000543  0.284184 -1.796741  1.075375\n",
       "2 -0.778496 -1.837368 -1.732886 -0.525727\n",
       "3 -0.198881  0.161987 -0.515595 -0.156061\n",
       "4  0.339916 -0.604485  0.869656 -1.570429\n",
       "5  0.124004 -0.000969  1.032189  0.126325\n",
       "6 -0.628830 -1.623909  1.358231  1.017648\n",
       "7  0.303329  1.505686 -2.357687 -0.724955"
      ]
     },
     "execution_count": 158,
     "metadata": {
      "tags": []
     },
     "output_type": "execute_result"
    }
   ],
   "source": [
    "df = pd.DataFrame(np.random.randn(8, 4), columns=['A', 'B', 'C', 'D'])\n",
    "df"
   ]
  },
  {
   "cell_type": "code",
   "execution_count": 159,
   "metadata": {
    "colab": {
     "base_uri": "https://localhost:8080/",
     "height": 318
    },
    "id": "jRGXx7L553UF",
    "outputId": "bc750ba1-e95b-4240-8cda-07a611d14b9e"
   },
   "outputs": [
    {
     "data": {
      "text/html": [
       "<div>\n",
       "<style scoped>\n",
       "    .dataframe tbody tr th:only-of-type {\n",
       "        vertical-align: middle;\n",
       "    }\n",
       "\n",
       "    .dataframe tbody tr th {\n",
       "        vertical-align: top;\n",
       "    }\n",
       "\n",
       "    .dataframe thead th {\n",
       "        text-align: right;\n",
       "    }\n",
       "</style>\n",
       "<table border=\"1\" class=\"dataframe\">\n",
       "  <thead>\n",
       "    <tr style=\"text-align: right;\">\n",
       "      <th></th>\n",
       "      <th>A</th>\n",
       "      <th>B</th>\n",
       "      <th>C</th>\n",
       "      <th>D</th>\n",
       "    </tr>\n",
       "  </thead>\n",
       "  <tbody>\n",
       "    <tr>\n",
       "      <th>0</th>\n",
       "      <td>-0.957969</td>\n",
       "      <td>-2.364103</td>\n",
       "      <td>-0.652751</td>\n",
       "      <td>0.442032</td>\n",
       "    </tr>\n",
       "    <tr>\n",
       "      <th>1</th>\n",
       "      <td>0.000543</td>\n",
       "      <td>0.284184</td>\n",
       "      <td>-1.796741</td>\n",
       "      <td>1.075375</td>\n",
       "    </tr>\n",
       "    <tr>\n",
       "      <th>2</th>\n",
       "      <td>-0.778496</td>\n",
       "      <td>-1.837368</td>\n",
       "      <td>-1.732886</td>\n",
       "      <td>-0.525727</td>\n",
       "    </tr>\n",
       "    <tr>\n",
       "      <th>3</th>\n",
       "      <td>-0.198881</td>\n",
       "      <td>0.161987</td>\n",
       "      <td>-0.515595</td>\n",
       "      <td>-0.156061</td>\n",
       "    </tr>\n",
       "    <tr>\n",
       "      <th>4</th>\n",
       "      <td>0.339916</td>\n",
       "      <td>-0.604485</td>\n",
       "      <td>0.869656</td>\n",
       "      <td>-1.570429</td>\n",
       "    </tr>\n",
       "    <tr>\n",
       "      <th>5</th>\n",
       "      <td>0.124004</td>\n",
       "      <td>-0.000969</td>\n",
       "      <td>1.032189</td>\n",
       "      <td>0.126325</td>\n",
       "    </tr>\n",
       "    <tr>\n",
       "      <th>6</th>\n",
       "      <td>-0.628830</td>\n",
       "      <td>-1.623909</td>\n",
       "      <td>1.358231</td>\n",
       "      <td>1.017648</td>\n",
       "    </tr>\n",
       "    <tr>\n",
       "      <th>7</th>\n",
       "      <td>0.303329</td>\n",
       "      <td>1.505686</td>\n",
       "      <td>-2.357687</td>\n",
       "      <td>-0.724955</td>\n",
       "    </tr>\n",
       "    <tr>\n",
       "      <th>8</th>\n",
       "      <td>-0.198881</td>\n",
       "      <td>0.161987</td>\n",
       "      <td>-0.515595</td>\n",
       "      <td>-0.156061</td>\n",
       "    </tr>\n",
       "  </tbody>\n",
       "</table>\n",
       "</div>"
      ],
      "text/plain": [
       "          A         B         C         D\n",
       "0 -0.957969 -2.364103 -0.652751  0.442032\n",
       "1  0.000543  0.284184 -1.796741  1.075375\n",
       "2 -0.778496 -1.837368 -1.732886 -0.525727\n",
       "3 -0.198881  0.161987 -0.515595 -0.156061\n",
       "4  0.339916 -0.604485  0.869656 -1.570429\n",
       "5  0.124004 -0.000969  1.032189  0.126325\n",
       "6 -0.628830 -1.623909  1.358231  1.017648\n",
       "7  0.303329  1.505686 -2.357687 -0.724955\n",
       "8 -0.198881  0.161987 -0.515595 -0.156061"
      ]
     },
     "execution_count": 159,
     "metadata": {
      "tags": []
     },
     "output_type": "execute_result"
    }
   ],
   "source": [
    "s = df.iloc[3]\n",
    "df.append(s, ignore_index=True)"
   ]
  },
  {
   "cell_type": "markdown",
   "metadata": {
    "id": "hPdlqJr_6Wno"
   },
   "source": [
    "### 7. 그래프로 표현하기"
   ]
  },
  {
   "cell_type": "code",
   "execution_count": 160,
   "metadata": {
    "colab": {
     "base_uri": "https://localhost:8080/",
     "height": 295
    },
    "id": "oWWVJcAw54nW",
    "outputId": "e0148efc-ee71-4c94-8925-9f406d4bf79c"
   },
   "outputs": [
    {
     "data": {
      "text/plain": [
       "<matplotlib.axes._subplots.AxesSubplot at 0x7f03836a0da0>"
      ]
     },
     "execution_count": 160,
     "metadata": {
      "tags": []
     },
     "output_type": "execute_result"
    },
    {
     "data": {
      "image/png": "[encoded data removed]",
      "text/plain": [
       "<Figure size 432x288 with 1 Axes>"
      ]
     },
     "metadata": {
      "needs_background": "light",
      "tags": []
     },
     "output_type": "display_data"
    }
   ],
   "source": [
    "ts = pd.Series(np.random.randn(1000), index=pd.date_range('1/1/2000', periods=1000))\n",
    "ts = ts.cumsum()\n",
    "ts.plot()"
   ]
  },
  {
   "cell_type": "code",
   "execution_count": 165,
   "metadata": {
    "colab": {
     "base_uri": "https://localhost:8080/",
     "height": 295
    },
    "id": "oqje6qOc6aYE",
    "outputId": "92b15d24-2ddc-48e2-ed51-945d22ef11be"
   },
   "outputs": [
    {
     "data": {
      "text/plain": [
       "<Figure size 432x288 with 0 Axes>"
      ]
     },
     "metadata": {
      "tags": []
     },
     "output_type": "display_data"
    },
    {
     "data": {
      "image/png": "[encoded data removed]",
      "text/plain": [
       "<Figure size 432x288 with 1 Axes>"
      ]
     },
     "metadata": {
      "needs_background": "light",
      "tags": []
     },
     "output_type": "display_data"
    }
   ],
   "source": [
    "df = pd.DataFrame(np.random.randn(1000, 4), index=ts.index, columns=['A', 'B', 'C', 'D'])\n",
    "df = df.cumsum()\n",
    "plt.figure(); df.plot(); plt.legend(loc='best')\n",
    "plt.grid()"
   ]
  },
  {
   "cell_type": "markdown",
   "metadata": {
    "id": "DZw07btu6ck4"
   },
   "source": [
    "### 8. 데이터 입/출력"
   ]
  },
  {
   "cell_type": "code",
   "execution_count": 162,
   "metadata": {
    "id": "hEVf69WU6bVS"
   },
   "outputs": [],
   "source": [
    "df.to_csv('foo.csv')"
   ]
  },
  {
   "cell_type": "code",
   "execution_count": 163,
   "metadata": {
    "colab": {
     "base_uri": "https://localhost:8080/",
     "height": 407
    },
    "id": "R3I4ZEWD6hS2",
    "outputId": "70554da6-d4ce-45fa-d297-c1a1f2362604"
   },
   "outputs": [
    {
     "data": {
      "text/html": [
       "<div>\n",
       "<style scoped>\n",
       "    .dataframe tbody tr th:only-of-type {\n",
       "        vertical-align: middle;\n",
       "    }\n",
       "\n",
       "    .dataframe tbody tr th {\n",
       "        vertical-align: top;\n",
       "    }\n",
       "\n",
       "    .dataframe thead th {\n",
       "        text-align: right;\n",
       "    }\n",
       "</style>\n",
       "<table border=\"1\" class=\"dataframe\">\n",
       "  <thead>\n",
       "    <tr style=\"text-align: right;\">\n",
       "      <th></th>\n",
       "      <th>Unnamed: 0</th>\n",
       "      <th>A</th>\n",
       "      <th>B</th>\n",
       "      <th>C</th>\n",
       "      <th>D</th>\n",
       "    </tr>\n",
       "  </thead>\n",
       "  <tbody>\n",
       "    <tr>\n",
       "      <th>0</th>\n",
       "      <td>2000-01-01</td>\n",
       "      <td>1.353571</td>\n",
       "      <td>-0.474476</td>\n",
       "      <td>0.473053</td>\n",
       "      <td>-0.762977</td>\n",
       "    </tr>\n",
       "    <tr>\n",
       "      <th>1</th>\n",
       "      <td>2000-01-02</td>\n",
       "      <td>1.750633</td>\n",
       "      <td>1.252063</td>\n",
       "      <td>1.190949</td>\n",
       "      <td>-0.212096</td>\n",
       "    </tr>\n",
       "    <tr>\n",
       "      <th>2</th>\n",
       "      <td>2000-01-03</td>\n",
       "      <td>1.948964</td>\n",
       "      <td>1.029362</td>\n",
       "      <td>1.635125</td>\n",
       "      <td>-1.472872</td>\n",
       "    </tr>\n",
       "    <tr>\n",
       "      <th>3</th>\n",
       "      <td>2000-01-04</td>\n",
       "      <td>1.431757</td>\n",
       "      <td>0.399126</td>\n",
       "      <td>-0.434384</td>\n",
       "      <td>-2.137393</td>\n",
       "    </tr>\n",
       "    <tr>\n",
       "      <th>4</th>\n",
       "      <td>2000-01-05</td>\n",
       "      <td>3.101640</td>\n",
       "      <td>0.246260</td>\n",
       "      <td>0.135945</td>\n",
       "      <td>-3.498405</td>\n",
       "    </tr>\n",
       "    <tr>\n",
       "      <th>...</th>\n",
       "      <td>...</td>\n",
       "      <td>...</td>\n",
       "      <td>...</td>\n",
       "      <td>...</td>\n",
       "      <td>...</td>\n",
       "    </tr>\n",
       "    <tr>\n",
       "      <th>995</th>\n",
       "      <td>2002-09-22</td>\n",
       "      <td>6.796192</td>\n",
       "      <td>-41.395372</td>\n",
       "      <td>-15.106262</td>\n",
       "      <td>2.697015</td>\n",
       "    </tr>\n",
       "    <tr>\n",
       "      <th>996</th>\n",
       "      <td>2002-09-23</td>\n",
       "      <td>7.327763</td>\n",
       "      <td>-42.972570</td>\n",
       "      <td>-14.420742</td>\n",
       "      <td>0.345887</td>\n",
       "    </tr>\n",
       "    <tr>\n",
       "      <th>997</th>\n",
       "      <td>2002-09-24</td>\n",
       "      <td>9.316564</td>\n",
       "      <td>-44.785123</td>\n",
       "      <td>-14.340307</td>\n",
       "      <td>1.127663</td>\n",
       "    </tr>\n",
       "    <tr>\n",
       "      <th>998</th>\n",
       "      <td>2002-09-25</td>\n",
       "      <td>8.997117</td>\n",
       "      <td>-45.454543</td>\n",
       "      <td>-15.765460</td>\n",
       "      <td>1.992048</td>\n",
       "    </tr>\n",
       "    <tr>\n",
       "      <th>999</th>\n",
       "      <td>2002-09-26</td>\n",
       "      <td>10.417775</td>\n",
       "      <td>-45.331019</td>\n",
       "      <td>-16.084979</td>\n",
       "      <td>0.906391</td>\n",
       "    </tr>\n",
       "  </tbody>\n",
       "</table>\n",
       "<p>1000 rows × 5 columns</p>\n",
       "</div>"
      ],
      "text/plain": [
       "     Unnamed: 0          A          B          C         D\n",
       "0    2000-01-01   1.353571  -0.474476   0.473053 -0.762977\n",
       "1    2000-01-02   1.750633   1.252063   1.190949 -0.212096\n",
       "2    2000-01-03   1.948964   1.029362   1.635125 -1.472872\n",
       "3    2000-01-04   1.431757   0.399126  -0.434384 -2.137393\n",
       "4    2000-01-05   3.101640   0.246260   0.135945 -3.498405\n",
       "..          ...        ...        ...        ...       ...\n",
       "995  2002-09-22   6.796192 -41.395372 -15.106262  2.697015\n",
       "996  2002-09-23   7.327763 -42.972570 -14.420742  0.345887\n",
       "997  2002-09-24   9.316564 -44.785123 -14.340307  1.127663\n",
       "998  2002-09-25   8.997117 -45.454543 -15.765460  1.992048\n",
       "999  2002-09-26  10.417775 -45.331019 -16.084979  0.906391\n",
       "\n",
       "[1000 rows x 5 columns]"
      ]
     },
     "execution_count": 163,
     "metadata": {
      "tags": []
     },
     "output_type": "execute_result"
    }
   ],
   "source": [
    "pd.read_csv('foo.csv')"
   ]
  },
  {
   "cell_type": "code",
   "execution_count": 164,
   "metadata": {
    "id": "ozzrEIlq6h1g"
   },
   "outputs": [],
   "source": [
    "df.to_excel('foo.xlsx', sheet_name='Sheet1')"
   ]
  },
  {
   "cell_type": "code",
   "execution_count": null,
   "metadata": {
    "id": "1qHZ0ECx6kmA"
   },
   "outputs": [],
   "source": []
  }
 ],
 "metadata": {
  "colab": {
   "collapsed_sections": [],
   "name": "Untitled4.ipynb",
   "provenance": []
  },
  "kernelspec": {
   "display_name": "Python 3",
   "language": "python",
   "name": "python3"
  },
  "language_info": {
   "codemirror_mode": {
    "name": "ipython",
    "version": 3
   },
   "file_extension": ".py",
   "mimetype": "text/x-python",
   "name": "python",
   "nbconvert_exporter": "python",
   "pygments_lexer": "ipython3",
   "version": "3.7.6"
  }
 },
 "nbformat": 4,
 "nbformat_minor": 1
}
