{
 "cells": [
  {
   "cell_type": "markdown",
   "metadata": {},
   "source": [
    "# 참고할만한 자료\n",
    "    - 온라인 무료"
   ]
  },
  {
   "cell_type": "markdown",
   "metadata": {},
   "source": [
    "1. 점프 투 파이썬\n",
    "  - https://wikidocs.net/book/1\n",
    "  ![book image](https://wikidocs.net/images//book/j2p_title_new2_S1JyeeE.jpg)"
   ]
  },
  {
   "cell_type": "markdown",
   "metadata": {},
   "source": [
    "2. 왕초보를 위한 Python\n",
    "  - https://wikidocs.net/book/2\n",
    "  ![book image](https://wikidocs.net/images//book/chobo_python_title.png)"
   ]
  },
  {
   "cell_type": "markdown",
   "metadata": {},
   "source": [
    "3. 파이썬으로 배우는 알고리즘 트레이딩 (개정판-2쇄)\n",
    "  - https://wikidocs.net/book/110\n",
    "  ![book image](https://wikidocs.net/images//book/python_fPnJy3Q.jpg)"
   ]
  }
 ],
 "metadata": {
  "kernelspec": {
   "display_name": "Python 3",
   "language": "python",
   "name": "python3"
  },
  "language_info": {
   "codemirror_mode": {
    "name": "ipython",
    "version": 3
   },
   "file_extension": ".py",
   "mimetype": "text/x-python",
   "name": "python",
   "nbconvert_exporter": "python",
   "pygments_lexer": "ipython3",
   "version": "3.7.9"
  }
 },
 "nbformat": 4,
 "nbformat_minor": 4
}
