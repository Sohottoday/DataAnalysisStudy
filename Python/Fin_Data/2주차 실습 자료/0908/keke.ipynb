{
 "cells": [
  {
   "cell_type": "code",
   "execution_count": 72,
   "metadata": {},
   "outputs": [],
   "source": [
    "#pip install --user --upgrade tensorflow\n",
    "import tensorflow as tf\n",
    "import numpy as np\n",
    "from tensorflow import keras\n",
    "from tensorflow.keras.utils import to_categorical"
   ]
  },
  {
   "cell_type": "code",
   "execution_count": 5,
   "metadata": {},
   "outputs": [],
   "source": [
    "fashion_mnist = keras.datasets.fashion_mnist\n",
    "(X_train_full, y_train_full), (X_test_full,y_test_full) = fashion_mnist.load_data()"
   ]
  },
  {
   "cell_type": "code",
   "execution_count": 6,
   "metadata": {},
   "outputs": [
    {
     "data": {
      "text/plain": [
       "(60000, 28, 28)"
      ]
     },
     "execution_count": 6,
     "metadata": {},
     "output_type": "execute_result"
    }
   ],
   "source": [
    "X_train_full.shape"
   ]
  },
  {
   "cell_type": "code",
   "execution_count": 10,
   "metadata": {},
   "outputs": [
    {
     "data": {
      "text/plain": [
       "(60000,)"
      ]
     },
     "execution_count": 10,
     "metadata": {},
     "output_type": "execute_result"
    }
   ],
   "source": [
    "y_train_full.shape"
   ]
  },
  {
   "cell_type": "code",
   "execution_count": 11,
   "metadata": {},
   "outputs": [
    {
     "data": {
      "text/plain": [
       "(10000, 28, 28)"
      ]
     },
     "execution_count": 11,
     "metadata": {},
     "output_type": "execute_result"
    }
   ],
   "source": [
    "X_test_full.shape"
   ]
  },
  {
   "cell_type": "code",
   "execution_count": 14,
   "metadata": {},
   "outputs": [
    {
     "data": {
      "text/plain": [
       "array([[[  0,   0,   0,   0,   0,   0,   0,   0,   0,   0,   0,   0,\n",
       "           0,   0,   0,   0,   0,   0,   0,   0,   0,   0,   0,   0,\n",
       "           0,   0,   0,   0],\n",
       "        [  0,   0,   0,   0,   0,   0,   0,   0,   0,   0,   0,   0,\n",
       "           0,   0,   0,   0,   0,   0,   0,   0,   0,   0,   0,   0,\n",
       "           0,   0,   0,   0],\n",
       "        [  0,   0,   0,   0,   0,   0,   0,   0,   0,   0,   0,   0,\n",
       "           0,   0,   0,   0,   0,   0,   0,   0,   0,   0,   0,   0,\n",
       "           0,   0,   0,   0],\n",
       "        [  0,   0,   0,   0,   0,   0,   0,   0,   0,   0,   0,   0,\n",
       "           1,   0,   0,  13,  73,   0,   0,   1,   4,   0,   0,   0,\n",
       "           0,   1,   1,   0],\n",
       "        [  0,   0,   0,   0,   0,   0,   0,   0,   0,   0,   0,   0,\n",
       "           3,   0,  36, 136, 127,  62,  54,   0,   0,   0,   1,   3,\n",
       "           4,   0,   0,   3],\n",
       "        [  0,   0,   0,   0,   0,   0,   0,   0,   0,   0,   0,   0,\n",
       "           6,   0, 102, 204, 176, 134, 144, 123,  23,   0,   0,   0,\n",
       "           0,  12,  10,   0],\n",
       "        [  0,   0,   0,   0,   0,   0,   0,   0,   0,   0,   0,   0,\n",
       "           0,   0, 155, 236, 207, 178, 107, 156, 161, 109,  64,  23,\n",
       "          77, 130,  72,  15],\n",
       "        [  0,   0,   0,   0,   0,   0,   0,   0,   0,   0,   0,   1,\n",
       "           0,  69, 207, 223, 218, 216, 216, 163, 127, 121, 122, 146,\n",
       "         141,  88, 172,  66],\n",
       "        [  0,   0,   0,   0,   0,   0,   0,   0,   0,   1,   1,   1,\n",
       "           0, 200, 232, 232, 233, 229, 223, 223, 215, 213, 164, 127,\n",
       "         123, 196, 229,   0],\n",
       "        [  0,   0,   0,   0,   0,   0,   0,   0,   0,   0,   0,   0,\n",
       "           0, 183, 225, 216, 223, 228, 235, 227, 224, 222, 224, 221,\n",
       "         223, 245, 173,   0],\n",
       "        [  0,   0,   0,   0,   0,   0,   0,   0,   0,   0,   0,   0,\n",
       "           0, 193, 228, 218, 213, 198, 180, 212, 210, 211, 213, 223,\n",
       "         220, 243, 202,   0],\n",
       "        [  0,   0,   0,   0,   0,   0,   0,   0,   0,   1,   3,   0,\n",
       "          12, 219, 220, 212, 218, 192, 169, 227, 208, 218, 224, 212,\n",
       "         226, 197, 209,  52],\n",
       "        [  0,   0,   0,   0,   0,   0,   0,   0,   0,   0,   6,   0,\n",
       "          99, 244, 222, 220, 218, 203, 198, 221, 215, 213, 222, 220,\n",
       "         245, 119, 167,  56],\n",
       "        [  0,   0,   0,   0,   0,   0,   0,   0,   0,   4,   0,   0,\n",
       "          55, 236, 228, 230, 228, 240, 232, 213, 218, 223, 234, 217,\n",
       "         217, 209,  92,   0],\n",
       "        [  0,   0,   1,   4,   6,   7,   2,   0,   0,   0,   0,   0,\n",
       "         237, 226, 217, 223, 222, 219, 222, 221, 216, 223, 229, 215,\n",
       "         218, 255,  77,   0],\n",
       "        [  0,   3,   0,   0,   0,   0,   0,   0,   0,  62, 145, 204,\n",
       "         228, 207, 213, 221, 218, 208, 211, 218, 224, 223, 219, 215,\n",
       "         224, 244, 159,   0],\n",
       "        [  0,   0,   0,   0,  18,  44,  82, 107, 189, 228, 220, 222,\n",
       "         217, 226, 200, 205, 211, 230, 224, 234, 176, 188, 250, 248,\n",
       "         233, 238, 215,   0],\n",
       "        [  0,  57, 187, 208, 224, 221, 224, 208, 204, 214, 208, 209,\n",
       "         200, 159, 245, 193, 206, 223, 255, 255, 221, 234, 221, 211,\n",
       "         220, 232, 246,   0],\n",
       "        [  3, 202, 228, 224, 221, 211, 211, 214, 205, 205, 205, 220,\n",
       "         240,  80, 150, 255, 229, 221, 188, 154, 191, 210, 204, 209,\n",
       "         222, 228, 225,   0],\n",
       "        [ 98, 233, 198, 210, 222, 229, 229, 234, 249, 220, 194, 215,\n",
       "         217, 241,  65,  73, 106, 117, 168, 219, 221, 215, 217, 223,\n",
       "         223, 224, 229,  29],\n",
       "        [ 75, 204, 212, 204, 193, 205, 211, 225, 216, 185, 197, 206,\n",
       "         198, 213, 240, 195, 227, 245, 239, 223, 218, 212, 209, 222,\n",
       "         220, 221, 230,  67],\n",
       "        [ 48, 203, 183, 194, 213, 197, 185, 190, 194, 192, 202, 214,\n",
       "         219, 221, 220, 236, 225, 216, 199, 206, 186, 181, 177, 172,\n",
       "         181, 205, 206, 115],\n",
       "        [  0, 122, 219, 193, 179, 171, 183, 196, 204, 210, 213, 207,\n",
       "         211, 210, 200, 196, 194, 191, 195, 191, 198, 192, 176, 156,\n",
       "         167, 177, 210,  92],\n",
       "        [  0,   0,  74, 189, 212, 191, 175, 172, 175, 181, 185, 188,\n",
       "         189, 188, 193, 198, 204, 209, 210, 210, 211, 188, 188, 194,\n",
       "         192, 216, 170,   0],\n",
       "        [  2,   0,   0,   0,  66, 200, 222, 237, 239, 242, 246, 243,\n",
       "         244, 221, 220, 193, 191, 179, 182, 182, 181, 176, 166, 168,\n",
       "          99,  58,   0,   0],\n",
       "        [  0,   0,   0,   0,   0,   0,   0,  40,  61,  44,  72,  41,\n",
       "          35,   0,   0,   0,   0,   0,   0,   0,   0,   0,   0,   0,\n",
       "           0,   0,   0,   0],\n",
       "        [  0,   0,   0,   0,   0,   0,   0,   0,   0,   0,   0,   0,\n",
       "           0,   0,   0,   0,   0,   0,   0,   0,   0,   0,   0,   0,\n",
       "           0,   0,   0,   0],\n",
       "        [  0,   0,   0,   0,   0,   0,   0,   0,   0,   0,   0,   0,\n",
       "           0,   0,   0,   0,   0,   0,   0,   0,   0,   0,   0,   0,\n",
       "           0,   0,   0,   0]]], dtype=uint8)"
      ]
     },
     "execution_count": 14,
     "metadata": {},
     "output_type": "execute_result"
    }
   ],
   "source": [
    "X_train_full[[0]]"
   ]
  },
  {
   "cell_type": "code",
   "execution_count": 16,
   "metadata": {},
   "outputs": [],
   "source": [
    "X_train = X_train_full[:5000]\n",
    "y_train = y_train_full[:5000]\n",
    "X_test = X_test_full[:1000]\n",
    "y_test = y_test_full[:1000]"
   ]
  },
  {
   "cell_type": "code",
   "execution_count": 17,
   "metadata": {},
   "outputs": [],
   "source": [
    "X_train = X_train/255.0\n",
    "X_test = X_test/255.0"
   ]
  },
  {
   "cell_type": "code",
   "execution_count": 18,
   "metadata": {},
   "outputs": [
    {
     "data": {
      "text/plain": [
       "array([[0.        , 0.        , 0.        , 0.        , 0.        ,\n",
       "        0.        , 0.        , 0.        , 0.        , 0.        ,\n",
       "        0.        , 0.        , 0.        , 0.        , 0.        ,\n",
       "        0.        , 0.        , 0.        , 0.        , 0.        ,\n",
       "        0.        , 0.        , 0.        , 0.        , 0.        ,\n",
       "        0.        , 0.        , 0.        ],\n",
       "       [0.        , 0.        , 0.        , 0.        , 0.        ,\n",
       "        0.        , 0.        , 0.        , 0.        , 0.        ,\n",
       "        0.        , 0.        , 0.        , 0.        , 0.        ,\n",
       "        0.        , 0.        , 0.        , 0.        , 0.        ,\n",
       "        0.        , 0.        , 0.        , 0.        , 0.        ,\n",
       "        0.        , 0.        , 0.        ],\n",
       "       [0.        , 0.        , 0.        , 0.        , 0.        ,\n",
       "        0.        , 0.        , 0.        , 0.        , 0.        ,\n",
       "        0.        , 0.        , 0.        , 0.        , 0.        ,\n",
       "        0.        , 0.        , 0.        , 0.        , 0.        ,\n",
       "        0.        , 0.        , 0.        , 0.        , 0.        ,\n",
       "        0.        , 0.        , 0.        ],\n",
       "       [0.        , 0.        , 0.        , 0.        , 0.        ,\n",
       "        0.        , 0.        , 0.        , 0.        , 0.        ,\n",
       "        0.        , 0.        , 0.00392157, 0.        , 0.        ,\n",
       "        0.05098039, 0.28627451, 0.        , 0.        , 0.00392157,\n",
       "        0.01568627, 0.        , 0.        , 0.        , 0.        ,\n",
       "        0.00392157, 0.00392157, 0.        ],\n",
       "       [0.        , 0.        , 0.        , 0.        , 0.        ,\n",
       "        0.        , 0.        , 0.        , 0.        , 0.        ,\n",
       "        0.        , 0.        , 0.01176471, 0.        , 0.14117647,\n",
       "        0.53333333, 0.49803922, 0.24313725, 0.21176471, 0.        ,\n",
       "        0.        , 0.        , 0.00392157, 0.01176471, 0.01568627,\n",
       "        0.        , 0.        , 0.01176471],\n",
       "       [0.        , 0.        , 0.        , 0.        , 0.        ,\n",
       "        0.        , 0.        , 0.        , 0.        , 0.        ,\n",
       "        0.        , 0.        , 0.02352941, 0.        , 0.4       ,\n",
       "        0.8       , 0.69019608, 0.5254902 , 0.56470588, 0.48235294,\n",
       "        0.09019608, 0.        , 0.        , 0.        , 0.        ,\n",
       "        0.04705882, 0.03921569, 0.        ],\n",
       "       [0.        , 0.        , 0.        , 0.        , 0.        ,\n",
       "        0.        , 0.        , 0.        , 0.        , 0.        ,\n",
       "        0.        , 0.        , 0.        , 0.        , 0.60784314,\n",
       "        0.9254902 , 0.81176471, 0.69803922, 0.41960784, 0.61176471,\n",
       "        0.63137255, 0.42745098, 0.25098039, 0.09019608, 0.30196078,\n",
       "        0.50980392, 0.28235294, 0.05882353],\n",
       "       [0.        , 0.        , 0.        , 0.        , 0.        ,\n",
       "        0.        , 0.        , 0.        , 0.        , 0.        ,\n",
       "        0.        , 0.00392157, 0.        , 0.27058824, 0.81176471,\n",
       "        0.8745098 , 0.85490196, 0.84705882, 0.84705882, 0.63921569,\n",
       "        0.49803922, 0.4745098 , 0.47843137, 0.57254902, 0.55294118,\n",
       "        0.34509804, 0.6745098 , 0.25882353],\n",
       "       [0.        , 0.        , 0.        , 0.        , 0.        ,\n",
       "        0.        , 0.        , 0.        , 0.        , 0.00392157,\n",
       "        0.00392157, 0.00392157, 0.        , 0.78431373, 0.90980392,\n",
       "        0.90980392, 0.91372549, 0.89803922, 0.8745098 , 0.8745098 ,\n",
       "        0.84313725, 0.83529412, 0.64313725, 0.49803922, 0.48235294,\n",
       "        0.76862745, 0.89803922, 0.        ],\n",
       "       [0.        , 0.        , 0.        , 0.        , 0.        ,\n",
       "        0.        , 0.        , 0.        , 0.        , 0.        ,\n",
       "        0.        , 0.        , 0.        , 0.71764706, 0.88235294,\n",
       "        0.84705882, 0.8745098 , 0.89411765, 0.92156863, 0.89019608,\n",
       "        0.87843137, 0.87058824, 0.87843137, 0.86666667, 0.8745098 ,\n",
       "        0.96078431, 0.67843137, 0.        ],\n",
       "       [0.        , 0.        , 0.        , 0.        , 0.        ,\n",
       "        0.        , 0.        , 0.        , 0.        , 0.        ,\n",
       "        0.        , 0.        , 0.        , 0.75686275, 0.89411765,\n",
       "        0.85490196, 0.83529412, 0.77647059, 0.70588235, 0.83137255,\n",
       "        0.82352941, 0.82745098, 0.83529412, 0.8745098 , 0.8627451 ,\n",
       "        0.95294118, 0.79215686, 0.        ],\n",
       "       [0.        , 0.        , 0.        , 0.        , 0.        ,\n",
       "        0.        , 0.        , 0.        , 0.        , 0.00392157,\n",
       "        0.01176471, 0.        , 0.04705882, 0.85882353, 0.8627451 ,\n",
       "        0.83137255, 0.85490196, 0.75294118, 0.6627451 , 0.89019608,\n",
       "        0.81568627, 0.85490196, 0.87843137, 0.83137255, 0.88627451,\n",
       "        0.77254902, 0.81960784, 0.20392157],\n",
       "       [0.        , 0.        , 0.        , 0.        , 0.        ,\n",
       "        0.        , 0.        , 0.        , 0.        , 0.        ,\n",
       "        0.02352941, 0.        , 0.38823529, 0.95686275, 0.87058824,\n",
       "        0.8627451 , 0.85490196, 0.79607843, 0.77647059, 0.86666667,\n",
       "        0.84313725, 0.83529412, 0.87058824, 0.8627451 , 0.96078431,\n",
       "        0.46666667, 0.65490196, 0.21960784],\n",
       "       [0.        , 0.        , 0.        , 0.        , 0.        ,\n",
       "        0.        , 0.        , 0.        , 0.        , 0.01568627,\n",
       "        0.        , 0.        , 0.21568627, 0.9254902 , 0.89411765,\n",
       "        0.90196078, 0.89411765, 0.94117647, 0.90980392, 0.83529412,\n",
       "        0.85490196, 0.8745098 , 0.91764706, 0.85098039, 0.85098039,\n",
       "        0.81960784, 0.36078431, 0.        ],\n",
       "       [0.        , 0.        , 0.00392157, 0.01568627, 0.02352941,\n",
       "        0.02745098, 0.00784314, 0.        , 0.        , 0.        ,\n",
       "        0.        , 0.        , 0.92941176, 0.88627451, 0.85098039,\n",
       "        0.8745098 , 0.87058824, 0.85882353, 0.87058824, 0.86666667,\n",
       "        0.84705882, 0.8745098 , 0.89803922, 0.84313725, 0.85490196,\n",
       "        1.        , 0.30196078, 0.        ],\n",
       "       [0.        , 0.01176471, 0.        , 0.        , 0.        ,\n",
       "        0.        , 0.        , 0.        , 0.        , 0.24313725,\n",
       "        0.56862745, 0.8       , 0.89411765, 0.81176471, 0.83529412,\n",
       "        0.86666667, 0.85490196, 0.81568627, 0.82745098, 0.85490196,\n",
       "        0.87843137, 0.8745098 , 0.85882353, 0.84313725, 0.87843137,\n",
       "        0.95686275, 0.62352941, 0.        ],\n",
       "       [0.        , 0.        , 0.        , 0.        , 0.07058824,\n",
       "        0.17254902, 0.32156863, 0.41960784, 0.74117647, 0.89411765,\n",
       "        0.8627451 , 0.87058824, 0.85098039, 0.88627451, 0.78431373,\n",
       "        0.80392157, 0.82745098, 0.90196078, 0.87843137, 0.91764706,\n",
       "        0.69019608, 0.7372549 , 0.98039216, 0.97254902, 0.91372549,\n",
       "        0.93333333, 0.84313725, 0.        ],\n",
       "       [0.        , 0.22352941, 0.73333333, 0.81568627, 0.87843137,\n",
       "        0.86666667, 0.87843137, 0.81568627, 0.8       , 0.83921569,\n",
       "        0.81568627, 0.81960784, 0.78431373, 0.62352941, 0.96078431,\n",
       "        0.75686275, 0.80784314, 0.8745098 , 1.        , 1.        ,\n",
       "        0.86666667, 0.91764706, 0.86666667, 0.82745098, 0.8627451 ,\n",
       "        0.90980392, 0.96470588, 0.        ],\n",
       "       [0.01176471, 0.79215686, 0.89411765, 0.87843137, 0.86666667,\n",
       "        0.82745098, 0.82745098, 0.83921569, 0.80392157, 0.80392157,\n",
       "        0.80392157, 0.8627451 , 0.94117647, 0.31372549, 0.58823529,\n",
       "        1.        , 0.89803922, 0.86666667, 0.7372549 , 0.60392157,\n",
       "        0.74901961, 0.82352941, 0.8       , 0.81960784, 0.87058824,\n",
       "        0.89411765, 0.88235294, 0.        ],\n",
       "       [0.38431373, 0.91372549, 0.77647059, 0.82352941, 0.87058824,\n",
       "        0.89803922, 0.89803922, 0.91764706, 0.97647059, 0.8627451 ,\n",
       "        0.76078431, 0.84313725, 0.85098039, 0.94509804, 0.25490196,\n",
       "        0.28627451, 0.41568627, 0.45882353, 0.65882353, 0.85882353,\n",
       "        0.86666667, 0.84313725, 0.85098039, 0.8745098 , 0.8745098 ,\n",
       "        0.87843137, 0.89803922, 0.11372549],\n",
       "       [0.29411765, 0.8       , 0.83137255, 0.8       , 0.75686275,\n",
       "        0.80392157, 0.82745098, 0.88235294, 0.84705882, 0.7254902 ,\n",
       "        0.77254902, 0.80784314, 0.77647059, 0.83529412, 0.94117647,\n",
       "        0.76470588, 0.89019608, 0.96078431, 0.9372549 , 0.8745098 ,\n",
       "        0.85490196, 0.83137255, 0.81960784, 0.87058824, 0.8627451 ,\n",
       "        0.86666667, 0.90196078, 0.2627451 ],\n",
       "       [0.18823529, 0.79607843, 0.71764706, 0.76078431, 0.83529412,\n",
       "        0.77254902, 0.7254902 , 0.74509804, 0.76078431, 0.75294118,\n",
       "        0.79215686, 0.83921569, 0.85882353, 0.86666667, 0.8627451 ,\n",
       "        0.9254902 , 0.88235294, 0.84705882, 0.78039216, 0.80784314,\n",
       "        0.72941176, 0.70980392, 0.69411765, 0.6745098 , 0.70980392,\n",
       "        0.80392157, 0.80784314, 0.45098039],\n",
       "       [0.        , 0.47843137, 0.85882353, 0.75686275, 0.70196078,\n",
       "        0.67058824, 0.71764706, 0.76862745, 0.8       , 0.82352941,\n",
       "        0.83529412, 0.81176471, 0.82745098, 0.82352941, 0.78431373,\n",
       "        0.76862745, 0.76078431, 0.74901961, 0.76470588, 0.74901961,\n",
       "        0.77647059, 0.75294118, 0.69019608, 0.61176471, 0.65490196,\n",
       "        0.69411765, 0.82352941, 0.36078431],\n",
       "       [0.        , 0.        , 0.29019608, 0.74117647, 0.83137255,\n",
       "        0.74901961, 0.68627451, 0.6745098 , 0.68627451, 0.70980392,\n",
       "        0.7254902 , 0.7372549 , 0.74117647, 0.7372549 , 0.75686275,\n",
       "        0.77647059, 0.8       , 0.81960784, 0.82352941, 0.82352941,\n",
       "        0.82745098, 0.7372549 , 0.7372549 , 0.76078431, 0.75294118,\n",
       "        0.84705882, 0.66666667, 0.        ],\n",
       "       [0.00784314, 0.        , 0.        , 0.        , 0.25882353,\n",
       "        0.78431373, 0.87058824, 0.92941176, 0.9372549 , 0.94901961,\n",
       "        0.96470588, 0.95294118, 0.95686275, 0.86666667, 0.8627451 ,\n",
       "        0.75686275, 0.74901961, 0.70196078, 0.71372549, 0.71372549,\n",
       "        0.70980392, 0.69019608, 0.65098039, 0.65882353, 0.38823529,\n",
       "        0.22745098, 0.        , 0.        ],\n",
       "       [0.        , 0.        , 0.        , 0.        , 0.        ,\n",
       "        0.        , 0.        , 0.15686275, 0.23921569, 0.17254902,\n",
       "        0.28235294, 0.16078431, 0.1372549 , 0.        , 0.        ,\n",
       "        0.        , 0.        , 0.        , 0.        , 0.        ,\n",
       "        0.        , 0.        , 0.        , 0.        , 0.        ,\n",
       "        0.        , 0.        , 0.        ],\n",
       "       [0.        , 0.        , 0.        , 0.        , 0.        ,\n",
       "        0.        , 0.        , 0.        , 0.        , 0.        ,\n",
       "        0.        , 0.        , 0.        , 0.        , 0.        ,\n",
       "        0.        , 0.        , 0.        , 0.        , 0.        ,\n",
       "        0.        , 0.        , 0.        , 0.        , 0.        ,\n",
       "        0.        , 0.        , 0.        ],\n",
       "       [0.        , 0.        , 0.        , 0.        , 0.        ,\n",
       "        0.        , 0.        , 0.        , 0.        , 0.        ,\n",
       "        0.        , 0.        , 0.        , 0.        , 0.        ,\n",
       "        0.        , 0.        , 0.        , 0.        , 0.        ,\n",
       "        0.        , 0.        , 0.        , 0.        , 0.        ,\n",
       "        0.        , 0.        , 0.        ]])"
      ]
     },
     "execution_count": 18,
     "metadata": {},
     "output_type": "execute_result"
    }
   ],
   "source": [
    "X_train[0]"
   ]
  },
  {
   "cell_type": "code",
   "execution_count": 104,
   "metadata": {},
   "outputs": [],
   "source": [
    "%matplotlib inline\n",
    "import matplotlib.pyplot as plt"
   ]
  },
  {
   "cell_type": "code",
   "execution_count": 105,
   "metadata": {},
   "outputs": [
    {
     "data": {
      "text/plain": [
       "(-0.5, 27.5, 27.5, -0.5)"
      ]
     },
     "execution_count": 105,
     "metadata": {},
     "output_type": "execute_result"
    },
    {
     "data": {
      "image/png": "[encoded data removed]",
      "text/plain": [
       "<Figure size 432x288 with 1 Axes>"
      ]
     },
     "metadata": {
      "needs_background": "light"
     },
     "output_type": "display_data"
    }
   ],
   "source": [
    "    plt.imshow(X_train[0],cmap='binary')\n",
    "    plt.axis('off')"
   ]
  },
  {
   "cell_type": "code",
   "execution_count": 41,
   "metadata": {},
   "outputs": [
    {
     "data": {
      "image/png": "[encoded data removed]",
      "text/plain": [
       "<Figure size 432x288 with 10 Axes>"
      ]
     },
     "metadata": {
      "needs_background": "light"
     },
     "output_type": "display_data"
    }
   ],
   "source": [
    "for i in range(1,11):\n",
    "    plt.subplot(3, 5, i)\n",
    "    plt.imshow(X_train[i],cmap='binary')\n",
    "    plt.axis('off')"
   ]
  },
  {
   "cell_type": "code",
   "execution_count": 42,
   "metadata": {},
   "outputs": [],
   "source": [
    "class_names = ['T-shirt','Trouser','Pullover','Dress','Coat',\n",
    "              'Sandal','Shirt','Sneaker','Bag','Ankle boot']"
   ]
  },
  {
   "cell_type": "code",
   "execution_count": 106,
   "metadata": {},
   "outputs": [
    {
     "data": {
      "text/plain": [
       "array([9, 0, 0, ..., 5, 8, 3], dtype=uint8)"
      ]
     },
     "execution_count": 106,
     "metadata": {},
     "output_type": "execute_result"
    }
   ],
   "source": [
    "y_train"
   ]
  },
  {
   "cell_type": "code",
   "execution_count": 46,
   "metadata": {},
   "outputs": [
    {
     "data": {
      "text/plain": [
       "array([[0., 0., 0., ..., 0., 0., 1.],\n",
       "       [1., 0., 0., ..., 0., 0., 0.],\n",
       "       [1., 0., 0., ..., 0., 0., 0.],\n",
       "       ...,\n",
       "       [0., 0., 0., ..., 0., 0., 0.],\n",
       "       [0., 0., 0., ..., 0., 1., 0.],\n",
       "       [0., 0., 0., ..., 0., 0., 0.]], dtype=float32)"
      ]
     },
     "execution_count": 46,
     "metadata": {},
     "output_type": "execute_result"
    }
   ],
   "source": [
    "y_train_01 = to_categorical(y_train)\n",
    "y_train_01"
   ]
  },
  {
   "cell_type": "code",
   "execution_count": 107,
   "metadata": {},
   "outputs": [
    {
     "data": {
      "text/plain": [
       "784"
      ]
     },
     "execution_count": 107,
     "metadata": {},
     "output_type": "execute_result"
    }
   ],
   "source": [
    "28*28"
   ]
  },
  {
   "cell_type": "code",
   "execution_count": 50,
   "metadata": {},
   "outputs": [],
   "source": [
    "model = keras.models.Sequential()\n",
    "model.add(keras.layers.Flatten(input_shape=[28,28]))\n",
    "model.add(keras.layers.Dense(256, activation='relu'))\n",
    "model.add(keras.layers.Dropout(0.6))\n",
    "model.add(keras.layers.Dense(10, activation='softmax'))"
   ]
  },
  {
   "cell_type": "code",
   "execution_count": 109,
   "metadata": {},
   "outputs": [
    {
     "data": {
      "text/plain": [
       "2570"
      ]
     },
     "execution_count": 109,
     "metadata": {},
     "output_type": "execute_result"
    }
   ],
   "source": [
    "256*10+10"
   ]
  },
  {
   "cell_type": "code",
   "execution_count": 51,
   "metadata": {},
   "outputs": [
    {
     "name": "stdout",
     "output_type": "stream",
     "text": [
      "Model: \"sequential_1\"\n",
      "_________________________________________________________________\n",
      "Layer (type)                 Output Shape              Param #   \n",
      "=================================================================\n",
      "flatten_1 (Flatten)          (None, 784)               0         \n",
      "_________________________________________________________________\n",
      "dense_3 (Dense)              (None, 256)               200960    \n",
      "_________________________________________________________________\n",
      "dropout (Dropout)            (None, 256)               0         \n",
      "_________________________________________________________________\n",
      "dense_4 (Dense)              (None, 10)                2570      \n",
      "=================================================================\n",
      "Total params: 203,530\n",
      "Trainable params: 203,530\n",
      "Non-trainable params: 0\n",
      "_________________________________________________________________\n"
     ]
    }
   ],
   "source": [
    "model.summary()"
   ]
  },
  {
   "cell_type": "code",
   "execution_count": 52,
   "metadata": {},
   "outputs": [
    {
     "data": {
      "text/plain": [
       "[<tensorflow.python.keras.layers.core.Flatten at 0x27a0e3cef70>,\n",
       " <tensorflow.python.keras.layers.core.Dense at 0x27a0e1930a0>,\n",
       " <tensorflow.python.keras.layers.core.Dropout at 0x27a0e05f370>,\n",
       " <tensorflow.python.keras.layers.core.Dense at 0x27a0e05f340>]"
      ]
     },
     "execution_count": 52,
     "metadata": {},
     "output_type": "execute_result"
    }
   ],
   "source": [
    "model.layers"
   ]
  },
  {
   "cell_type": "code",
   "execution_count": 101,
   "metadata": {},
   "outputs": [],
   "source": [
    "model.compile(loss='sparse_categorical_crossentropy', \n",
    "             optimizer='adam',\n",
    "              metrics=['accuracy'])"
   ]
  },
  {
   "cell_type": "code",
   "execution_count": 102,
   "metadata": {},
   "outputs": [
    {
     "name": "stdout",
     "output_type": "stream",
     "text": [
      "Epoch 1/30\n",
      "28/28 [==============================] - 0s 6ms/step - loss: 0.6577 - accuracy: 0.7734 - val_loss: 0.5110 - val_accuracy: 0.8287\n",
      "Epoch 2/30\n",
      "28/28 [==============================] - 0s 3ms/step - loss: 0.5979 - accuracy: 0.7920 - val_loss: 0.4838 - val_accuracy: 0.8360\n",
      "Epoch 3/30\n",
      "28/28 [==============================] - 0s 2ms/step - loss: 0.5709 - accuracy: 0.8057 - val_loss: 0.4674 - val_accuracy: 0.8380\n",
      "Epoch 4/30\n",
      "28/28 [==============================] - 0s 2ms/step - loss: 0.5318 - accuracy: 0.8203 - val_loss: 0.4608 - val_accuracy: 0.8367\n",
      "Epoch 5/30\n",
      "28/28 [==============================] - 0s 3ms/step - loss: 0.5089 - accuracy: 0.8191 - val_loss: 0.4514 - val_accuracy: 0.8453\n",
      "Epoch 6/30\n",
      "28/28 [==============================] - 0s 3ms/step - loss: 0.4912 - accuracy: 0.8251 - val_loss: 0.4341 - val_accuracy: 0.8573\n",
      "Epoch 7/30\n",
      "28/28 [==============================] - 0s 3ms/step - loss: 0.4830 - accuracy: 0.8289 - val_loss: 0.4238 - val_accuracy: 0.8547\n",
      "Epoch 8/30\n",
      "28/28 [==============================] - 0s 3ms/step - loss: 0.4590 - accuracy: 0.8440 - val_loss: 0.4139 - val_accuracy: 0.8547\n",
      "Epoch 9/30\n",
      "28/28 [==============================] - 0s 3ms/step - loss: 0.4489 - accuracy: 0.8469 - val_loss: 0.4333 - val_accuracy: 0.8447\n",
      "Epoch 10/30\n",
      "28/28 [==============================] - 0s 3ms/step - loss: 0.4410 - accuracy: 0.8451 - val_loss: 0.4386 - val_accuracy: 0.8467\n",
      "Epoch 11/30\n",
      "28/28 [==============================] - 0s 2ms/step - loss: 0.4320 - accuracy: 0.8531 - val_loss: 0.4118 - val_accuracy: 0.8573\n",
      "Epoch 12/30\n",
      "28/28 [==============================] - 0s 2ms/step - loss: 0.4170 - accuracy: 0.8557 - val_loss: 0.4093 - val_accuracy: 0.8533\n",
      "Epoch 13/30\n",
      "28/28 [==============================] - 0s 3ms/step - loss: 0.4240 - accuracy: 0.8469 - val_loss: 0.4108 - val_accuracy: 0.8600\n",
      "Epoch 14/30\n",
      "28/28 [==============================] - 0s 3ms/step - loss: 0.4064 - accuracy: 0.8569 - val_loss: 0.4012 - val_accuracy: 0.8613\n",
      "Epoch 15/30\n",
      "28/28 [==============================] - 0s 2ms/step - loss: 0.3752 - accuracy: 0.8703 - val_loss: 0.4041 - val_accuracy: 0.8587\n",
      "Epoch 16/30\n",
      "28/28 [==============================] - 0s 2ms/step - loss: 0.3802 - accuracy: 0.8634 - val_loss: 0.3989 - val_accuracy: 0.8620\n",
      "Epoch 17/30\n",
      "28/28 [==============================] - 0s 2ms/step - loss: 0.3677 - accuracy: 0.8706 - val_loss: 0.3954 - val_accuracy: 0.8613\n",
      "Epoch 18/30\n",
      "28/28 [==============================] - 0s 2ms/step - loss: 0.3756 - accuracy: 0.8606 - val_loss: 0.3964 - val_accuracy: 0.8647\n",
      "Epoch 19/30\n",
      "28/28 [==============================] - 0s 2ms/step - loss: 0.3550 - accuracy: 0.8780 - val_loss: 0.3968 - val_accuracy: 0.8680\n",
      "Epoch 20/30\n",
      "28/28 [==============================] - 0s 2ms/step - loss: 0.3660 - accuracy: 0.8683 - val_loss: 0.3947 - val_accuracy: 0.8647\n",
      "Epoch 21/30\n",
      "28/28 [==============================] - 0s 2ms/step - loss: 0.3430 - accuracy: 0.8774 - val_loss: 0.3881 - val_accuracy: 0.8640\n",
      "Epoch 22/30\n",
      "28/28 [==============================] - 0s 3ms/step - loss: 0.3409 - accuracy: 0.8760 - val_loss: 0.3931 - val_accuracy: 0.8607\n",
      "Epoch 23/30\n",
      "28/28 [==============================] - 0s 2ms/step - loss: 0.3286 - accuracy: 0.8843 - val_loss: 0.3809 - val_accuracy: 0.8707\n",
      "Epoch 24/30\n",
      "28/28 [==============================] - 0s 3ms/step - loss: 0.3239 - accuracy: 0.8874 - val_loss: 0.3833 - val_accuracy: 0.8693\n",
      "Epoch 25/30\n",
      "28/28 [==============================] - 0s 3ms/step - loss: 0.3133 - accuracy: 0.8874 - val_loss: 0.4056 - val_accuracy: 0.8620\n",
      "Epoch 26/30\n",
      "28/28 [==============================] - 0s 3ms/step - loss: 0.3226 - accuracy: 0.8860 - val_loss: 0.4053 - val_accuracy: 0.8607\n",
      "Epoch 27/30\n",
      "28/28 [==============================] - 0s 3ms/step - loss: 0.3262 - accuracy: 0.8831 - val_loss: 0.3922 - val_accuracy: 0.8620\n",
      "Epoch 28/30\n",
      "28/28 [==============================] - 0s 2ms/step - loss: 0.3154 - accuracy: 0.8863 - val_loss: 0.3820 - val_accuracy: 0.8713\n",
      "Epoch 29/30\n",
      "28/28 [==============================] - 0s 3ms/step - loss: 0.3018 - accuracy: 0.8943 - val_loss: 0.3805 - val_accuracy: 0.8673\n",
      "Epoch 30/30\n",
      "28/28 [==============================] - 0s 2ms/step - loss: 0.3000 - accuracy: 0.8900 - val_loss: 0.3855 - val_accuracy: 0.8687\n"
     ]
    }
   ],
   "source": [
    "history = model.fit(X_train, y_train,\n",
    "                    batch_size=128, epochs=30,\n",
    "                    validation_split = 0.3)"
   ]
  },
  {
   "cell_type": "code",
   "execution_count": 103,
   "metadata": {},
   "outputs": [
    {
     "name": "stdout",
     "output_type": "stream",
     "text": [
      "32/32 [==============================] - 0s 1ms/step - loss: 0.4373 - accuracy: 0.8430\n"
     ]
    },
    {
     "data": {
      "text/plain": [
       "[0.43730223178863525, 0.8429999947547913]"
      ]
     },
     "execution_count": 103,
     "metadata": {},
     "output_type": "execute_result"
    }
   ],
   "source": [
    "model.evaluate(X_test, y_test)\n",
    "\n"
   ]
  },
  {
   "cell_type": "code",
   "execution_count": 77,
   "metadata": {},
   "outputs": [],
   "source": [
    "model2 = keras.models.Sequential()\n",
    "model2.add(keras.layers.Flatten(input_shape=[28,28]))\n",
    "model2.add(keras.layers.Dense(256, activation='relu'))\n",
    "model2.add(keras.layers.Dropout(0.6))\n",
    "model2.add(keras.layers.Dense(128, activation='relu'))\n",
    "model2.add(keras.layers.Dropout(0.3))\n",
    "model2.add(keras.layers.Dense(10, activation='softmax'))"
   ]
  },
  {
   "cell_type": "code",
   "execution_count": 79,
   "metadata": {},
   "outputs": [
    {
     "name": "stdout",
     "output_type": "stream",
     "text": [
      "Model: \"sequential_3\"\n",
      "_________________________________________________________________\n",
      "Layer (type)                 Output Shape              Param #   \n",
      "=================================================================\n",
      "flatten_3 (Flatten)          (None, 784)               0         \n",
      "_________________________________________________________________\n",
      "dense_8 (Dense)              (None, 256)               200960    \n",
      "_________________________________________________________________\n",
      "dropout_3 (Dropout)          (None, 256)               0         \n",
      "_________________________________________________________________\n",
      "dense_9 (Dense)              (None, 128)               32896     \n",
      "_________________________________________________________________\n",
      "dropout_4 (Dropout)          (None, 128)               0         \n",
      "_________________________________________________________________\n",
      "dense_10 (Dense)             (None, 10)                1290      \n",
      "=================================================================\n",
      "Total params: 235,146\n",
      "Trainable params: 235,146\n",
      "Non-trainable params: 0\n",
      "_________________________________________________________________\n"
     ]
    }
   ],
   "source": [
    "model2.summary()"
   ]
  },
  {
   "cell_type": "code",
   "execution_count": 84,
   "metadata": {},
   "outputs": [],
   "source": [
    "model2.compile(loss='sparse_categorical_crossentropy', \n",
    "             optimizer=keras.optimizers.SGD(learning_rate=0.01),\n",
    "              metrics=['accuracy'])"
   ]
  },
  {
   "cell_type": "code",
   "execution_count": 85,
   "metadata": {},
   "outputs": [
    {
     "name": "stdout",
     "output_type": "stream",
     "text": [
      "Epoch 1/30\n",
      "28/28 [==============================] - 0s 6ms/step - loss: 2.3758 - accuracy: 0.1300 - val_loss: 2.0218 - val_accuracy: 0.3580\n",
      "Epoch 2/30\n",
      "28/28 [==============================] - 0s 2ms/step - loss: 2.0618 - accuracy: 0.2474 - val_loss: 1.7925 - val_accuracy: 0.5560\n",
      "Epoch 3/30\n",
      "28/28 [==============================] - 0s 3ms/step - loss: 1.9002 - accuracy: 0.3200 - val_loss: 1.6069 - val_accuracy: 0.5933\n",
      "Epoch 4/30\n",
      "28/28 [==============================] - 0s 3ms/step - loss: 1.7642 - accuracy: 0.3803 - val_loss: 1.4546 - val_accuracy: 0.6193\n",
      "Epoch 5/30\n",
      "28/28 [==============================] - 0s 2ms/step - loss: 1.6446 - accuracy: 0.4320 - val_loss: 1.3403 - val_accuracy: 0.6253\n",
      "Epoch 6/30\n",
      "28/28 [==============================] - 0s 2ms/step - loss: 1.5556 - accuracy: 0.4560 - val_loss: 1.2456 - val_accuracy: 0.6627\n",
      "Epoch 7/30\n",
      "28/28 [==============================] - 0s 2ms/step - loss: 1.4628 - accuracy: 0.5051 - val_loss: 1.1633 - val_accuracy: 0.6660\n",
      "Epoch 8/30\n",
      "28/28 [==============================] - 0s 2ms/step - loss: 1.4007 - accuracy: 0.5069 - val_loss: 1.1005 - val_accuracy: 0.6787\n",
      "Epoch 9/30\n",
      "28/28 [==============================] - 0s 2ms/step - loss: 1.3359 - accuracy: 0.5366 - val_loss: 1.0503 - val_accuracy: 0.6800\n",
      "Epoch 10/30\n",
      "28/28 [==============================] - 0s 2ms/step - loss: 1.3090 - accuracy: 0.5357 - val_loss: 1.0047 - val_accuracy: 0.6827\n",
      "Epoch 11/30\n",
      "28/28 [==============================] - 0s 2ms/step - loss: 1.2568 - accuracy: 0.5557 - val_loss: 0.9660 - val_accuracy: 0.6933\n",
      "Epoch 12/30\n",
      "28/28 [==============================] - 0s 2ms/step - loss: 1.2049 - accuracy: 0.5754 - val_loss: 0.9324 - val_accuracy: 0.6953\n",
      "Epoch 13/30\n",
      "28/28 [==============================] - 0s 2ms/step - loss: 1.1841 - accuracy: 0.5760 - val_loss: 0.9079 - val_accuracy: 0.7000\n",
      "Epoch 14/30\n",
      "28/28 [==============================] - 0s 2ms/step - loss: 1.1610 - accuracy: 0.5891 - val_loss: 0.8831 - val_accuracy: 0.7240\n",
      "Epoch 15/30\n",
      "28/28 [==============================] - 0s 2ms/step - loss: 1.1216 - accuracy: 0.5963 - val_loss: 0.8602 - val_accuracy: 0.7207\n",
      "Epoch 16/30\n",
      "28/28 [==============================] - 0s 2ms/step - loss: 1.0967 - accuracy: 0.6117 - val_loss: 0.8408 - val_accuracy: 0.7107\n",
      "Epoch 17/30\n",
      "28/28 [==============================] - 0s 2ms/step - loss: 1.0867 - accuracy: 0.6037 - val_loss: 0.8227 - val_accuracy: 0.7167\n",
      "Epoch 18/30\n",
      "28/28 [==============================] - 0s 3ms/step - loss: 1.0601 - accuracy: 0.6240 - val_loss: 0.8047 - val_accuracy: 0.7340\n",
      "Epoch 19/30\n",
      "28/28 [==============================] - 0s 2ms/step - loss: 1.0431 - accuracy: 0.6317 - val_loss: 0.7869 - val_accuracy: 0.7393\n",
      "Epoch 20/30\n",
      "28/28 [==============================] - 0s 3ms/step - loss: 1.0352 - accuracy: 0.6309 - val_loss: 0.7759 - val_accuracy: 0.7367\n",
      "Epoch 21/30\n",
      "28/28 [==============================] - 0s 2ms/step - loss: 1.0006 - accuracy: 0.6483 - val_loss: 0.7629 - val_accuracy: 0.7393\n",
      "Epoch 22/30\n",
      "28/28 [==============================] - 0s 2ms/step - loss: 0.9897 - accuracy: 0.6494 - val_loss: 0.7502 - val_accuracy: 0.7360\n",
      "Epoch 23/30\n",
      "28/28 [==============================] - 0s 2ms/step - loss: 0.9749 - accuracy: 0.6494 - val_loss: 0.7363 - val_accuracy: 0.7487\n",
      "Epoch 24/30\n",
      "28/28 [==============================] - 0s 2ms/step - loss: 0.9626 - accuracy: 0.6603 - val_loss: 0.7269 - val_accuracy: 0.7493\n",
      "Epoch 25/30\n",
      "28/28 [==============================] - 0s 2ms/step - loss: 0.9558 - accuracy: 0.6694 - val_loss: 0.7180 - val_accuracy: 0.7493\n",
      "Epoch 26/30\n",
      "28/28 [==============================] - 0s 2ms/step - loss: 0.9413 - accuracy: 0.6600 - val_loss: 0.7081 - val_accuracy: 0.7520\n",
      "Epoch 27/30\n",
      "28/28 [==============================] - 0s 2ms/step - loss: 0.9242 - accuracy: 0.6700 - val_loss: 0.7021 - val_accuracy: 0.7600\n",
      "Epoch 28/30\n",
      "28/28 [==============================] - 0s 2ms/step - loss: 0.9105 - accuracy: 0.6771 - val_loss: 0.6990 - val_accuracy: 0.7587\n",
      "Epoch 29/30\n",
      "28/28 [==============================] - 0s 2ms/step - loss: 0.9075 - accuracy: 0.6769 - val_loss: 0.6878 - val_accuracy: 0.7600\n",
      "Epoch 30/30\n",
      "28/28 [==============================] - 0s 2ms/step - loss: 0.8892 - accuracy: 0.6809 - val_loss: 0.6785 - val_accuracy: 0.7633\n"
     ]
    }
   ],
   "source": [
    "history = model2.fit(X_train, y_train,\n",
    "                    batch_size=128, epochs=30,\n",
    "                    validation_split = 0.3)"
   ]
  },
  {
   "cell_type": "code",
   "execution_count": 87,
   "metadata": {},
   "outputs": [
    {
     "name": "stdout",
     "output_type": "stream",
     "text": [
      "32/32 [==============================] - 0s 1ms/step - loss: 0.7161 - accuracy: 0.7470\n"
     ]
    },
    {
     "data": {
      "text/plain": [
       "[0.7160685658454895, 0.746999979019165]"
      ]
     },
     "execution_count": 87,
     "metadata": {},
     "output_type": "execute_result"
    }
   ],
   "source": [
    "model2.evaluate(X_test, y_test)"
   ]
  },
  {
   "cell_type": "code",
   "execution_count": 88,
   "metadata": {},
   "outputs": [
    {
     "data": {
      "text/plain": [
       "array([[0.  , 0.  , 0.  , 0.  , 0.  , 0.11, 0.  , 0.21, 0.02, 0.65],\n",
       "       [0.  , 0.  , 0.89, 0.  , 0.02, 0.  , 0.09, 0.  , 0.  , 0.  ],\n",
       "       [0.  , 1.  , 0.  , 0.  , 0.  , 0.  , 0.  , 0.  , 0.  , 0.  ],\n",
       "       [0.  , 0.99, 0.  , 0.  , 0.  , 0.  , 0.  , 0.  , 0.  , 0.  ],\n",
       "       [0.09, 0.  , 0.16, 0.02, 0.03, 0.01, 0.67, 0.  , 0.01, 0.  ],\n",
       "       [0.01, 0.98, 0.  , 0.  , 0.  , 0.  , 0.  , 0.  , 0.  , 0.  ],\n",
       "       [0.07, 0.03, 0.1 , 0.02, 0.55, 0.02, 0.19, 0.  , 0.02, 0.  ],\n",
       "       [0.01, 0.01, 0.16, 0.01, 0.3 , 0.01, 0.48, 0.  , 0.02, 0.  ],\n",
       "       [0.03, 0.02, 0.03, 0.04, 0.03, 0.34, 0.04, 0.34, 0.09, 0.03],\n",
       "       [0.  , 0.  , 0.  , 0.  , 0.  , 0.04, 0.  , 0.94, 0.01, 0.01]],\n",
       "      dtype=float32)"
      ]
     },
     "execution_count": 88,
     "metadata": {},
     "output_type": "execute_result"
    }
   ],
   "source": [
    "X_new = X_test[:10]\n",
    "y_proba = model.predict(X_new)\n",
    "y_proba.round(2)\n"
   ]
  },
  {
   "cell_type": "code",
   "execution_count": 96,
   "metadata": {},
   "outputs": [
    {
     "data": {
      "text/plain": [
       "array([9, 2, 1, 1, 6, 1, 4, 6, 5, 7], dtype=int64)"
      ]
     },
     "execution_count": 96,
     "metadata": {},
     "output_type": "execute_result"
    }
   ],
   "source": [
    "y_pred = model.predict_classes(X_new)\n",
    "y_pred\n",
    "#class_names"
   ]
  },
  {
   "cell_type": "code",
   "execution_count": 97,
   "metadata": {},
   "outputs": [
    {
     "data": {
      "text/plain": [
       "['T-shirt',\n",
       " 'Trouser',\n",
       " 'Pullover',\n",
       " 'Dress',\n",
       " 'Coat',\n",
       " 'Sandal',\n",
       " 'Shirt',\n",
       " 'Sneaker',\n",
       " 'Bag',\n",
       " 'Ankle boot']"
      ]
     },
     "execution_count": 97,
     "metadata": {},
     "output_type": "execute_result"
    }
   ],
   "source": [
    "class_names"
   ]
  },
  {
   "cell_type": "code",
   "execution_count": 98,
   "metadata": {},
   "outputs": [
    {
     "data": {
      "text/plain": [
       "array([9, 2, 1, 1, 6, 1, 4, 6, 5, 7], dtype=uint8)"
      ]
     },
     "execution_count": 98,
     "metadata": {},
     "output_type": "execute_result"
    }
   ],
   "source": [
    "y_test[:10]"
   ]
  },
  {
   "cell_type": "code",
   "execution_count": 94,
   "metadata": {},
   "outputs": [
    {
     "data": {
      "text/plain": [
       "array(['Ankle boot', 'Pullover', 'Trouser', 'Trouser', 'Shirt', 'Trouser',\n",
       "       'Coat', 'Shirt', 'Sandal', 'Sneaker'], dtype='<U10')"
      ]
     },
     "execution_count": 94,
     "metadata": {},
     "output_type": "execute_result"
    }
   ],
   "source": [
    "np.array(class_names)[y_pred]"
   ]
  },
  {
   "cell_type": "code",
   "execution_count": 91,
   "metadata": {},
   "outputs": [
    {
     "data": {
      "image/png": "[encoded data removed]",
      "text/plain": [
       "<Figure size 432x288 with 10 Axes>"
      ]
     },
     "metadata": {
      "needs_background": "light"
     },
     "output_type": "display_data"
    }
   ],
   "source": [
    "for i in [0,1,2,3,4,5,6,7,8,9]:\n",
    "    plt.subplot(2,5,i+1)\n",
    "    plt.imshow(X_new[i], cmap='binary')"
   ]
  },
  {
   "cell_type": "code",
   "execution_count": null,
   "metadata": {},
   "outputs": [],
   "source": []
  }
 ],
 "metadata": {
  "kernelspec": {
   "display_name": "Python 3",
   "language": "python",
   "name": "python3"
  },
  "language_info": {
   "codemirror_mode": {
    "name": "ipython",
    "version": 3
   },
   "file_extension": ".py",
   "mimetype": "text/x-python",
   "name": "python",
   "nbconvert_exporter": "python",
   "pygments_lexer": "ipython3",
   "version": "3.8.3"
  }
 },
 "nbformat": 4,
 "nbformat_minor": 4
}
